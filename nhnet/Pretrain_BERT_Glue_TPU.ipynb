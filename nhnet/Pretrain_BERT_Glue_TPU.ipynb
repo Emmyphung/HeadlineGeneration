{
 "cells": [
  {
   "cell_type": "markdown",
   "metadata": {
    "id": "58MWWgq75lMh"
   },
   "source": [
    "##### Ref: https://colab.research.google.com/github/tensorflow/docs/blob/master/site/en/tutorials/text/solve_glue_tasks_using_bert_on_tpu.ipynb#scrollTo=1s0xpHS-XQcP\n"
   ]
  },
  {
   "cell_type": "code",
   "execution_count": null,
   "metadata": {
    "cellView": "form",
    "id": "jM3hCI1UUzar"
   },
   "outputs": [],
   "source": [
    "#@title Licensed under the Apache License, Version 2.0 (the \"License\");\n",
    "# you may not use this file except in compliance with the License.\n",
    "# You may obtain a copy of the License at\n",
    "#\n",
    "# https://www.apache.org/licenses/LICENSE-2.0\n",
    "#\n",
    "# Unless required by applicable law or agreed to in writing, software\n",
    "# distributed under the License is distributed on an \"AS IS\" BASIS,\n",
    "# WITHOUT WARRANTIES OR CONDITIONS OF ANY KIND, either express or implied.\n",
    "# See the License for the specific language governing permissions and\n",
    "# limitations under the License."
   ]
  },
  {
   "cell_type": "markdown",
   "metadata": {
    "id": "4_NEJlxKKjyI"
   },
   "source": [
    "<table class=\"tfo-notebook-buttons\" align=\"left\">\n",
    "  <td>\n",
    "    <a target=\"_blank\" href=\"https://www.tensorflow.org/tutorials/text/solve_glue_tasks_using_bert_on_tpu\"><img src=\"https://www.tensorflow.org/images/tf_logo_32px.png\" />View on TensorFlow.org</a>\n",
    "  </td>\n",
    "  <td>\n",
    "    <a target=\"_blank\" href=\"https://colab.research.google.com/github/tensorflow/docs/blob/master/site/en/tutorials/text/solve_glue_tasks_using_bert_on_tpu.ipynb\"><img src=\"https://www.tensorflow.org/images/colab_logo_32px.png\" />Run in Google Colab</a>\n",
    "  </td>\n",
    "  <td>\n",
    "    <a target=\"_blank\" href=\"https://github.com/tensorflow/docs/blob/master/site/en/tutorials/text/solve_glue_tasks_using_bert_on_tpu.ipynb\"><img src=\"https://www.tensorflow.org/images/GitHub-Mark-32px.png\" />View on GitHub</a>\n",
    "  </td>\n",
    "  <td>\n",
    "    <a href=\"https://storage.googleapis.com/tensorflow_docs/docs/site/en/tutorials/text/solve_glue_tasks_using_bert_on_tpu.ipynb\"><img src=\"https://www.tensorflow.org/images/download_logo_32px.png\" />Download notebook</a>\n",
    "  </td>\n",
    "  <td>\n",
    "    <a href=\"https://tfhub.dev/google/collections/bert/1\"><img src=\"https://www.tensorflow.org/images/hub_logo_32px.png\" />See TF Hub model</a>\n",
    "  </td>\n",
    "</table>"
   ]
  },
  {
   "cell_type": "markdown",
   "metadata": {
    "id": "U5POcTVNB_dv"
   },
   "source": [
    "# Solve GLUE tasks using BERT on TPU\n",
    "\n",
    "BERT can be used to solve many problems in natural language processing. You will learn how to fine-tune BERT for many tasks from the [GLUE benchmark](https://gluebenchmark.com/):\n",
    "\n",
    "1. [CoLA](https://nyu-mll.github.io/CoLA/) (Corpus of Linguistic Acceptability): Is the sentence grammatically correct?\n",
    "\n",
    "1. [SST-2](https://nlp.stanford.edu/sentiment/index.html) (Stanford Sentiment Treebank): The task is to predict the sentiment of a given sentence.\n",
    "\n",
    "1. [MRPC](https://www.microsoft.com/en-us/download/details.aspx?id=52398) (Microsoft Research Paraphrase Corpus): Determine whether a pair of sentences are semantically equivalent.\n",
    "\n",
    "1. [QQP](https://data.quora.com/First-Quora-Dataset-Release-Question-Pairs) (Quora Question Pairs2): Determine whether a pair of questions are semantically equivalent.\n",
    "\n",
    "1. [MNLI](http://www.nyu.edu/projects/bowman/multinli/) (Multi-Genre Natural Language Inference): Given a premise sentence and a hypothesis sentence, the task is to predict whether the premise entails the hypothesis (entailment), contradicts the hypothesis (contradiction), or neither (neutral).\n",
    "\n",
    "1. [QNLI](https://rajpurkar.github.io/SQuAD-explorer/)(Question-answering Natural Language Inference): The task is to determine whether the context sentence contains the answer to the question.\n",
    "\n",
    "1. [RTE](https://aclweb.org/aclwiki/Recognizing_Textual_Entailment)(Recognizing Textual Entailment): Determine if a sentence entails a given hypothesis or not.\n",
    "\n",
    "1. [WNLI](https://cs.nyu.edu/faculty/davise/papers/WinogradSchemas/WS.html)(Winograd Natural Language Inference): The task is to predict if the sentence with the pronoun substituted is entailed by the original sentence.\n",
    "\n",
    "This tutorial contains complete end-to-end code to train these models on a TPU. You can also run this notebook on a GPU, by changing one line (described below).\n",
    "\n",
    "In this notebook, you will:\n",
    "\n",
    "- Load a BERT model from TensorFlow Hub\n",
    "- Choose one of GLUE tasks and download the dataset\n",
    "- Preprocess the text\n",
    "- Fine-tune BERT (examples are given for single-sentence and multi-sentence datasets)\n",
    "- Save the trained model and use it\n",
    "\n",
    "Key point: The model you develop will be end-to-end. The preprocessing logic will be included in the model itself, making it capable of accepting raw strings as input.\n",
    "\n",
    "Note: This notebook should be run using a TPU. In Colab, choose **Runtime -> Change runtime type** and verify that a **TPU** is selected.\n"
   ]
  },
  {
   "cell_type": "markdown",
   "metadata": {
    "id": "SCjmX4zTCkRK"
   },
   "source": [
    "## Setup\n",
    "\n",
    "You will use a separate model to preprocess text before using it to fine-tune BERT. This model depends on [tensorflow/text](https://github.com/tensorflow/text), which you will install below."
   ]
  },
  {
   "cell_type": "code",
   "execution_count": null,
   "metadata": {
    "colab": {
     "base_uri": "https://localhost:8080/"
    },
    "id": "q-YbjCkzw0yU",
    "outputId": "5e828e4b-7c7f-46a3-9562-1b35445fd9e5"
   },
   "outputs": [
    {
     "name": "stdout",
     "output_type": "stream",
     "text": [
      "\u001b[?25l\r",
      "\u001b[K     |                                | 10kB 15.2MB/s eta 0:00:01\r",
      "\u001b[K     |▏                               | 20kB 20.9MB/s eta 0:00:01\r",
      "\u001b[K     |▎                               | 30kB 13.2MB/s eta 0:00:01\r",
      "\u001b[K     |▍                               | 40kB 10.7MB/s eta 0:00:01\r",
      "\u001b[K     |▌                               | 51kB 5.3MB/s eta 0:00:01\r",
      "\u001b[K     |▋                               | 61kB 5.3MB/s eta 0:00:01\r",
      "\u001b[K     |▊                               | 71kB 6.0MB/s eta 0:00:01\r",
      "\u001b[K     |▉                               | 81kB 6.3MB/s eta 0:00:01\r",
      "\u001b[K     |▉                               | 92kB 6.3MB/s eta 0:00:01\r",
      "\u001b[K     |█                               | 102kB 5.0MB/s eta 0:00:01\r",
      "\u001b[K     |█                               | 112kB 5.0MB/s eta 0:00:01\r",
      "\u001b[K     |█▏                              | 122kB 5.0MB/s eta 0:00:01\r",
      "\u001b[K     |█▎                              | 133kB 5.0MB/s eta 0:00:01\r",
      "\u001b[K     |█▍                              | 143kB 5.0MB/s eta 0:00:01\r",
      "\u001b[K     |█▌                              | 153kB 5.0MB/s eta 0:00:01\r",
      "\u001b[K     |█▋                              | 163kB 5.0MB/s eta 0:00:01\r",
      "\u001b[K     |█▋                              | 174kB 5.0MB/s eta 0:00:01\r",
      "\u001b[K     |█▊                              | 184kB 5.0MB/s eta 0:00:01\r",
      "\u001b[K     |█▉                              | 194kB 5.0MB/s eta 0:00:01\r",
      "\u001b[K     |██                              | 204kB 5.0MB/s eta 0:00:01\r",
      "\u001b[K     |██                              | 215kB 5.0MB/s eta 0:00:01\r",
      "\u001b[K     |██▏                             | 225kB 5.0MB/s eta 0:00:01\r",
      "\u001b[K     |██▎                             | 235kB 5.0MB/s eta 0:00:01\r",
      "\u001b[K     |██▍                             | 245kB 5.0MB/s eta 0:00:01\r",
      "\u001b[K     |██▍                             | 256kB 5.0MB/s eta 0:00:01\r",
      "\u001b[K     |██▌                             | 266kB 5.0MB/s eta 0:00:01\r",
      "\u001b[K     |██▋                             | 276kB 5.0MB/s eta 0:00:01\r",
      "\u001b[K     |██▊                             | 286kB 5.0MB/s eta 0:00:01\r",
      "\u001b[K     |██▉                             | 296kB 5.0MB/s eta 0:00:01\r",
      "\u001b[K     |███                             | 307kB 5.0MB/s eta 0:00:01\r",
      "\u001b[K     |███                             | 317kB 5.0MB/s eta 0:00:01\r",
      "\u001b[K     |███▏                            | 327kB 5.0MB/s eta 0:00:01\r",
      "\u001b[K     |███▏                            | 337kB 5.0MB/s eta 0:00:01\r",
      "\u001b[K     |███▎                            | 348kB 5.0MB/s eta 0:00:01\r",
      "\u001b[K     |███▍                            | 358kB 5.0MB/s eta 0:00:01\r",
      "\u001b[K     |███▌                            | 368kB 5.0MB/s eta 0:00:01\r",
      "\u001b[K     |███▋                            | 378kB 5.0MB/s eta 0:00:01\r",
      "\u001b[K     |███▊                            | 389kB 5.0MB/s eta 0:00:01\r",
      "\u001b[K     |███▉                            | 399kB 5.0MB/s eta 0:00:01\r",
      "\u001b[K     |████                            | 409kB 5.0MB/s eta 0:00:01\r",
      "\u001b[K     |████                            | 419kB 5.0MB/s eta 0:00:01\r",
      "\u001b[K     |████                            | 430kB 5.0MB/s eta 0:00:01\r",
      "\u001b[K     |████▏                           | 440kB 5.0MB/s eta 0:00:01\r",
      "\u001b[K     |████▎                           | 450kB 5.0MB/s eta 0:00:01\r",
      "\u001b[K     |████▍                           | 460kB 5.0MB/s eta 0:00:01\r",
      "\u001b[K     |████▌                           | 471kB 5.0MB/s eta 0:00:01\r",
      "\u001b[K     |████▋                           | 481kB 5.0MB/s eta 0:00:01\r",
      "\u001b[K     |████▊                           | 491kB 5.0MB/s eta 0:00:01\r",
      "\u001b[K     |████▊                           | 501kB 5.0MB/s eta 0:00:01\r",
      "\u001b[K     |████▉                           | 512kB 5.0MB/s eta 0:00:01\r",
      "\u001b[K     |█████                           | 522kB 5.0MB/s eta 0:00:01\r",
      "\u001b[K     |█████                           | 532kB 5.0MB/s eta 0:00:01\r",
      "\u001b[K     |█████▏                          | 542kB 5.0MB/s eta 0:00:01\r",
      "\u001b[K     |█████▎                          | 552kB 5.0MB/s eta 0:00:01\r",
      "\u001b[K     |█████▍                          | 563kB 5.0MB/s eta 0:00:01\r",
      "\u001b[K     |█████▌                          | 573kB 5.0MB/s eta 0:00:01\r",
      "\u001b[K     |█████▌                          | 583kB 5.0MB/s eta 0:00:01\r",
      "\u001b[K     |█████▋                          | 593kB 5.0MB/s eta 0:00:01\r",
      "\u001b[K     |█████▊                          | 604kB 5.0MB/s eta 0:00:01\r",
      "\u001b[K     |█████▉                          | 614kB 5.0MB/s eta 0:00:01\r",
      "\u001b[K     |██████                          | 624kB 5.0MB/s eta 0:00:01\r",
      "\u001b[K     |██████                          | 634kB 5.0MB/s eta 0:00:01\r",
      "\u001b[K     |██████▏                         | 645kB 5.0MB/s eta 0:00:01\r",
      "\u001b[K     |██████▎                         | 655kB 5.0MB/s eta 0:00:01\r",
      "\u001b[K     |██████▎                         | 665kB 5.0MB/s eta 0:00:01\r",
      "\u001b[K     |██████▍                         | 675kB 5.0MB/s eta 0:00:01\r",
      "\u001b[K     |██████▌                         | 686kB 5.0MB/s eta 0:00:01\r",
      "\u001b[K     |██████▋                         | 696kB 5.0MB/s eta 0:00:01\r",
      "\u001b[K     |██████▊                         | 706kB 5.0MB/s eta 0:00:01\r",
      "\u001b[K     |██████▉                         | 716kB 5.0MB/s eta 0:00:01\r",
      "\u001b[K     |███████                         | 727kB 5.0MB/s eta 0:00:01\r",
      "\u001b[K     |███████                         | 737kB 5.0MB/s eta 0:00:01\r",
      "\u001b[K     |███████                         | 747kB 5.0MB/s eta 0:00:01\r",
      "\u001b[K     |███████▏                        | 757kB 5.0MB/s eta 0:00:01\r",
      "\u001b[K     |███████▎                        | 768kB 5.0MB/s eta 0:00:01\r",
      "\u001b[K     |███████▍                        | 778kB 5.0MB/s eta 0:00:01\r",
      "\u001b[K     |███████▌                        | 788kB 5.0MB/s eta 0:00:01\r",
      "\u001b[K     |███████▋                        | 798kB 5.0MB/s eta 0:00:01\r",
      "\u001b[K     |███████▊                        | 808kB 5.0MB/s eta 0:00:01\r",
      "\u001b[K     |███████▉                        | 819kB 5.0MB/s eta 0:00:01\r",
      "\u001b[K     |███████▉                        | 829kB 5.0MB/s eta 0:00:01\r",
      "\u001b[K     |████████                        | 839kB 5.0MB/s eta 0:00:01\r",
      "\u001b[K     |████████                        | 849kB 5.0MB/s eta 0:00:01\r",
      "\u001b[K     |████████▏                       | 860kB 5.0MB/s eta 0:00:01\r",
      "\u001b[K     |████████▎                       | 870kB 5.0MB/s eta 0:00:01\r",
      "\u001b[K     |████████▍                       | 880kB 5.0MB/s eta 0:00:01\r",
      "\u001b[K     |████████▌                       | 890kB 5.0MB/s eta 0:00:01\r",
      "\u001b[K     |████████▋                       | 901kB 5.0MB/s eta 0:00:01\r",
      "\u001b[K     |████████▋                       | 911kB 5.0MB/s eta 0:00:01\r",
      "\u001b[K     |████████▊                       | 921kB 5.0MB/s eta 0:00:01\r",
      "\u001b[K     |████████▉                       | 931kB 5.0MB/s eta 0:00:01\r",
      "\u001b[K     |█████████                       | 942kB 5.0MB/s eta 0:00:01\r",
      "\u001b[K     |█████████                       | 952kB 5.0MB/s eta 0:00:01\r",
      "\u001b[K     |█████████▏                      | 962kB 5.0MB/s eta 0:00:01\r",
      "\u001b[K     |█████████▎                      | 972kB 5.0MB/s eta 0:00:01\r",
      "\u001b[K     |█████████▍                      | 983kB 5.0MB/s eta 0:00:01\r",
      "\u001b[K     |█████████▌                      | 993kB 5.0MB/s eta 0:00:01\r",
      "\u001b[K     |█████████▌                      | 1.0MB 5.0MB/s eta 0:00:01\r",
      "\u001b[K     |█████████▋                      | 1.0MB 5.0MB/s eta 0:00:01\r",
      "\u001b[K     |█████████▊                      | 1.0MB 5.0MB/s eta 0:00:01\r",
      "\u001b[K     |█████████▉                      | 1.0MB 5.0MB/s eta 0:00:01\r",
      "\u001b[K     |██████████                      | 1.0MB 5.0MB/s eta 0:00:01\r",
      "\u001b[K     |██████████                      | 1.1MB 5.0MB/s eta 0:00:01\r",
      "\u001b[K     |██████████▏                     | 1.1MB 5.0MB/s eta 0:00:01\r",
      "\u001b[K     |██████████▎                     | 1.1MB 5.0MB/s eta 0:00:01\r",
      "\u001b[K     |██████████▎                     | 1.1MB 5.0MB/s eta 0:00:01\r",
      "\u001b[K     |██████████▍                     | 1.1MB 5.0MB/s eta 0:00:01\r",
      "\u001b[K     |██████████▌                     | 1.1MB 5.0MB/s eta 0:00:01\r",
      "\u001b[K     |██████████▋                     | 1.1MB 5.0MB/s eta 0:00:01\r",
      "\u001b[K     |██████████▊                     | 1.1MB 5.0MB/s eta 0:00:01\r",
      "\u001b[K     |██████████▉                     | 1.1MB 5.0MB/s eta 0:00:01\r",
      "\u001b[K     |███████████                     | 1.1MB 5.0MB/s eta 0:00:01\r",
      "\u001b[K     |███████████                     | 1.2MB 5.0MB/s eta 0:00:01\r",
      "\u001b[K     |███████████                     | 1.2MB 5.0MB/s eta 0:00:01\r",
      "\u001b[K     |███████████▏                    | 1.2MB 5.0MB/s eta 0:00:01\r",
      "\u001b[K     |███████████▎                    | 1.2MB 5.0MB/s eta 0:00:01\r",
      "\u001b[K     |███████████▍                    | 1.2MB 5.0MB/s eta 0:00:01\r",
      "\u001b[K     |███████████▌                    | 1.2MB 5.0MB/s eta 0:00:01\r",
      "\u001b[K     |███████████▋                    | 1.2MB 5.0MB/s eta 0:00:01\r",
      "\u001b[K     |███████████▊                    | 1.2MB 5.0MB/s eta 0:00:01\r",
      "\u001b[K     |███████████▉                    | 1.2MB 5.0MB/s eta 0:00:01\r",
      "\u001b[K     |███████████▉                    | 1.2MB 5.0MB/s eta 0:00:01\r",
      "\u001b[K     |████████████                    | 1.3MB 5.0MB/s eta 0:00:01\r",
      "\u001b[K     |████████████                    | 1.3MB 5.0MB/s eta 0:00:01\r",
      "\u001b[K     |████████████▏                   | 1.3MB 5.0MB/s eta 0:00:01\r",
      "\u001b[K     |████████████▎                   | 1.3MB 5.0MB/s eta 0:00:01\r",
      "\u001b[K     |████████████▍                   | 1.3MB 5.0MB/s eta 0:00:01\r",
      "\u001b[K     |████████████▌                   | 1.3MB 5.0MB/s eta 0:00:01\r",
      "\u001b[K     |████████████▋                   | 1.3MB 5.0MB/s eta 0:00:01\r",
      "\u001b[K     |████████████▋                   | 1.3MB 5.0MB/s eta 0:00:01\r",
      "\u001b[K     |████████████▊                   | 1.3MB 5.0MB/s eta 0:00:01\r",
      "\u001b[K     |████████████▉                   | 1.4MB 5.0MB/s eta 0:00:01\r",
      "\u001b[K     |█████████████                   | 1.4MB 5.0MB/s eta 0:00:01\r",
      "\u001b[K     |█████████████                   | 1.4MB 5.0MB/s eta 0:00:01\r",
      "\u001b[K     |█████████████▏                  | 1.4MB 5.0MB/s eta 0:00:01\r",
      "\u001b[K     |█████████████▎                  | 1.4MB 5.0MB/s eta 0:00:01\r",
      "\u001b[K     |█████████████▍                  | 1.4MB 5.0MB/s eta 0:00:01\r",
      "\u001b[K     |█████████████▍                  | 1.4MB 5.0MB/s eta 0:00:01\r",
      "\u001b[K     |█████████████▌                  | 1.4MB 5.0MB/s eta 0:00:01\r",
      "\u001b[K     |█████████████▋                  | 1.4MB 5.0MB/s eta 0:00:01\r",
      "\u001b[K     |█████████████▊                  | 1.4MB 5.0MB/s eta 0:00:01\r",
      "\u001b[K     |█████████████▉                  | 1.5MB 5.0MB/s eta 0:00:01\r",
      "\u001b[K     |██████████████                  | 1.5MB 5.0MB/s eta 0:00:01\r",
      "\u001b[K     |██████████████                  | 1.5MB 5.0MB/s eta 0:00:01\r",
      "\u001b[K     |██████████████▏                 | 1.5MB 5.0MB/s eta 0:00:01\r",
      "\u001b[K     |██████████████▏                 | 1.5MB 5.0MB/s eta 0:00:01\r",
      "\u001b[K     |██████████████▎                 | 1.5MB 5.0MB/s eta 0:00:01\r",
      "\u001b[K     |██████████████▍                 | 1.5MB 5.0MB/s eta 0:00:01\r",
      "\u001b[K     |██████████████▌                 | 1.5MB 5.0MB/s eta 0:00:01\r",
      "\u001b[K     |██████████████▋                 | 1.5MB 5.0MB/s eta 0:00:01\r",
      "\u001b[K     |██████████████▊                 | 1.5MB 5.0MB/s eta 0:00:01\r",
      "\u001b[K     |██████████████▉                 | 1.6MB 5.0MB/s eta 0:00:01\r",
      "\u001b[K     |███████████████                 | 1.6MB 5.0MB/s eta 0:00:01\r",
      "\u001b[K     |███████████████                 | 1.6MB 5.0MB/s eta 0:00:01\r",
      "\u001b[K     |███████████████                 | 1.6MB 5.0MB/s eta 0:00:01\r",
      "\u001b[K     |███████████████▏                | 1.6MB 5.0MB/s eta 0:00:01\r",
      "\u001b[K     |███████████████▎                | 1.6MB 5.0MB/s eta 0:00:01\r",
      "\u001b[K     |███████████████▍                | 1.6MB 5.0MB/s eta 0:00:01\r",
      "\u001b[K     |███████████████▌                | 1.6MB 5.0MB/s eta 0:00:01\r",
      "\u001b[K     |███████████████▋                | 1.6MB 5.0MB/s eta 0:00:01\r",
      "\u001b[K     |███████████████▊                | 1.6MB 5.0MB/s eta 0:00:01\r",
      "\u001b[K     |███████████████▊                | 1.7MB 5.0MB/s eta 0:00:01\r",
      "\u001b[K     |███████████████▉                | 1.7MB 5.0MB/s eta 0:00:01\r",
      "\u001b[K     |████████████████                | 1.7MB 5.0MB/s eta 0:00:01\r",
      "\u001b[K     |████████████████                | 1.7MB 5.0MB/s eta 0:00:01\r",
      "\u001b[K     |████████████████▏               | 1.7MB 5.0MB/s eta 0:00:01\r",
      "\u001b[K     |████████████████▎               | 1.7MB 5.0MB/s eta 0:00:01\r",
      "\u001b[K     |████████████████▍               | 1.7MB 5.0MB/s eta 0:00:01\r",
      "\u001b[K     |████████████████▌               | 1.7MB 5.0MB/s eta 0:00:01\r",
      "\u001b[K     |████████████████▌               | 1.7MB 5.0MB/s eta 0:00:01\r",
      "\u001b[K     |████████████████▋               | 1.8MB 5.0MB/s eta 0:00:01\r",
      "\u001b[K     |████████████████▊               | 1.8MB 5.0MB/s eta 0:00:01\r",
      "\u001b[K     |████████████████▉               | 1.8MB 5.0MB/s eta 0:00:01\r",
      "\u001b[K     |█████████████████               | 1.8MB 5.0MB/s eta 0:00:01\r",
      "\u001b[K     |█████████████████               | 1.8MB 5.0MB/s eta 0:00:01\r",
      "\u001b[K     |█████████████████▏              | 1.8MB 5.0MB/s eta 0:00:01\r",
      "\u001b[K     |█████████████████▎              | 1.8MB 5.0MB/s eta 0:00:01\r",
      "\u001b[K     |█████████████████▎              | 1.8MB 5.0MB/s eta 0:00:01\r",
      "\u001b[K     |█████████████████▍              | 1.8MB 5.0MB/s eta 0:00:01\r",
      "\u001b[K     |█████████████████▌              | 1.8MB 5.0MB/s eta 0:00:01\r",
      "\u001b[K     |█████████████████▋              | 1.9MB 5.0MB/s eta 0:00:01\r",
      "\u001b[K     |█████████████████▊              | 1.9MB 5.0MB/s eta 0:00:01\r",
      "\u001b[K     |█████████████████▉              | 1.9MB 5.0MB/s eta 0:00:01\r",
      "\u001b[K     |██████████████████              | 1.9MB 5.0MB/s eta 0:00:01\r",
      "\u001b[K     |██████████████████              | 1.9MB 5.0MB/s eta 0:00:01\r",
      "\u001b[K     |██████████████████              | 1.9MB 5.0MB/s eta 0:00:01\r",
      "\u001b[K     |██████████████████▏             | 1.9MB 5.0MB/s eta 0:00:01\r",
      "\u001b[K     |██████████████████▎             | 1.9MB 5.0MB/s eta 0:00:01\r",
      "\u001b[K     |██████████████████▍             | 1.9MB 5.0MB/s eta 0:00:01\r",
      "\u001b[K     |██████████████████▌             | 1.9MB 5.0MB/s eta 0:00:01\r",
      "\u001b[K     |██████████████████▋             | 2.0MB 5.0MB/s eta 0:00:01\r",
      "\u001b[K     |██████████████████▊             | 2.0MB 5.0MB/s eta 0:00:01\r",
      "\u001b[K     |██████████████████▉             | 2.0MB 5.0MB/s eta 0:00:01\r",
      "\u001b[K     |███████████████████             | 2.0MB 5.0MB/s eta 0:00:01\r",
      "\u001b[K     |███████████████████             | 2.0MB 5.0MB/s eta 0:00:01\r",
      "\u001b[K     |███████████████████             | 2.0MB 5.0MB/s eta 0:00:01\r",
      "\u001b[K     |███████████████████▏            | 2.0MB 5.0MB/s eta 0:00:01\r",
      "\u001b[K     |███████████████████▎            | 2.0MB 5.0MB/s eta 0:00:01\r",
      "\u001b[K     |███████████████████▍            | 2.0MB 5.0MB/s eta 0:00:01\r",
      "\u001b[K     |███████████████████▌            | 2.0MB 5.0MB/s eta 0:00:01\r",
      "\u001b[K     |███████████████████▋            | 2.1MB 5.0MB/s eta 0:00:01\r",
      "\u001b[K     |███████████████████▊            | 2.1MB 5.0MB/s eta 0:00:01\r",
      "\u001b[K     |███████████████████▊            | 2.1MB 5.0MB/s eta 0:00:01\r",
      "\u001b[K     |███████████████████▉            | 2.1MB 5.0MB/s eta 0:00:01\r",
      "\u001b[K     |████████████████████            | 2.1MB 5.0MB/s eta 0:00:01\r",
      "\u001b[K     |████████████████████            | 2.1MB 5.0MB/s eta 0:00:01\r",
      "\u001b[K     |████████████████████▏           | 2.1MB 5.0MB/s eta 0:00:01\r",
      "\u001b[K     |████████████████████▎           | 2.1MB 5.0MB/s eta 0:00:01\r",
      "\u001b[K     |████████████████████▍           | 2.1MB 5.0MB/s eta 0:00:01\r",
      "\u001b[K     |████████████████████▌           | 2.2MB 5.0MB/s eta 0:00:01\r",
      "\u001b[K     |████████████████████▌           | 2.2MB 5.0MB/s eta 0:00:01\r",
      "\u001b[K     |████████████████████▋           | 2.2MB 5.0MB/s eta 0:00:01\r",
      "\u001b[K     |████████████████████▊           | 2.2MB 5.0MB/s eta 0:00:01\r",
      "\u001b[K     |████████████████████▉           | 2.2MB 5.0MB/s eta 0:00:01\r",
      "\u001b[K     |█████████████████████           | 2.2MB 5.0MB/s eta 0:00:01\r",
      "\u001b[K     |█████████████████████           | 2.2MB 5.0MB/s eta 0:00:01\r",
      "\u001b[K     |█████████████████████▏          | 2.2MB 5.0MB/s eta 0:00:01\r",
      "\u001b[K     |█████████████████████▎          | 2.2MB 5.0MB/s eta 0:00:01\r",
      "\u001b[K     |█████████████████████▎          | 2.2MB 5.0MB/s eta 0:00:01\r",
      "\u001b[K     |█████████████████████▍          | 2.3MB 5.0MB/s eta 0:00:01\r",
      "\u001b[K     |█████████████████████▌          | 2.3MB 5.0MB/s eta 0:00:01\r",
      "\u001b[K     |█████████████████████▋          | 2.3MB 5.0MB/s eta 0:00:01\r",
      "\u001b[K     |█████████████████████▊          | 2.3MB 5.0MB/s eta 0:00:01\r",
      "\u001b[K     |█████████████████████▉          | 2.3MB 5.0MB/s eta 0:00:01\r",
      "\u001b[K     |██████████████████████          | 2.3MB 5.0MB/s eta 0:00:01\r",
      "\u001b[K     |██████████████████████          | 2.3MB 5.0MB/s eta 0:00:01\r",
      "\u001b[K     |██████████████████████          | 2.3MB 5.0MB/s eta 0:00:01\r",
      "\u001b[K     |██████████████████████▏         | 2.3MB 5.0MB/s eta 0:00:01\r",
      "\u001b[K     |██████████████████████▎         | 2.3MB 5.0MB/s eta 0:00:01\r",
      "\u001b[K     |██████████████████████▍         | 2.4MB 5.0MB/s eta 0:00:01\r",
      "\u001b[K     |██████████████████████▌         | 2.4MB 5.0MB/s eta 0:00:01\r",
      "\u001b[K     |██████████████████████▋         | 2.4MB 5.0MB/s eta 0:00:01\r",
      "\u001b[K     |██████████████████████▊         | 2.4MB 5.0MB/s eta 0:00:01\r",
      "\u001b[K     |██████████████████████▉         | 2.4MB 5.0MB/s eta 0:00:01\r",
      "\u001b[K     |██████████████████████▉         | 2.4MB 5.0MB/s eta 0:00:01\r",
      "\u001b[K     |███████████████████████         | 2.4MB 5.0MB/s eta 0:00:01\r",
      "\u001b[K     |███████████████████████         | 2.4MB 5.0MB/s eta 0:00:01\r",
      "\u001b[K     |███████████████████████▏        | 2.4MB 5.0MB/s eta 0:00:01\r",
      "\u001b[K     |███████████████████████▎        | 2.4MB 5.0MB/s eta 0:00:01\r",
      "\u001b[K     |███████████████████████▍        | 2.5MB 5.0MB/s eta 0:00:01\r",
      "\u001b[K     |███████████████████████▌        | 2.5MB 5.0MB/s eta 0:00:01\r",
      "\u001b[K     |███████████████████████▋        | 2.5MB 5.0MB/s eta 0:00:01\r",
      "\u001b[K     |███████████████████████▋        | 2.5MB 5.0MB/s eta 0:00:01\r",
      "\u001b[K     |███████████████████████▊        | 2.5MB 5.0MB/s eta 0:00:01\r",
      "\u001b[K     |███████████████████████▉        | 2.5MB 5.0MB/s eta 0:00:01\r",
      "\u001b[K     |████████████████████████        | 2.5MB 5.0MB/s eta 0:00:01\r",
      "\u001b[K     |████████████████████████        | 2.5MB 5.0MB/s eta 0:00:01\r",
      "\u001b[K     |████████████████████████▏       | 2.5MB 5.0MB/s eta 0:00:01\r",
      "\u001b[K     |████████████████████████▎       | 2.5MB 5.0MB/s eta 0:00:01\r",
      "\u001b[K     |████████████████████████▍       | 2.6MB 5.0MB/s eta 0:00:01\r",
      "\u001b[K     |████████████████████████▍       | 2.6MB 5.0MB/s eta 0:00:01\r",
      "\u001b[K     |████████████████████████▌       | 2.6MB 5.0MB/s eta 0:00:01\r",
      "\u001b[K     |████████████████████████▋       | 2.6MB 5.0MB/s eta 0:00:01\r",
      "\u001b[K     |████████████████████████▊       | 2.6MB 5.0MB/s eta 0:00:01\r",
      "\u001b[K     |████████████████████████▉       | 2.6MB 5.0MB/s eta 0:00:01\r",
      "\u001b[K     |█████████████████████████       | 2.6MB 5.0MB/s eta 0:00:01\r",
      "\u001b[K     |█████████████████████████       | 2.6MB 5.0MB/s eta 0:00:01\r",
      "\u001b[K     |█████████████████████████▏      | 2.6MB 5.0MB/s eta 0:00:01\r",
      "\u001b[K     |█████████████████████████▏      | 2.7MB 5.0MB/s eta 0:00:01\r",
      "\u001b[K     |█████████████████████████▎      | 2.7MB 5.0MB/s eta 0:00:01\r",
      "\u001b[K     |█████████████████████████▍      | 2.7MB 5.0MB/s eta 0:00:01\r",
      "\u001b[K     |█████████████████████████▌      | 2.7MB 5.0MB/s eta 0:00:01\r",
      "\u001b[K     |█████████████████████████▋      | 2.7MB 5.0MB/s eta 0:00:01\r",
      "\u001b[K     |█████████████████████████▊      | 2.7MB 5.0MB/s eta 0:00:01\r",
      "\u001b[K     |█████████████████████████▉      | 2.7MB 5.0MB/s eta 0:00:01\r",
      "\u001b[K     |██████████████████████████      | 2.7MB 5.0MB/s eta 0:00:01\r",
      "\u001b[K     |██████████████████████████      | 2.7MB 5.0MB/s eta 0:00:01\r",
      "\u001b[K     |██████████████████████████      | 2.7MB 5.0MB/s eta 0:00:01\r",
      "\u001b[K     |██████████████████████████▏     | 2.8MB 5.0MB/s eta 0:00:01\r",
      "\u001b[K     |██████████████████████████▎     | 2.8MB 5.0MB/s eta 0:00:01\r",
      "\u001b[K     |██████████████████████████▍     | 2.8MB 5.0MB/s eta 0:00:01\r",
      "\u001b[K     |██████████████████████████▌     | 2.8MB 5.0MB/s eta 0:00:01\r",
      "\u001b[K     |██████████████████████████▋     | 2.8MB 5.0MB/s eta 0:00:01\r",
      "\u001b[K     |██████████████████████████▊     | 2.8MB 5.0MB/s eta 0:00:01\r",
      "\u001b[K     |██████████████████████████▊     | 2.8MB 5.0MB/s eta 0:00:01\r",
      "\u001b[K     |██████████████████████████▉     | 2.8MB 5.0MB/s eta 0:00:01\r",
      "\u001b[K     |███████████████████████████     | 2.8MB 5.0MB/s eta 0:00:01\r",
      "\u001b[K     |███████████████████████████     | 2.8MB 5.0MB/s eta 0:00:01\r",
      "\u001b[K     |███████████████████████████▏    | 2.9MB 5.0MB/s eta 0:00:01\r",
      "\u001b[K     |███████████████████████████▎    | 2.9MB 5.0MB/s eta 0:00:01\r",
      "\u001b[K     |███████████████████████████▍    | 2.9MB 5.0MB/s eta 0:00:01\r",
      "\u001b[K     |███████████████████████████▌    | 2.9MB 5.0MB/s eta 0:00:01\r",
      "\u001b[K     |███████████████████████████▌    | 2.9MB 5.0MB/s eta 0:00:01\r",
      "\u001b[K     |███████████████████████████▋    | 2.9MB 5.0MB/s eta 0:00:01\r",
      "\u001b[K     |███████████████████████████▊    | 2.9MB 5.0MB/s eta 0:00:01\r",
      "\u001b[K     |███████████████████████████▉    | 2.9MB 5.0MB/s eta 0:00:01\r",
      "\u001b[K     |████████████████████████████    | 2.9MB 5.0MB/s eta 0:00:01\r",
      "\u001b[K     |████████████████████████████    | 2.9MB 5.0MB/s eta 0:00:01\r",
      "\u001b[K     |████████████████████████████▏   | 3.0MB 5.0MB/s eta 0:00:01\r",
      "\u001b[K     |████████████████████████████▎   | 3.0MB 5.0MB/s eta 0:00:01\r",
      "\u001b[K     |████████████████████████████▍   | 3.0MB 5.0MB/s eta 0:00:01\r",
      "\u001b[K     |████████████████████████████▍   | 3.0MB 5.0MB/s eta 0:00:01\r",
      "\u001b[K     |████████████████████████████▌   | 3.0MB 5.0MB/s eta 0:00:01\r",
      "\u001b[K     |████████████████████████████▋   | 3.0MB 5.0MB/s eta 0:00:01\r",
      "\u001b[K     |████████████████████████████▊   | 3.0MB 5.0MB/s eta 0:00:01\r",
      "\u001b[K     |████████████████████████████▉   | 3.0MB 5.0MB/s eta 0:00:01\r",
      "\u001b[K     |█████████████████████████████   | 3.0MB 5.0MB/s eta 0:00:01\r",
      "\u001b[K     |█████████████████████████████   | 3.1MB 5.0MB/s eta 0:00:01\r",
      "\u001b[K     |█████████████████████████████▏  | 3.1MB 5.0MB/s eta 0:00:01\r",
      "\u001b[K     |█████████████████████████████▏  | 3.1MB 5.0MB/s eta 0:00:01\r",
      "\u001b[K     |█████████████████████████████▎  | 3.1MB 5.0MB/s eta 0:00:01\r",
      "\u001b[K     |█████████████████████████████▍  | 3.1MB 5.0MB/s eta 0:00:01\r",
      "\u001b[K     |█████████████████████████████▌  | 3.1MB 5.0MB/s eta 0:00:01\r",
      "\u001b[K     |█████████████████████████████▋  | 3.1MB 5.0MB/s eta 0:00:01\r",
      "\u001b[K     |█████████████████████████████▊  | 3.1MB 5.0MB/s eta 0:00:01\r",
      "\u001b[K     |█████████████████████████████▉  | 3.1MB 5.0MB/s eta 0:00:01\r",
      "\u001b[K     |██████████████████████████████  | 3.1MB 5.0MB/s eta 0:00:01\r",
      "\u001b[K     |██████████████████████████████  | 3.2MB 5.0MB/s eta 0:00:01\r",
      "\u001b[K     |██████████████████████████████  | 3.2MB 5.0MB/s eta 0:00:01\r",
      "\u001b[K     |██████████████████████████████▏ | 3.2MB 5.0MB/s eta 0:00:01\r",
      "\u001b[K     |██████████████████████████████▎ | 3.2MB 5.0MB/s eta 0:00:01\r",
      "\u001b[K     |██████████████████████████████▍ | 3.2MB 5.0MB/s eta 0:00:01\r",
      "\u001b[K     |██████████████████████████████▌ | 3.2MB 5.0MB/s eta 0:00:01\r",
      "\u001b[K     |██████████████████████████████▋ | 3.2MB 5.0MB/s eta 0:00:01\r",
      "\u001b[K     |██████████████████████████████▊ | 3.2MB 5.0MB/s eta 0:00:01\r",
      "\u001b[K     |██████████████████████████████▊ | 3.2MB 5.0MB/s eta 0:00:01\r",
      "\u001b[K     |██████████████████████████████▉ | 3.2MB 5.0MB/s eta 0:00:01\r",
      "\u001b[K     |███████████████████████████████ | 3.3MB 5.0MB/s eta 0:00:01\r",
      "\u001b[K     |███████████████████████████████ | 3.3MB 5.0MB/s eta 0:00:01\r",
      "\u001b[K     |███████████████████████████████▏| 3.3MB 5.0MB/s eta 0:00:01\r",
      "\u001b[K     |███████████████████████████████▎| 3.3MB 5.0MB/s eta 0:00:01\r",
      "\u001b[K     |███████████████████████████████▍| 3.3MB 5.0MB/s eta 0:00:01\r",
      "\u001b[K     |███████████████████████████████▌| 3.3MB 5.0MB/s eta 0:00:01\r",
      "\u001b[K     |███████████████████████████████▌| 3.3MB 5.0MB/s eta 0:00:01\r",
      "\u001b[K     |███████████████████████████████▋| 3.3MB 5.0MB/s eta 0:00:01\r",
      "\u001b[K     |███████████████████████████████▊| 3.3MB 5.0MB/s eta 0:00:01\r",
      "\u001b[K     |███████████████████████████████▉| 3.3MB 5.0MB/s eta 0:00:01\r",
      "\u001b[K     |████████████████████████████████| 3.4MB 5.0MB/s eta 0:00:01\r",
      "\u001b[K     |████████████████████████████████| 3.4MB 5.0MB/s \n",
      "\u001b[?25h"
     ]
    }
   ],
   "source": [
    "!pip install -q -U tensorflow-text"
   ]
  },
  {
   "cell_type": "markdown",
   "metadata": {
    "id": "WMaudPO1a2Hx"
   },
   "source": [
    "You will use the AdamW optimizer from [tensorflow/models](https://github.com/tensorflow/models) to fine-tune BERT, which you will install as well."
   ]
  },
  {
   "cell_type": "code",
   "execution_count": null,
   "metadata": {
    "colab": {
     "base_uri": "https://localhost:8080/"
    },
    "id": "5zwJyopqa3uH",
    "outputId": "93c57735-d5d2-496c-f15b-9d15fcf1a132"
   },
   "outputs": [
    {
     "name": "stdout",
     "output_type": "stream",
     "text": [
      "\u001b[K     |████████████████████████████████| 1.1MB 5.1MB/s \n",
      "\u001b[K     |████████████████████████████████| 645kB 17.9MB/s \n",
      "\u001b[K     |████████████████████████████████| 51kB 5.8MB/s \n",
      "\u001b[K     |████████████████████████████████| 38.2MB 104kB/s \n",
      "\u001b[K     |████████████████████████████████| 1.2MB 34.0MB/s \n",
      "\u001b[K     |████████████████████████████████| 102kB 10.1MB/s \n",
      "\u001b[K     |████████████████████████████████| 174kB 53.0MB/s \n",
      "\u001b[K     |████████████████████████████████| 358kB 48.7MB/s \n",
      "\u001b[K     |████████████████████████████████| 706kB 38.4MB/s \n",
      "\u001b[?25h  Building wheel for seqeval (setup.py) ... \u001b[?25l\u001b[?25hdone\n",
      "  Building wheel for py-cpuinfo (setup.py) ... \u001b[?25l\u001b[?25hdone\n"
     ]
    }
   ],
   "source": [
    "!pip install -q -U tf-models-official"
   ]
  },
  {
   "cell_type": "code",
   "execution_count": null,
   "metadata": {
    "colab": {
     "base_uri": "https://localhost:8080/"
    },
    "id": "Kx_Acxvo1nje",
    "outputId": "739cdc84-6f1c-403d-8609-158da3bc1bd4"
   },
   "outputs": [
    {
     "name": "stdout",
     "output_type": "stream",
     "text": [
      "Collecting tfds-nightly\n",
      "\u001b[?25l  Downloading https://files.pythonhosted.org/packages/cb/9e/62218c177401c8dfaaa0851bfbf132b1c4fbe5fbf2770ed04f02d49af574/tfds_nightly-4.3.0.dev202105100107-py3-none-any.whl (3.9MB)\n",
      "\u001b[K     |████████████████████████████████| 3.9MB 6.9MB/s \n",
      "\u001b[?25hRequirement already satisfied, skipping upgrade: termcolor in /usr/local/lib/python3.7/dist-packages (from tfds-nightly) (1.1.0)\n",
      "Requirement already satisfied, skipping upgrade: importlib-resources; python_version < \"3.9\" in /usr/local/lib/python3.7/dist-packages (from tfds-nightly) (5.1.2)\n",
      "Requirement already satisfied, skipping upgrade: tensorflow-metadata in /usr/local/lib/python3.7/dist-packages (from tfds-nightly) (0.29.0)\n",
      "Requirement already satisfied, skipping upgrade: attrs>=18.1.0 in /usr/local/lib/python3.7/dist-packages (from tfds-nightly) (20.3.0)\n",
      "Requirement already satisfied, skipping upgrade: requests>=2.19.0 in /usr/local/lib/python3.7/dist-packages (from tfds-nightly) (2.23.0)\n",
      "Requirement already satisfied, skipping upgrade: tqdm in /usr/local/lib/python3.7/dist-packages (from tfds-nightly) (4.41.1)\n",
      "Requirement already satisfied, skipping upgrade: numpy in /usr/local/lib/python3.7/dist-packages (from tfds-nightly) (1.19.5)\n",
      "Requirement already satisfied, skipping upgrade: typing-extensions; python_version < \"3.8\" in /usr/local/lib/python3.7/dist-packages (from tfds-nightly) (3.7.4.3)\n",
      "Requirement already satisfied, skipping upgrade: future in /usr/local/lib/python3.7/dist-packages (from tfds-nightly) (0.16.0)\n",
      "Requirement already satisfied, skipping upgrade: dill in /usr/local/lib/python3.7/dist-packages (from tfds-nightly) (0.3.3)\n",
      "Requirement already satisfied, skipping upgrade: absl-py in /usr/local/lib/python3.7/dist-packages (from tfds-nightly) (0.12.0)\n",
      "Requirement already satisfied, skipping upgrade: promise in /usr/local/lib/python3.7/dist-packages (from tfds-nightly) (2.3)\n",
      "Requirement already satisfied, skipping upgrade: protobuf>=3.12.2 in /usr/local/lib/python3.7/dist-packages (from tfds-nightly) (3.12.4)\n",
      "Requirement already satisfied, skipping upgrade: six in /usr/local/lib/python3.7/dist-packages (from tfds-nightly) (1.15.0)\n",
      "Requirement already satisfied, skipping upgrade: zipp>=0.4; python_version < \"3.8\" in /usr/local/lib/python3.7/dist-packages (from importlib-resources; python_version < \"3.9\"->tfds-nightly) (3.4.1)\n",
      "Requirement already satisfied, skipping upgrade: googleapis-common-protos<2,>=1.52.0 in /usr/local/lib/python3.7/dist-packages (from tensorflow-metadata->tfds-nightly) (1.53.0)\n",
      "Requirement already satisfied, skipping upgrade: idna<3,>=2.5 in /usr/local/lib/python3.7/dist-packages (from requests>=2.19.0->tfds-nightly) (2.10)\n",
      "Requirement already satisfied, skipping upgrade: urllib3!=1.25.0,!=1.25.1,<1.26,>=1.21.1 in /usr/local/lib/python3.7/dist-packages (from requests>=2.19.0->tfds-nightly) (1.24.3)\n",
      "Requirement already satisfied, skipping upgrade: chardet<4,>=3.0.2 in /usr/local/lib/python3.7/dist-packages (from requests>=2.19.0->tfds-nightly) (3.0.4)\n",
      "Requirement already satisfied, skipping upgrade: certifi>=2017.4.17 in /usr/local/lib/python3.7/dist-packages (from requests>=2.19.0->tfds-nightly) (2020.12.5)\n",
      "Requirement already satisfied, skipping upgrade: setuptools in /usr/local/lib/python3.7/dist-packages (from protobuf>=3.12.2->tfds-nightly) (56.1.0)\n",
      "Installing collected packages: tfds-nightly\n",
      "Successfully installed tfds-nightly-4.3.0.dev202105100107\n"
     ]
    }
   ],
   "source": [
    "!pip install -U tfds-nightly"
   ]
  },
  {
   "cell_type": "code",
   "execution_count": null,
   "metadata": {
    "id": "_XgTpm9ZxoN9"
   },
   "outputs": [],
   "source": [
    "import os\n",
    "import tensorflow as tf\n",
    "import tensorflow_hub as hub\n",
    "import tensorflow_datasets as tfds\n",
    "import tensorflow_text as text  # A dependency of the preprocessing model\n",
    "import tensorflow_addons as tfa\n",
    "from official.nlp import optimization\n",
    "import numpy as np\n",
    "\n",
    "tf.get_logger().setLevel('ERROR')"
   ]
  },
  {
   "cell_type": "markdown",
   "metadata": {
    "id": "sv7A19G32Kfw"
   },
   "source": [
    "Next, configure TFHub to read checkpoints directly from TFHub's Cloud Storage buckets. This is only recommended when running TFHub models on TPU.\n",
    "\n",
    "Without this setting TFHub would download the compressed file and extract the checkpoint locally. Attempting to load from these local files will fail with the following error:\n",
    "\n",
    "```\n",
    "InvalidArgumentError: Unimplemented: File system scheme '[local]' not implemented\n",
    "```\n",
    "\n",
    "This is because the [TPU can only read directly from Cloud Storage buckets](https://cloud.google.com/tpu/docs/troubleshooting#cannot_use_local_filesystem).\n",
    "\n",
    "Note: This setting is automatic in Colab."
   ]
  },
  {
   "cell_type": "code",
   "execution_count": null,
   "metadata": {
    "id": "Sz6P5pK3ldxQ"
   },
   "outputs": [],
   "source": [
    "os.environ[\"TFHUB_MODEL_LOAD_FORMAT\"]=\"UNCOMPRESSED\""
   ]
  },
  {
   "cell_type": "markdown",
   "metadata": {
    "id": "__Uqe2vNETAu"
   },
   "source": [
    "### Connect to the TPU worker\n",
    "\n",
    "The following code connects to the TPU worker and changes TensorFlow's default device to the CPU device on the TPU worker. It also defines a TPU distribution strategy that you will use to distribute model training onto the 8 separate TPU cores available on this one TPU worker. See TensorFlow's [TPU guide](https://www.tensorflow.org/guide/tpu) for more information."
   ]
  },
  {
   "cell_type": "code",
   "execution_count": null,
   "metadata": {
    "colab": {
     "base_uri": "https://localhost:8080/"
    },
    "id": "cpHWNs1nV0Zn",
    "outputId": "b7960445-0650-4ece-8b0e-3371d821acd0"
   },
   "outputs": [
    {
     "name": "stdout",
     "output_type": "stream",
     "text": [
      "Using TPU\n"
     ]
    }
   ],
   "source": [
    "import os\n",
    "\n",
    "if os.environ['COLAB_TPU_ADDR']:\n",
    "  cluster_resolver = tf.distribute.cluster_resolver.TPUClusterResolver(tpu='')\n",
    "  tf.config.experimental_connect_to_cluster(cluster_resolver)\n",
    "  tf.tpu.experimental.initialize_tpu_system(cluster_resolver)\n",
    "  strategy = tf.distribute.TPUStrategy(cluster_resolver)\n",
    "  print('Using TPU')\n",
    "elif tf.test.is_gpu_available():\n",
    "  strategy = tf.distribute.MirroredStrategy()\n",
    "  print('Using GPU')\n",
    "else:\n",
    "  raise ValueError('Running on CPU is not recommended.')"
   ]
  },
  {
   "cell_type": "markdown",
   "metadata": {
    "id": "UVtEyxDFpKE1"
   },
   "source": [
    "## Loading models from TensorFlow Hub\n",
    "\n",
    "Here you can choose which BERT model you will load from TensorFlow Hub and fine-tune.\n",
    "There are multiple BERT models available to choose from.\n",
    "\n",
    "  - [BERT-Base](https://tfhub.dev/tensorflow/bert_en_uncased_L-12_H-768_A-12/3), [Uncased](https://tfhub.dev/tensorflow/bert_en_uncased_L-12_H-768_A-12/3) and [seven more models](https://tfhub.dev/google/collections/bert/1) with trained weights released by the original BERT authors.\n",
    "  - [Small BERTs](https://tfhub.dev/google/collections/bert/1) have the same general architecture but fewer and/or smaller Transformer blocks, which lets you explore tradeoffs between speed, size and quality.\n",
    "  - [ALBERT](https://tfhub.dev/google/collections/albert/1): four different sizes of \"A Lite BERT\" that reduces model size (but not computation time) by sharing parameters between layers.\n",
    "  - [BERT Experts](https://tfhub.dev/google/collections/experts/bert/1): eight models that all have the BERT-base architecture but offer a choice between different pre-training domains, to align more closely with the target task.\n",
    "  - [Electra](https://tfhub.dev/google/collections/electra/1) has the same architecture as BERT (in three different sizes), but gets pre-trained as a discriminator in a set-up that resembles a Generative Adversarial Network (GAN).\n",
    "  - BERT with Talking-Heads Attention and Gated GELU [[base](https://tfhub.dev/tensorflow/talkheads_ggelu_bert_en_base/1), [large](https://tfhub.dev/tensorflow/talkheads_ggelu_bert_en_large/1)] has two improvements to the core of the Transformer architecture.\n",
    "\n",
    "See the model documentation linked above for more details.\n",
    "\n",
    "In this tutorial, you will start with BERT-base. You can use larger and more recent models for higher accuracy, or smaller models for faster training times. To change the model, you only need to switch a single line of code (shown below). All the differences are encapsulated in the SavedModel you will download from TensorFlow Hub."
   ]
  },
  {
   "cell_type": "code",
   "execution_count": null,
   "metadata": {
    "cellView": "form",
    "colab": {
     "base_uri": "https://localhost:8080/"
    },
    "id": "y8_ctG55-uTX",
    "outputId": "365880c6-dc8f-4430-b17b-26d36ea420e4"
   },
   "outputs": [
    {
     "name": "stdout",
     "output_type": "stream",
     "text": [
      "BERT model selected           : https://tfhub.dev/tensorflow/bert_en_uncased_L-12_H-768_A-12/3\n",
      "Preprocessing model auto-selected: https://tfhub.dev/tensorflow/bert_en_uncased_preprocess/3\n"
     ]
    }
   ],
   "source": [
    "#@title Choose a BERT model to fine-tune\n",
    "\n",
    "bert_model_name = 'bert_en_uncased_L-12_H-768_A-12'  #@param [\"bert_en_uncased_L-12_H-768_A-12\", \"bert_en_uncased_L-24_H-1024_A-16\", \"bert_en_wwm_uncased_L-24_H-1024_A-16\", \"bert_en_cased_L-12_H-768_A-12\", \"bert_en_cased_L-24_H-1024_A-16\", \"bert_en_wwm_cased_L-24_H-1024_A-16\", \"bert_multi_cased_L-12_H-768_A-12\", \"small_bert/bert_en_uncased_L-2_H-128_A-2\", \"small_bert/bert_en_uncased_L-2_H-256_A-4\", \"small_bert/bert_en_uncased_L-2_H-512_A-8\", \"small_bert/bert_en_uncased_L-2_H-768_A-12\", \"small_bert/bert_en_uncased_L-4_H-128_A-2\", \"small_bert/bert_en_uncased_L-4_H-256_A-4\", \"small_bert/bert_en_uncased_L-4_H-512_A-8\", \"small_bert/bert_en_uncased_L-4_H-768_A-12\", \"small_bert/bert_en_uncased_L-6_H-128_A-2\", \"small_bert/bert_en_uncased_L-6_H-256_A-4\", \"small_bert/bert_en_uncased_L-6_H-512_A-8\", \"small_bert/bert_en_uncased_L-6_H-768_A-12\", \"small_bert/bert_en_uncased_L-8_H-128_A-2\", \"small_bert/bert_en_uncased_L-8_H-256_A-4\", \"small_bert/bert_en_uncased_L-8_H-512_A-8\", \"small_bert/bert_en_uncased_L-8_H-768_A-12\", \"small_bert/bert_en_uncased_L-10_H-128_A-2\", \"small_bert/bert_en_uncased_L-10_H-256_A-4\", \"small_bert/bert_en_uncased_L-10_H-512_A-8\", \"small_bert/bert_en_uncased_L-10_H-768_A-12\", \"small_bert/bert_en_uncased_L-12_H-128_A-2\", \"small_bert/bert_en_uncased_L-12_H-256_A-4\", \"small_bert/bert_en_uncased_L-12_H-512_A-8\", \"small_bert/bert_en_uncased_L-12_H-768_A-12\", \"albert_en_base\", \"albert_en_large\", \"albert_en_xlarge\", \"albert_en_xxlarge\", \"electra_small\", \"electra_base\", \"experts_pubmed\", \"experts_wiki_books\", \"talking-heads_base\", \"talking-heads_large\"]\n",
    "\n",
    "map_name_to_handle = {\n",
    "    'bert_en_uncased_L-12_H-768_A-12':\n",
    "        'https://tfhub.dev/tensorflow/bert_en_uncased_L-12_H-768_A-12/3',\n",
    "    'bert_en_uncased_L-24_H-1024_A-16':\n",
    "        'https://tfhub.dev/tensorflow/bert_en_uncased_L-24_H-1024_A-16/3',\n",
    "    'bert_en_wwm_uncased_L-24_H-1024_A-16':\n",
    "        'https://tfhub.dev/tensorflow/bert_en_wwm_uncased_L-24_H-1024_A-16/3',\n",
    "    'bert_en_cased_L-12_H-768_A-12':\n",
    "        'https://tfhub.dev/tensorflow/bert_en_cased_L-12_H-768_A-12/3',\n",
    "    'bert_en_cased_L-24_H-1024_A-16':\n",
    "        'https://tfhub.dev/tensorflow/bert_en_cased_L-24_H-1024_A-16/3',\n",
    "    'bert_en_wwm_cased_L-24_H-1024_A-16':\n",
    "        'https://tfhub.dev/tensorflow/bert_en_wwm_cased_L-24_H-1024_A-16/3',\n",
    "    'bert_multi_cased_L-12_H-768_A-12':\n",
    "        'https://tfhub.dev/tensorflow/bert_multi_cased_L-12_H-768_A-12/3',\n",
    "    'small_bert/bert_en_uncased_L-2_H-128_A-2':\n",
    "        'https://tfhub.dev/tensorflow/small_bert/bert_en_uncased_L-2_H-128_A-2/1',\n",
    "    'small_bert/bert_en_uncased_L-2_H-256_A-4':\n",
    "        'https://tfhub.dev/tensorflow/small_bert/bert_en_uncased_L-2_H-256_A-4/1',\n",
    "    'small_bert/bert_en_uncased_L-2_H-512_A-8':\n",
    "        'https://tfhub.dev/tensorflow/small_bert/bert_en_uncased_L-2_H-512_A-8/1',\n",
    "    'small_bert/bert_en_uncased_L-2_H-768_A-12':\n",
    "        'https://tfhub.dev/tensorflow/small_bert/bert_en_uncased_L-2_H-768_A-12/1',\n",
    "    'small_bert/bert_en_uncased_L-4_H-128_A-2':\n",
    "        'https://tfhub.dev/tensorflow/small_bert/bert_en_uncased_L-4_H-128_A-2/1',\n",
    "    'small_bert/bert_en_uncased_L-4_H-256_A-4':\n",
    "        'https://tfhub.dev/tensorflow/small_bert/bert_en_uncased_L-4_H-256_A-4/1',\n",
    "    'small_bert/bert_en_uncased_L-4_H-512_A-8':\n",
    "        'https://tfhub.dev/tensorflow/small_bert/bert_en_uncased_L-4_H-512_A-8/1',\n",
    "    'small_bert/bert_en_uncased_L-4_H-768_A-12':\n",
    "        'https://tfhub.dev/tensorflow/small_bert/bert_en_uncased_L-4_H-768_A-12/1',\n",
    "    'small_bert/bert_en_uncased_L-6_H-128_A-2':\n",
    "        'https://tfhub.dev/tensorflow/small_bert/bert_en_uncased_L-6_H-128_A-2/1',\n",
    "    'small_bert/bert_en_uncased_L-6_H-256_A-4':\n",
    "        'https://tfhub.dev/tensorflow/small_bert/bert_en_uncased_L-6_H-256_A-4/1',\n",
    "    'small_bert/bert_en_uncased_L-6_H-512_A-8':\n",
    "        'https://tfhub.dev/tensorflow/small_bert/bert_en_uncased_L-6_H-512_A-8/1',\n",
    "    'small_bert/bert_en_uncased_L-6_H-768_A-12':\n",
    "        'https://tfhub.dev/tensorflow/small_bert/bert_en_uncased_L-6_H-768_A-12/1',\n",
    "    'small_bert/bert_en_uncased_L-8_H-128_A-2':\n",
    "        'https://tfhub.dev/tensorflow/small_bert/bert_en_uncased_L-8_H-128_A-2/1',\n",
    "    'small_bert/bert_en_uncased_L-8_H-256_A-4':\n",
    "        'https://tfhub.dev/tensorflow/small_bert/bert_en_uncased_L-8_H-256_A-4/1',\n",
    "    'small_bert/bert_en_uncased_L-8_H-512_A-8':\n",
    "        'https://tfhub.dev/tensorflow/small_bert/bert_en_uncased_L-8_H-512_A-8/1',\n",
    "    'small_bert/bert_en_uncased_L-8_H-768_A-12':\n",
    "        'https://tfhub.dev/tensorflow/small_bert/bert_en_uncased_L-8_H-768_A-12/1',\n",
    "    'small_bert/bert_en_uncased_L-10_H-128_A-2':\n",
    "        'https://tfhub.dev/tensorflow/small_bert/bert_en_uncased_L-10_H-128_A-2/1',\n",
    "    'small_bert/bert_en_uncased_L-10_H-256_A-4':\n",
    "        'https://tfhub.dev/tensorflow/small_bert/bert_en_uncased_L-10_H-256_A-4/1',\n",
    "    'small_bert/bert_en_uncased_L-10_H-512_A-8':\n",
    "        'https://tfhub.dev/tensorflow/small_bert/bert_en_uncased_L-10_H-512_A-8/1',\n",
    "    'small_bert/bert_en_uncased_L-10_H-768_A-12':\n",
    "        'https://tfhub.dev/tensorflow/small_bert/bert_en_uncased_L-10_H-768_A-12/1',\n",
    "    'small_bert/bert_en_uncased_L-12_H-128_A-2':\n",
    "        'https://tfhub.dev/tensorflow/small_bert/bert_en_uncased_L-12_H-128_A-2/1',\n",
    "    'small_bert/bert_en_uncased_L-12_H-256_A-4':\n",
    "        'https://tfhub.dev/tensorflow/small_bert/bert_en_uncased_L-12_H-256_A-4/1',\n",
    "    'small_bert/bert_en_uncased_L-12_H-512_A-8':\n",
    "        'https://tfhub.dev/tensorflow/small_bert/bert_en_uncased_L-12_H-512_A-8/1',\n",
    "    'small_bert/bert_en_uncased_L-12_H-768_A-12':\n",
    "        'https://tfhub.dev/tensorflow/small_bert/bert_en_uncased_L-12_H-768_A-12/1',\n",
    "    'albert_en_base':\n",
    "        'https://tfhub.dev/tensorflow/albert_en_base/2',\n",
    "    'albert_en_large':\n",
    "        'https://tfhub.dev/tensorflow/albert_en_large/2',\n",
    "    'albert_en_xlarge':\n",
    "        'https://tfhub.dev/tensorflow/albert_en_xlarge/2',\n",
    "    'albert_en_xxlarge':\n",
    "        'https://tfhub.dev/tensorflow/albert_en_xxlarge/2',\n",
    "    'electra_small':\n",
    "        'https://tfhub.dev/google/electra_small/2',\n",
    "    'electra_base':\n",
    "        'https://tfhub.dev/google/electra_base/2',\n",
    "    'experts_pubmed':\n",
    "        'https://tfhub.dev/google/experts/bert/pubmed/2',\n",
    "    'experts_wiki_books':\n",
    "        'https://tfhub.dev/google/experts/bert/wiki_books/2',\n",
    "    'talking-heads_base':\n",
    "        'https://tfhub.dev/tensorflow/talkheads_ggelu_bert_en_base/1',\n",
    "    'talking-heads_large':\n",
    "        'https://tfhub.dev/tensorflow/talkheads_ggelu_bert_en_large/1',\n",
    "}\n",
    "\n",
    "map_model_to_preprocess = {\n",
    "    'bert_en_uncased_L-24_H-1024_A-16':\n",
    "        'https://tfhub.dev/tensorflow/bert_en_uncased_preprocess/3',\n",
    "    'bert_en_uncased_L-12_H-768_A-12':\n",
    "        'https://tfhub.dev/tensorflow/bert_en_uncased_preprocess/3',\n",
    "    'bert_en_wwm_cased_L-24_H-1024_A-16':\n",
    "        'https://tfhub.dev/tensorflow/bert_en_cased_preprocess/3',\n",
    "    'bert_en_cased_L-24_H-1024_A-16':\n",
    "        'https://tfhub.dev/tensorflow/bert_en_cased_preprocess/3',\n",
    "    'bert_en_cased_L-12_H-768_A-12':\n",
    "        'https://tfhub.dev/tensorflow/bert_en_cased_preprocess/3',\n",
    "    'bert_en_wwm_uncased_L-24_H-1024_A-16':\n",
    "        'https://tfhub.dev/tensorflow/bert_en_uncased_preprocess/3',\n",
    "    'small_bert/bert_en_uncased_L-2_H-128_A-2':\n",
    "        'https://tfhub.dev/tensorflow/bert_en_uncased_preprocess/3',\n",
    "    'small_bert/bert_en_uncased_L-2_H-256_A-4':\n",
    "        'https://tfhub.dev/tensorflow/bert_en_uncased_preprocess/3',\n",
    "    'small_bert/bert_en_uncased_L-2_H-512_A-8':\n",
    "        'https://tfhub.dev/tensorflow/bert_en_uncased_preprocess/3',\n",
    "    'small_bert/bert_en_uncased_L-2_H-768_A-12':\n",
    "        'https://tfhub.dev/tensorflow/bert_en_uncased_preprocess/3',\n",
    "    'small_bert/bert_en_uncased_L-4_H-128_A-2':\n",
    "        'https://tfhub.dev/tensorflow/bert_en_uncased_preprocess/3',\n",
    "    'small_bert/bert_en_uncased_L-4_H-256_A-4':\n",
    "        'https://tfhub.dev/tensorflow/bert_en_uncased_preprocess/3',\n",
    "    'small_bert/bert_en_uncased_L-4_H-512_A-8':\n",
    "        'https://tfhub.dev/tensorflow/bert_en_uncased_preprocess/3',\n",
    "    'small_bert/bert_en_uncased_L-4_H-768_A-12':\n",
    "        'https://tfhub.dev/tensorflow/bert_en_uncased_preprocess/3',\n",
    "    'small_bert/bert_en_uncased_L-6_H-128_A-2':\n",
    "        'https://tfhub.dev/tensorflow/bert_en_uncased_preprocess/3',\n",
    "    'small_bert/bert_en_uncased_L-6_H-256_A-4':\n",
    "        'https://tfhub.dev/tensorflow/bert_en_uncased_preprocess/3',\n",
    "    'small_bert/bert_en_uncased_L-6_H-512_A-8':\n",
    "        'https://tfhub.dev/tensorflow/bert_en_uncased_preprocess/3',\n",
    "    'small_bert/bert_en_uncased_L-6_H-768_A-12':\n",
    "        'https://tfhub.dev/tensorflow/bert_en_uncased_preprocess/3',\n",
    "    'small_bert/bert_en_uncased_L-8_H-128_A-2':\n",
    "        'https://tfhub.dev/tensorflow/bert_en_uncased_preprocess/3',\n",
    "    'small_bert/bert_en_uncased_L-8_H-256_A-4':\n",
    "        'https://tfhub.dev/tensorflow/bert_en_uncased_preprocess/3',\n",
    "    'small_bert/bert_en_uncased_L-8_H-512_A-8':\n",
    "        'https://tfhub.dev/tensorflow/bert_en_uncased_preprocess/3',\n",
    "    'small_bert/bert_en_uncased_L-8_H-768_A-12':\n",
    "        'https://tfhub.dev/tensorflow/bert_en_uncased_preprocess/3',\n",
    "    'small_bert/bert_en_uncased_L-10_H-128_A-2':\n",
    "        'https://tfhub.dev/tensorflow/bert_en_uncased_preprocess/3',\n",
    "    'small_bert/bert_en_uncased_L-10_H-256_A-4':\n",
    "        'https://tfhub.dev/tensorflow/bert_en_uncased_preprocess/3',\n",
    "    'small_bert/bert_en_uncased_L-10_H-512_A-8':\n",
    "        'https://tfhub.dev/tensorflow/bert_en_uncased_preprocess/3',\n",
    "    'small_bert/bert_en_uncased_L-10_H-768_A-12':\n",
    "        'https://tfhub.dev/tensorflow/bert_en_uncased_preprocess/3',\n",
    "    'small_bert/bert_en_uncased_L-12_H-128_A-2':\n",
    "        'https://tfhub.dev/tensorflow/bert_en_uncased_preprocess/3',\n",
    "    'small_bert/bert_en_uncased_L-12_H-256_A-4':\n",
    "        'https://tfhub.dev/tensorflow/bert_en_uncased_preprocess/3',\n",
    "    'small_bert/bert_en_uncased_L-12_H-512_A-8':\n",
    "        'https://tfhub.dev/tensorflow/bert_en_uncased_preprocess/3',\n",
    "    'small_bert/bert_en_uncased_L-12_H-768_A-12':\n",
    "        'https://tfhub.dev/tensorflow/bert_en_uncased_preprocess/3',\n",
    "    'bert_multi_cased_L-12_H-768_A-12':\n",
    "        'https://tfhub.dev/tensorflow/bert_multi_cased_preprocess/3',\n",
    "    'albert_en_base':\n",
    "        'https://tfhub.dev/tensorflow/albert_en_preprocess/3',\n",
    "    'albert_en_large':\n",
    "        'https://tfhub.dev/tensorflow/albert_en_preprocess/3',\n",
    "    'albert_en_xlarge':\n",
    "        'https://tfhub.dev/tensorflow/albert_en_preprocess/3',\n",
    "    'albert_en_xxlarge':\n",
    "        'https://tfhub.dev/tensorflow/albert_en_preprocess/3',\n",
    "    'electra_small':\n",
    "        'https://tfhub.dev/tensorflow/bert_en_uncased_preprocess/3',\n",
    "    'electra_base':\n",
    "        'https://tfhub.dev/tensorflow/bert_en_uncased_preprocess/3',\n",
    "    'experts_pubmed':\n",
    "        'https://tfhub.dev/tensorflow/bert_en_uncased_preprocess/3',\n",
    "    'experts_wiki_books':\n",
    "        'https://tfhub.dev/tensorflow/bert_en_uncased_preprocess/3',\n",
    "    'talking-heads_base':\n",
    "        'https://tfhub.dev/tensorflow/bert_en_uncased_preprocess/3',\n",
    "    'talking-heads_large':\n",
    "        'https://tfhub.dev/tensorflow/bert_en_uncased_preprocess/3',\n",
    "}\n",
    "\n",
    "tfhub_handle_encoder = map_name_to_handle[bert_model_name]\n",
    "tfhub_handle_preprocess = map_model_to_preprocess[bert_model_name]\n",
    "\n",
    "print('BERT model selected           :', tfhub_handle_encoder)\n",
    "print('Preprocessing model auto-selected:', tfhub_handle_preprocess)"
   ]
  },
  {
   "cell_type": "code",
   "execution_count": null,
   "metadata": {
    "colab": {
     "base_uri": "https://localhost:8080/"
    },
    "id": "abSNYfR7jXB-",
    "outputId": "d7f12927-15d7-4ffc-d454-1658f4734946"
   },
   "outputs": [
    {
     "name": "stdout",
     "output_type": "stream",
     "text": [
      "Mounted at /content/drive\n"
     ]
    }
   ],
   "source": [
    "from google.colab import drive\n",
    "drive.mount('/content/drive')"
   ]
  },
  {
   "cell_type": "code",
   "execution_count": null,
   "metadata": {
    "id": "nrUqe2NLjtYG"
   },
   "outputs": [],
   "source": [
    "\n"
   ]
  },
  {
   "cell_type": "markdown",
   "metadata": {
    "id": "7WrcxxTRDdHi"
   },
   "source": [
    "## Preprocess the text\n",
    "\n",
    "On the [Classify text with BERT colab](https://www.tensorflow.org/tutorials/text/classify_text_with_bert) the preprocessing model is used directly embedded with the BERT encoder.\n",
    "\n",
    "This tutorial demonstrates how to do preprocessing as part of your input pipeline for training, using Dataset.map, and then merge it into the model that gets exported for inference. That way, both training and inference can work from raw text inputs, although the TPU itself requires numeric inputs.\n",
    "\n",
    "TPU requirements aside, it can help performance have preprocessing done asynchronously in an input pipeline (you can learn more in the [tf.data performance guide](https://www.tensorflow.org/guide/data_performance)).\n",
    "\n",
    "This tutorial also demonstrates how to build multi-input models, and how to adjust the sequence length of the inputs to BERT.\n",
    "\n",
    "Let's demonstrate the preprocessing model."
   ]
  },
  {
   "cell_type": "code",
   "execution_count": null,
   "metadata": {
    "colab": {
     "base_uri": "https://localhost:8080/"
    },
    "id": "-ePjboKOPmv4",
    "outputId": "26831620-0ec5-4092-ff62-bc8b8c7ffeaa"
   },
   "outputs": [
    {
     "name": "stdout",
     "output_type": "stream",
     "text": [
      "<tf.RaggedTensor [[[7592], [23435, 12314], [999]]]>\n"
     ]
    }
   ],
   "source": [
    "bert_preprocess = hub.load(tfhub_handle_preprocess)\n",
    "tok = bert_preprocess.tokenize(tf.constant(['Hello TensorFlow!']))\n",
    "print(tok)"
   ]
  },
  {
   "cell_type": "markdown",
   "metadata": {
    "id": "tRMCuruaQb5X"
   },
   "source": [
    "Each preprocessing model also provides a method, `.bert_pack_inputs(tensors, seq_length)`, which takes a list of tokens (like `tok` above) and a sequence length argument. This packs the inputs to create a dictionary of tensors in the format expected by the BERT model."
   ]
  },
  {
   "cell_type": "code",
   "execution_count": null,
   "metadata": {
    "colab": {
     "base_uri": "https://localhost:8080/"
    },
    "id": "lraoc4csP0lY",
    "outputId": "91441a90-1356-4e36-e1bf-e348f0324855"
   },
   "outputs": [
    {
     "name": "stdout",
     "output_type": "stream",
     "text": [
      "Shape Word Ids :  (1, 20)\n",
      "Word Ids       :  tf.Tensor(\n",
      "[  101  7592 23435 12314   999   102  7592 23435 12314   999   102     0\n",
      "     0     0     0     0], shape=(16,), dtype=int32)\n",
      "Shape Mask     :  (1, 20)\n",
      "Input Mask     :  tf.Tensor([1 1 1 1 1 1 1 1 1 1 1 0 0 0 0 0], shape=(16,), dtype=int32)\n",
      "Shape Type Ids :  (1, 20)\n",
      "Type Ids       :  tf.Tensor([0 0 0 0 0 0 1 1 1 1 1 0 0 0 0 0], shape=(16,), dtype=int32)\n"
     ]
    }
   ],
   "source": [
    "text_preprocessed = bert_preprocess.bert_pack_inputs([tok, tok], tf.constant(20))\n",
    "\n",
    "print('Shape Word Ids : ', text_preprocessed['input_word_ids'].shape)\n",
    "print('Word Ids       : ', text_preprocessed['input_word_ids'][0, :16])\n",
    "print('Shape Mask     : ', text_preprocessed['input_mask'].shape)\n",
    "print('Input Mask     : ', text_preprocessed['input_mask'][0, :16])\n",
    "print('Shape Type Ids : ', text_preprocessed['input_type_ids'].shape)\n",
    "print('Type Ids       : ', text_preprocessed['input_type_ids'][0, :16])"
   ]
  },
  {
   "cell_type": "markdown",
   "metadata": {
    "id": "KyBsEhoa0_7r"
   },
   "source": [
    "Here are some details to pay attention to:\n",
    "- `input_mask` The mask allows the model to cleanly differentiate between the content and the padding. The mask has the same shape as the `input_word_ids`, and contains a 1 anywhere the `input_word_ids` is not padding.\n",
    "- `input_type_ids` has the same shape as `input_mask`, but inside the non-padded region, contains a 0 or a 1 indicating which sentence the token is a part of."
   ]
  },
  {
   "cell_type": "markdown",
   "metadata": {
    "id": "H63KFuKcRwjO"
   },
   "source": [
    "Next, you will create a preprocessing model that encapsulates all this logic. Your model will take strings as input, and return appropriately formatted objects which can be passed to BERT.\n",
    "\n",
    "Each BERT model has a specific preprocessing model, make sure to use the proper one described on the BERT's model documentation.\n",
    "\n",
    "Note: BERT adds a \"position embedding\" to the token embedding of each input, and these come from a fixed-size lookup table. That imposes a max seq length of 512 (which is also a practical limit, due to the quadratic growth of attention computation). For this Colab 128 is good enough."
   ]
  },
  {
   "cell_type": "code",
   "execution_count": null,
   "metadata": {
    "id": "KeHEYKXGqjAZ"
   },
   "outputs": [],
   "source": [
    "def make_bert_preprocess_model(sentence_features, seq_length=128):\n",
    "  \"\"\"Returns Model mapping string features to BERT inputs.\n",
    "\n",
    "  Args:\n",
    "    sentence_features: a list with the names of string-valued features.\n",
    "    seq_length: an integer that defines the sequence length of BERT inputs.\n",
    "\n",
    "  Returns:\n",
    "    A Keras Model that can be called on a list or dict of string Tensors\n",
    "    (with the order or names, resp., given by sentence_features) and\n",
    "    returns a dict of tensors for input to BERT.\n",
    "  \"\"\"\n",
    "\n",
    "  input_segments = [\n",
    "      tf.keras.layers.Input(shape=(), dtype=tf.string, name=ft)\n",
    "      for ft in sentence_features]\n",
    "\n",
    "  # Tokenize the text to word pieces.\n",
    "  bert_preprocess = hub.load(tfhub_handle_preprocess)\n",
    "  tokenizer = hub.KerasLayer(bert_preprocess.tokenize, name='tokenizer')\n",
    "  segments = [tokenizer(s) for s in input_segments]\n",
    "\n",
    "  # Optional: Trim segments in a smart way to fit seq_length.\n",
    "  # Simple cases (like this example) can skip this step and let\n",
    "  # the next step apply a default truncation to approximately equal lengths.\n",
    "  truncated_segments = segments\n",
    "\n",
    "  # Pack inputs. The details (start/end token ids, dict of output tensors)\n",
    "  # are model-dependent, so this gets loaded from the SavedModel.\n",
    "  packer = hub.KerasLayer(bert_preprocess.bert_pack_inputs,\n",
    "                          arguments=dict(seq_length=seq_length),\n",
    "                          name='packer')\n",
    "  model_inputs = packer(truncated_segments)\n",
    "  return tf.keras.Model(input_segments, model_inputs)"
   ]
  },
  {
   "cell_type": "markdown",
   "metadata": {
    "id": "kk5SS1bStmfP"
   },
   "source": [
    "Let's demonstrate the preprocessing model. You will create a test with two sentences input (input1 and input2). The output is what a BERT model would expect as input: `input_word_ids`, `input_masks` and `input_type_ids`."
   ]
  },
  {
   "cell_type": "code",
   "execution_count": null,
   "metadata": {
    "colab": {
     "base_uri": "https://localhost:8080/"
    },
    "id": "BehJu3wLtAg-",
    "outputId": "d2613716-eab5-4887-ca55-386e414c48f8"
   },
   "outputs": [
    {
     "name": "stdout",
     "output_type": "stream",
     "text": [
      "Keys           :  ['input_word_ids', 'input_mask', 'input_type_ids']\n",
      "Shape Word Ids :  (1, 128)\n",
      "Word Ids       :  tf.Tensor(\n",
      "[ 101 2070 6721 3231 6251  102 2178 6251  102    0    0    0    0    0\n",
      "    0    0], shape=(16,), dtype=int32)\n",
      "Shape Mask     :  (1, 128)\n",
      "Input Mask     :  tf.Tensor([1 1 1 1 1 1 1 1 1 0 0 0 0 0 0 0], shape=(16,), dtype=int32)\n",
      "Shape Type Ids :  (1, 128)\n",
      "Type Ids       :  tf.Tensor([0 0 0 0 0 0 1 1 1 0 0 0 0 0 0 0], shape=(16,), dtype=int32)\n"
     ]
    }
   ],
   "source": [
    "test_preprocess_model = make_bert_preprocess_model(['my_input1', 'my_input2'])\n",
    "test_text = [np.array(['some random test sentence']),\n",
    "             np.array(['another sentence'])]\n",
    "text_preprocessed = test_preprocess_model(test_text)\n",
    "\n",
    "print('Keys           : ', list(text_preprocessed.keys()))\n",
    "print('Shape Word Ids : ', text_preprocessed['input_word_ids'].shape)\n",
    "print('Word Ids       : ', text_preprocessed['input_word_ids'][0, :16])\n",
    "print('Shape Mask     : ', text_preprocessed['input_mask'].shape)\n",
    "print('Input Mask     : ', text_preprocessed['input_mask'][0, :16])\n",
    "print('Shape Type Ids : ', text_preprocessed['input_type_ids'].shape)\n",
    "print('Type Ids       : ', text_preprocessed['input_type_ids'][0, :16])"
   ]
  },
  {
   "cell_type": "markdown",
   "metadata": {
    "id": "qXU6bQWmNfhp"
   },
   "source": [
    "Let's take a look at the model's structure, paying attention to the two inputs you just defined."
   ]
  },
  {
   "cell_type": "code",
   "execution_count": null,
   "metadata": {
    "colab": {
     "base_uri": "https://localhost:8080/",
     "height": 272
    },
    "id": "a2_XrcVPFiz_",
    "outputId": "a31724e8-7d3f-4dee-ba04-62c70d0c265d"
   },
   "outputs": [
    {
     "data": {
      "image/png": "[encoded data removed]",
      "text/plain": [
       "<IPython.core.display.Image object>"
      ]
     },
     "execution_count": 15,
     "metadata": {
      "tags": []
     },
     "output_type": "execute_result"
    }
   ],
   "source": [
    "tf.keras.utils.plot_model(test_preprocess_model)"
   ]
  },
  {
   "cell_type": "markdown",
   "metadata": {
    "id": "GRVVol5G9i0b"
   },
   "source": [
    "To apply the preprocessing in all the inputs from the dataset, you will use the `map` function from the dataset. The result is then cached for [performance](https://www.tensorflow.org/guide/data_performance#top_of_page)."
   ]
  },
  {
   "cell_type": "code",
   "execution_count": null,
   "metadata": {
    "id": "1zhR-SVwx4_J"
   },
   "outputs": [],
   "source": [
    "AUTOTUNE = tf.data.AUTOTUNE\n",
    "\n",
    "\n",
    "def load_dataset_from_tfds(in_memory_ds, info, split, batch_size,\n",
    "                           bert_preprocess_model):\n",
    "  is_training = split.startswith('train')\n",
    "  dataset = tf.data.Dataset.from_tensor_slices(in_memory_ds[split])\n",
    "  num_examples = info.splits[split].num_examples\n",
    "\n",
    "  if is_training:\n",
    "    dataset = dataset.shuffle(num_examples)\n",
    "    dataset = dataset.repeat()\n",
    "  dataset = dataset.batch(batch_size)\n",
    "  dataset = dataset.map(lambda ex: (bert_preprocess_model(ex), ex['label']))\n",
    "  dataset = dataset.cache().prefetch(buffer_size=AUTOTUNE)\n",
    "  return dataset, num_examples"
   ]
  },
  {
   "cell_type": "markdown",
   "metadata": {
    "id": "pDNKfAXbDnJH"
   },
   "source": [
    "## Define your model\n",
    "\n",
    "You are now ready to define your model for sentence or sentence pair classification by feeding the preprocessed inputs through the BERT encoder and putting a linear classifier on top (or other arrangement of layers as you prefer), and using dropout for regularization.\n",
    "\n",
    "Note: Here the model will be defined using the [Keras functional API](https://www.tensorflow.org/guide/keras/functional)\n"
   ]
  },
  {
   "cell_type": "code",
   "execution_count": null,
   "metadata": {
    "id": "aksj743St9ga"
   },
   "outputs": [],
   "source": [
    "def build_classifier_model(num_classes):\n",
    "  inputs = dict(\n",
    "      input_word_ids=tf.keras.layers.Input(shape=(None,), dtype=tf.int32),\n",
    "      input_mask=tf.keras.layers.Input(shape=(None,), dtype=tf.int32),\n",
    "      input_type_ids=tf.keras.layers.Input(shape=(None,), dtype=tf.int32),\n",
    "  )\n",
    "\n",
    "  encoder = hub.KerasLayer(tfhub_handle_encoder, trainable=True, name='encoder')\n",
    "  net = encoder(inputs)['pooled_output']\n",
    "  net = tf.keras.layers.Dropout(rate=0.1)(net)\n",
    "  net = tf.keras.layers.Dense(num_classes, activation=None, name='classifier')(net)\n",
    "  return tf.keras.Model(inputs, net, name='prediction')"
   ]
  },
  {
   "cell_type": "markdown",
   "metadata": {
    "id": "TTa5VZssizDm"
   },
   "source": [
    "Let's try running the model on some preprocessed inputs."
   ]
  },
  {
   "cell_type": "code",
   "execution_count": null,
   "metadata": {
    "colab": {
     "base_uri": "https://localhost:8080/"
    },
    "id": "e6mJ3WXhwUa8",
    "outputId": "3df6a371-6bc1-4c8a-b76f-777c3103b048"
   },
   "outputs": [
    {
     "name": "stdout",
     "output_type": "stream",
     "text": [
      "tf.Tensor([[0.539396   0.28056377]], shape=(1, 2), dtype=float32)\n"
     ]
    }
   ],
   "source": [
    "test_classifier_model = build_classifier_model(2)\n",
    "bert_raw_result = test_classifier_model(text_preprocessed)\n",
    "print(tf.sigmoid(bert_raw_result))"
   ]
  },
  {
   "cell_type": "markdown",
   "metadata": {
    "id": "RT7wuJ8HQv1l"
   },
   "source": [
    "Let's take a look at the model's structure. You can see the three BERT expected inputs."
   ]
  },
  {
   "cell_type": "code",
   "execution_count": null,
   "metadata": {
    "colab": {
     "base_uri": "https://localhost:8080/",
     "height": 369
    },
    "id": "4hfcmt7tNR_X",
    "outputId": "895c5d6e-1f15-4c6f-c805-5422d181a96a"
   },
   "outputs": [
    {
     "data": {
      "image/png": "[encoded data removed]",
      "text/plain": [
       "<IPython.core.display.Image object>"
      ]
     },
     "execution_count": 19,
     "metadata": {
      "tags": []
     },
     "output_type": "execute_result"
    }
   ],
   "source": [
    "tf.keras.utils.plot_model(test_classifier_model)"
   ]
  },
  {
   "cell_type": "markdown",
   "metadata": {
    "id": "1s0xpHS-XQcP"
   },
   "source": [
    "## Choose a task from GLUE\n",
    "\n",
    "You are going to use a TensorFlow DataSet from the [GLUE](https://www.tensorflow.org/datasets/catalog/glue) benchmark suite.\n",
    "\n",
    "Colab lets you download these small datasets to the local filesystem, and the code below reads them entirely into memory, because the separate TPU worker host cannot access the local filesystem of the colab runtime.\n",
    "\n",
    "For bigger datasets, you'll need to create your own [Google Cloud Storage](https://cloud.google.com/storage) bucket and have the TPU worker read the data from there. You can learn more in the [TPU guide](https://www.tensorflow.org/guide/tpu#input_datasets).\n",
    "\n",
    "It's recommended to start with the CoLa dataset (for single sentence) or MRPC (for multi sentence) since these are small and don't take long to fine tune."
   ]
  },
  {
   "cell_type": "code",
   "execution_count": null,
   "metadata": {
    "cellView": "form",
    "colab": {
     "base_uri": "https://localhost:8080/",
     "height": 759,
     "referenced_widgets": [
      "0320d9e46f4e420c84ffc2b446655990",
      "463cffee16d545fe9072ea7304cb45dd",
      "54f6123966254433ab9a1fb8062d12b2",
      "0647b0a882274994ab3c542d30b68e30",
      "272c8da1d1f641d5ac20e077df0ab2bd",
      "a606123a36b34fcd8bef01776c12289f",
      "4f1224afeda141e390d9999ec6912d78",
      "0e0d88a6580244db9c5cffc0cea6f423",
      "4a40f722c4ee422baff4de82df3f7adb",
      "951376106aa8466a95a05bd569a39b51",
      "2938deb9a54f4bd3817a6bf61f2a4522",
      "99e6b8906ad54f06af7f030c5fefc8a9",
      "674632ba4298410294ff44a6a248522a",
      "8b9cf105bb4941d7ba159e44482f1077",
      "b055c19f076f49a38a39dfdb9d6fadda",
      "84fb2824c8074271bc989585c95fc3e3",
      "cd0414d2177a4102b64e3a244a683112",
      "7876ed9e858948a8b61b094c014c0b9c",
      "88f0a6cc32424966bed50c1862155c35",
      "c05d600f5c7c4d14be3e5d96823a1076",
      "4cf1dc3c75114be7993ad4044ecdde16",
      "f3a82a4e44394c77b189dec6609951b1",
      "2a22a8ee06d44e23b6da26b258fbd120",
      "33efbb667b1148a2be8dc8e9d6e440f2",
      "2251683c07aa48e6886f5306c09f3d47",
      "ebd7ec83304543c2b0eb9b0dc362d1fa",
      "228a1519cbf248678910f3775c780fca",
      "fae11500cda842c79a9138dedd903787",
      "3aab22bd5c144fddac3591177890f6cf",
      "61566cce84a24809ac5352ae444e78a7",
      "a705e79c4f8342fabbd3ddb5ddc346a6",
      "cbeb1e7d57044b18ae7d31152591109f",
      "526962164f9b470d81b3b71745459a81",
      "c61dfc70d5174ba0a6817141c5d16db3",
      "4666d0b864af4a18a302f727a500c331",
      "591b3b8517bd4b0bb9cdf1c923e8b975",
      "53e19fe860f0405fb650bbfbfd77b755",
      "3dae753062444318a9cae4461b9cd0f2",
      "eb49ce20f8e74a7f8f4b3ca0dd0cd479",
      "f871090391a945a1a5bae59850b37db1",
      "b90882557ff44458b7f01da9e3466a3a",
      "9115c8092bff4a76b4cac41e86f1c802",
      "6de194834a6a4bb99a587739047e17ed",
      "4d99376604ea48e1b0da90abaa02da6b",
      "7bb49d5920a04e5b9885c3ddfed03c43",
      "2533d79558614669b78de3824d31e8ee",
      "317a7fa73d9f4c8787e7bc49784d0f8b",
      "8840d849b4b9419d95ecc4166ef02242",
      "addd550f789b4238b304cdd8aa700f13",
      "afd88866aaa04a14a3def8621977c12c",
      "ea6b5792a99149c1a3431ea4457b29ce",
      "3677117721c94ff7859dc2eab9cd07e0",
      "12dd57ae518f4b5b8a77a78a5ce54bcf",
      "536de44dbac7407b854305254ff811aa",
      "bd9dbd47ff8c40c49243ce992471652e",
      "7532a1fa3c3d411884cff2f8550b0f1c",
      "b5383907916849bab4d898f88b0b54f9",
      "17532e07b52947b189eb2c2faad420bd",
      "90456e5ae65d4349b97ca53adba4439b",
      "57b6f8176c864b089f8d32bd06010d6f",
      "d4375c9ce2074d0692907dc417844cf7",
      "9a1cdf852cdb42218be33eb0ffe51066",
      "1fb7f8987f4b4304a015b3f54cbb46e8",
      "419920eee0df44d7a3f8237aed89d784",
      "b7b7fff8e58340f1ad4b29d0cd789704",
      "201804baf6584ccfb13efa1e9d14c9e7",
      "dd61f9704db940c2b61126d8fc6e1ba9",
      "51e3638dfd2b449c93c7589437130bc4",
      "55b0fdce84b9406fb80524ec194405fb",
      "ef8f0ee2c1634aec977d9bfe5d18e852",
      "331ee955c6434f5e9934cb867d576f10",
      "52cccb6d63d145dcb97d7691ba71abad"
     ]
    },
    "id": "RhL__V2mwRNH",
    "outputId": "43456f30-3bc2-4e87-b71b-bf71bbadd37f"
   },
   "outputs": [
    {
     "name": "stdout",
     "output_type": "stream",
     "text": [
      "Using glue/mrpc from TFDS\n",
      "This dataset has 5801 examples\n",
      "Number of classes: 2\n",
      "Features ['sentence1', 'sentence2']\n",
      "Splits ['test', 'train', 'validation']\n",
      "\u001b[1mDownloading and preparing dataset 1.43 MiB (download: 1.43 MiB, generated: Unknown size, total: 1.43 MiB) to /root/tensorflow_datasets/glue/mrpc/1.0.0...\u001b[0m\n"
     ]
    },
    {
     "data": {
      "application/vnd.jupyter.widget-view+json": {
       "model_id": "0320d9e46f4e420c84ffc2b446655990",
       "version_major": 2,
       "version_minor": 0
      },
      "text/plain": [
       "HBox(children=(FloatProgress(value=1.0, bar_style='info', description='Dl Completed...', max=1.0, style=Progre…"
      ]
     },
     "metadata": {
      "tags": []
     },
     "output_type": "display_data"
    },
    {
     "data": {
      "application/vnd.jupyter.widget-view+json": {
       "model_id": "4a40f722c4ee422baff4de82df3f7adb",
       "version_major": 2,
       "version_minor": 0
      },
      "text/plain": [
       "HBox(children=(FloatProgress(value=1.0, bar_style='info', description='Dl Size...', max=1.0, style=ProgressSty…"
      ]
     },
     "metadata": {
      "tags": []
     },
     "output_type": "display_data"
    },
    {
     "name": "stdout",
     "output_type": "stream",
     "text": [
      "\n",
      "\n"
     ]
    },
    {
     "data": {
      "application/vnd.jupyter.widget-view+json": {
       "model_id": "cd0414d2177a4102b64e3a244a683112",
       "version_major": 2,
       "version_minor": 0
      },
      "text/plain": [
       "HBox(children=(FloatProgress(value=0.0, description='Generating splits...', max=3.0, style=ProgressStyle(descr…"
      ]
     },
     "metadata": {
      "tags": []
     },
     "output_type": "display_data"
    },
    {
     "data": {
      "application/vnd.jupyter.widget-view+json": {
       "model_id": "2251683c07aa48e6886f5306c09f3d47",
       "version_major": 2,
       "version_minor": 0
      },
      "text/plain": [
       "HBox(children=(FloatProgress(value=0.0, description='Generating train examples...', max=3668.0, style=Progress…"
      ]
     },
     "metadata": {
      "tags": []
     },
     "output_type": "display_data"
    },
    {
     "data": {
      "application/vnd.jupyter.widget-view+json": {
       "model_id": "526962164f9b470d81b3b71745459a81",
       "version_major": 2,
       "version_minor": 0
      },
      "text/plain": [
       "HBox(children=(FloatProgress(value=0.0, description='Shuffling glue-train.tfrecord...', max=3668.0, style=Prog…"
      ]
     },
     "metadata": {
      "tags": []
     },
     "output_type": "display_data"
    },
    {
     "data": {
      "application/vnd.jupyter.widget-view+json": {
       "model_id": "b90882557ff44458b7f01da9e3466a3a",
       "version_major": 2,
       "version_minor": 0
      },
      "text/plain": [
       "HBox(children=(FloatProgress(value=0.0, description='Generating validation examples...', max=408.0, style=Prog…"
      ]
     },
     "metadata": {
      "tags": []
     },
     "output_type": "display_data"
    },
    {
     "data": {
      "application/vnd.jupyter.widget-view+json": {
       "model_id": "addd550f789b4238b304cdd8aa700f13",
       "version_major": 2,
       "version_minor": 0
      },
      "text/plain": [
       "HBox(children=(FloatProgress(value=0.0, description='Shuffling glue-validation.tfrecord...', max=408.0, style=…"
      ]
     },
     "metadata": {
      "tags": []
     },
     "output_type": "display_data"
    },
    {
     "data": {
      "application/vnd.jupyter.widget-view+json": {
       "model_id": "b5383907916849bab4d898f88b0b54f9",
       "version_major": 2,
       "version_minor": 0
      },
      "text/plain": [
       "HBox(children=(FloatProgress(value=0.0, description='Generating test examples...', max=1725.0, style=ProgressS…"
      ]
     },
     "metadata": {
      "tags": []
     },
     "output_type": "display_data"
    },
    {
     "data": {
      "application/vnd.jupyter.widget-view+json": {
       "model_id": "b7b7fff8e58340f1ad4b29d0cd789704",
       "version_major": 2,
       "version_minor": 0
      },
      "text/plain": [
       "HBox(children=(FloatProgress(value=0.0, description='Shuffling glue-test.tfrecord...', max=1725.0, style=Progr…"
      ]
     },
     "metadata": {
      "tags": []
     },
     "output_type": "display_data"
    },
    {
     "name": "stdout",
     "output_type": "stream",
     "text": [
      "\r",
      "\u001b[1mDataset glue downloaded and prepared to /root/tensorflow_datasets/glue/mrpc/1.0.0. Subsequent calls will reuse this data.\u001b[0m\n",
      "Here are some sample rows from glue/mrpc dataset\n",
      "['not_equivalent', 'equivalent']\n",
      "\n",
      "sample row 1\n",
      "b'The identical rovers will act as robotic geologists , searching for evidence of past water .'\n",
      "b'The rovers act as robotic geologists , moving on six wheels .'\n",
      "label: 0 (not_equivalent)\n",
      "\n",
      "sample row 2\n",
      "b\"Less than 20 percent of Boise 's sales would come from making lumber and paper after the OfficeMax purchase is completed .\"\n",
      "b\"Less than 20 percent of Boise 's sales would come from making lumber and paper after the OfficeMax purchase is complete , assuming those businesses aren 't sold .\"\n",
      "label: 0 (not_equivalent)\n",
      "\n",
      "sample row 3\n",
      "b'Spider-Man snatched $ 114.7 million in its debut last year and went on to capture $ 403.7 million .'\n",
      "b'Spider-Man , rated PG-13 , snatched $ 114.7 million in its first weekend and went on to take in $ 403.7 million .'\n",
      "label: 1 (equivalent)\n",
      "\n",
      "sample row 4\n",
      "b\"The 2002 second quarter results don 't include figures from our friends at Compaq .\"\n",
      "b'The year-ago numbers do not include figures from Compaq Computer .'\n",
      "label: 1 (equivalent)\n",
      "\n",
      "sample row 5\n",
      "b'Solomon 5.5 is available initially in the United States and Canada , for a starting price of about $ 12,700 .'\n",
      "b'Solomon 5.5 is now available in the U.S. and Canada through Microsoft Business Solutions resellers .'\n",
      "label: 0 (not_equivalent)\n",
      "\n"
     ]
    }
   ],
   "source": [
    "tfds_name = 'glue/mrpc'  #@param ['glue/cola', 'glue/sst2', 'glue/mrpc', 'glue/qqp', 'glue/mnli', 'glue/qnli', 'glue/rte', 'glue/wnli']\n",
    "\n",
    "tfds_info = tfds.builder(tfds_name).info\n",
    "\n",
    "sentence_features = list(tfds_info.features.keys())\n",
    "sentence_features.remove('idx')\n",
    "sentence_features.remove('label')\n",
    "\n",
    "available_splits = list(tfds_info.splits.keys())\n",
    "train_split = 'train'\n",
    "validation_split = 'validation'\n",
    "test_split = 'test'\n",
    "if tfds_name == 'glue/mnli':\n",
    "  validation_split = 'validation_matched'\n",
    "  test_split = 'test_matched'\n",
    "\n",
    "num_classes = tfds_info.features['label'].num_classes\n",
    "num_examples = tfds_info.splits.total_num_examples\n",
    "\n",
    "print(f'Using {tfds_name} from TFDS')\n",
    "print(f'This dataset has {num_examples} examples')\n",
    "print(f'Number of classes: {num_classes}')\n",
    "print(f'Features {sentence_features}')\n",
    "print(f'Splits {available_splits}')\n",
    "\n",
    "with tf.device('/job:localhost'):\n",
    "  # batch_size=-1 is a way to load the dataset into memory\n",
    "  in_memory_ds = tfds.load(tfds_name, batch_size=-1, shuffle_files=True)\n",
    "\n",
    "# The code below is just to show some samples from the selected dataset\n",
    "print(f'Here are some sample rows from {tfds_name} dataset')\n",
    "sample_dataset = tf.data.Dataset.from_tensor_slices(in_memory_ds[train_split])\n",
    "\n",
    "labels_names = tfds_info.features['label'].names\n",
    "print(labels_names)\n",
    "print()\n",
    "\n",
    "sample_i = 1\n",
    "for sample_row in sample_dataset.take(5):\n",
    "  samples = [sample_row[feature] for feature in sentence_features]\n",
    "  print(f'sample row {sample_i}')\n",
    "  for sample in samples:\n",
    "    print(sample.numpy())\n",
    "  sample_label = sample_row['label']\n",
    "\n",
    "  print(f'label: {sample_label} ({labels_names[sample_label]})')\n",
    "  print()\n",
    "  sample_i += 1"
   ]
  },
  {
   "cell_type": "markdown",
   "metadata": {
    "id": "lFhjoYtsoVNF"
   },
   "source": [
    "The dataset also determines the problem type (classification or regression) and the appropriate loss function for training."
   ]
  },
  {
   "cell_type": "code",
   "execution_count": null,
   "metadata": {
    "id": "OWPOZE-L3AgE"
   },
   "outputs": [],
   "source": [
    "def get_configuration(glue_task):\n",
    "\n",
    "  loss = tf.keras.losses.SparseCategoricalCrossentropy(from_logits=True)\n",
    "\n",
    "  if glue_task == 'glue/mrpc':\n",
    "    metrics = tfa.metrics.MatthewsCorrelationCoefficient(num_classes=2)\n",
    "  else:\n",
    "    metrics = tf.keras.metrics.SparseCategoricalAccuracy(\n",
    "        'accuracy', dtype=tf.float32)\n",
    "\n",
    "  return metrics, loss"
   ]
  },
  {
   "cell_type": "markdown",
   "metadata": {
    "id": "EgJoTvo2DsWq"
   },
   "source": [
    "## Train your model\n",
    "\n",
    "Finally, you can train the model end-to-end on the dataset you chose.\n",
    "\n",
    "### Distribution\n",
    "\n",
    "Recall the set-up code at the top, which has connected the colab runtime to\n",
    "a TPU worker with multiple TPU devices. To distribute training onto them, you will create and compile your main Keras model within the scope of the TPU distribution strategy. (For details, see [Distributed training with Keras](https://www.tensorflow.org/tutorials/distribute/keras).)\n",
    "\n",
    "Preprocessing, on the other hand, runs on the CPU of the worker host, not the TPUs, so the Keras model for preprocessing as well as the training and validation datasets mapped with it are built outside the distribution strategy scope. The call to `Model.fit()` will take care of distributing the passed-in dataset to the model replicas.\n",
    "\n",
    "Note: The single TPU worker host already has the resource objects (think: a lookup table) needed for tokenization. Scaling up to multiple workers requires use of `Strategy.experimental_distribute_datasets_from_function` with a function that loads the preprocessing model separately onto each worker.\n",
    "\n",
    "### Optimizer\n",
    "\n",
    "Fine-tuning follows the optimizer set-up from BERT pre-training (as in [Classify text with BERT](https://www.tensorflow.org/tutorials/text/classify_text_with_bert)): It uses the AdamW optimizer with a linear decay of a notional initial learning rate, prefixed with a linear warm-up phase over the first 10% of training steps (`num_warmup_steps`). In line with the BERT paper, the initial learning rate is smaller for fine-tuning (best of 5e-5, 3e-5, 2e-5)."
   ]
  },
  {
   "cell_type": "code",
   "execution_count": null,
   "metadata": {
    "colab": {
     "base_uri": "https://localhost:8080/"
    },
    "id": "AiU5_ioh_fEr",
    "outputId": "cb50d00a-50ed-45f1-e1a3-4e71278e99ad"
   },
   "outputs": [
    {
     "name": "stdout",
     "output_type": "stream",
     "text": [
      "Fine tuning https://tfhub.dev/tensorflow/bert_en_uncased_L-12_H-768_A-12/3 model\n"
     ]
    },
    {
     "name": "stderr",
     "output_type": "stream",
     "text": [
      "/usr/local/lib/python3.7/dist-packages/tensorflow/python/keras/engine/functional.py:595: UserWarning: Input dict contained keys ['idx', 'label'] which did not match any model input. They will be ignored by the model.\n",
      "  [n for n in tensors.keys() if n not in ref_input_names])\n"
     ]
    },
    {
     "name": "stdout",
     "output_type": "stream",
     "text": [
      "Epoch 1/3\n"
     ]
    },
    {
     "name": "stderr",
     "output_type": "stream",
     "text": [
      "/usr/local/lib/python3.7/dist-packages/tensorflow/python/framework/indexed_slices.py:437: UserWarning: Converting sparse IndexedSlices(IndexedSlices(indices=Tensor(\"AdamWeightDecay/gradients/StatefulPartitionedCall:1\", shape=(None,), dtype=int32), values=Tensor(\"clip_by_global_norm/clip_by_global_norm/_0:0\", dtype=float32), dense_shape=Tensor(\"AdamWeightDecay/gradients/StatefulPartitionedCall:2\", shape=(None,), dtype=int32))) to a dense Tensor of unknown shape. This may consume a large amount of memory.\n",
      "  \"shape. This may consume a large amount of memory.\" % value)\n"
     ]
    },
    {
     "name": "stdout",
     "output_type": "stream",
     "text": [
      "114/114 [==============================] - 80s 133ms/step - loss: 0.6604 - MatthewsCorrelationCoefficient: 0.5791 - val_loss: 0.5100 - val_MatthewsCorrelationCoefficient: 0.5830\n",
      "Epoch 2/3\n",
      "114/114 [==============================] - 10s 88ms/step - loss: 0.4376 - MatthewsCorrelationCoefficient: 0.5777 - val_loss: 0.4716 - val_MatthewsCorrelationCoefficient: 0.5830\n",
      "Epoch 3/3\n",
      "114/114 [==============================] - 10s 88ms/step - loss: 0.3204 - MatthewsCorrelationCoefficient: 0.5800 - val_loss: 0.5155 - val_MatthewsCorrelationCoefficient: 0.5830\n"
     ]
    }
   ],
   "source": [
    "epochs = 3\n",
    "batch_size = 32\n",
    "init_lr = 2e-5\n",
    "\n",
    "print(f'Fine tuning {tfhub_handle_encoder} model')\n",
    "bert_preprocess_model = make_bert_preprocess_model(sentence_features)\n",
    "\n",
    "with strategy.scope():\n",
    "\n",
    "  # metric have to be created inside the strategy scope\n",
    "  metrics, loss = get_configuration(tfds_name)\n",
    "\n",
    "  train_dataset, train_data_size = load_dataset_from_tfds(\n",
    "      in_memory_ds, tfds_info, train_split, batch_size, bert_preprocess_model)\n",
    "  steps_per_epoch = train_data_size // batch_size\n",
    "  num_train_steps = steps_per_epoch * epochs\n",
    "  num_warmup_steps = num_train_steps // 10\n",
    "\n",
    "  validation_dataset, validation_data_size = load_dataset_from_tfds(\n",
    "      in_memory_ds, tfds_info, validation_split, batch_size,\n",
    "      bert_preprocess_model)\n",
    "  validation_steps = validation_data_size // batch_size\n",
    "\n",
    "  classifier_model = build_classifier_model(num_classes)\n",
    "  \n",
    "\n",
    "  optimizer = optimization.create_optimizer(\n",
    "      init_lr=init_lr,\n",
    "      num_train_steps=num_train_steps,\n",
    "      num_warmup_steps=num_warmup_steps,\n",
    "      optimizer_type='adamw')\n",
    "\n",
    "  # load pretrained on mnli\n",
    "  ckpt = '/content/drive/My Drive/3033-NLP/Project/pytorch2tf/models/bert_glue/glue_mnli/variables/variables'\n",
    "  classifier_model.compile(optimizer=optimizer, loss=loss, metrics=[metrics])\n",
    "  classifier_model.load_weights(ckpt)\n",
    "  # checkpoint = tf.train.Checkpoint(optimizer=optimizer, model=classifier_model)\n",
    "  # checkpoint.restore(tf.train.latest_checkpoint(mnli_ckpt))\n",
    "\n",
    "  # cont training\n",
    "  classifier_model.fit(\n",
    "      x=train_dataset,\n",
    "      validation_data=validation_dataset,\n",
    "      steps_per_epoch=steps_per_epoch,\n",
    "      epochs=epochs,\n",
    "      validation_steps=validation_steps)\n",
    "  \n",
    " "
   ]
  },
  {
   "cell_type": "markdown",
   "metadata": {
    "id": "Rtn7jewb6dg4"
   },
   "source": [
    "## Export for inference\n",
    "\n",
    "You will create a final model that has the preprocessing part and the fine-tuned BERT we've just created.\n",
    "\n",
    "At inference time, preprocessing needs to be part of the model (because there is no longer a separate input queue as for training data that does it). Preprocessing is not just computation; it has its own resources (the vocab table) that must be attached to the Keras Model that is saved for export.\n",
    "This final assembly is what will be saved.\n",
    "\n",
    "You are going to save the model on colab and later you can download to keep it for the future (**View -> Table of contents -> Files**).\n"
   ]
  },
  {
   "cell_type": "code",
   "execution_count": null,
   "metadata": {
    "colab": {
     "base_uri": "https://localhost:8080/"
    },
    "id": "ShcvqJAgVera",
    "outputId": "8ae67713-1c44-4ef7-b816-38298efc98cf"
   },
   "outputs": [
    {
     "name": "stdout",
     "output_type": "stream",
     "text": [
      "Saving /content/drive/My Drive/3033-NLP/Project/pytorch2tf/models/bert_glue/mnli_mrpc/glue_mrpc_bert_en_uncased_L-12_H-768_A-12\n"
     ]
    },
    {
     "name": "stderr",
     "output_type": "stream",
     "text": [
      "WARNING:absl:Found untraced functions such as restored_function_body, restored_function_body, restored_function_body, restored_function_body, restored_function_body while saving (showing 5 of 910). These functions will not be directly callable after loading.\n",
      "WARNING:absl:Found untraced functions such as restored_function_body, restored_function_body, restored_function_body, restored_function_body, restored_function_body while saving (showing 5 of 910). These functions will not be directly callable after loading.\n"
     ]
    }
   ],
   "source": [
    "main_save_path = '/content/drive/My Drive/3033-NLP/Project/pytorch2tf/models/bert_glue/mnli_mrpc'\n",
    "bert_type = tfhub_handle_encoder.split('/')[-2]\n",
    "saved_model_name = f'{tfds_name.replace(\"/\", \"_\")}_{bert_type}'\n",
    "\n",
    "saved_model_path = os.path.join(main_save_path, saved_model_name)\n",
    "\n",
    "preprocess_inputs = bert_preprocess_model.inputs\n",
    "bert_encoder_inputs = bert_preprocess_model(preprocess_inputs)\n",
    "bert_outputs = classifier_model(bert_encoder_inputs)\n",
    "model_for_export = tf.keras.Model(preprocess_inputs, bert_outputs)\n",
    "\n",
    "print('Saving', saved_model_path)\n",
    "\n",
    "# Save everything on the Colab host (even the variables from TPU memory)\n",
    "save_options = tf.saved_model.SaveOptions(experimental_io_device='/job:localhost')\n",
    "model_for_export.save(saved_model_path, include_optimizer=False,\n",
    "                      options=save_options)"
   ]
  },
  {
   "cell_type": "markdown",
   "metadata": {
    "id": "C2qyM9Q9z12v"
   },
   "source": [
    "## Test the model\n",
    "\n",
    "The final step is testing the results of your exported model.\n",
    "\n",
    "Just to make some comparison, let's reload the model and test it using some inputs from the test split from the dataset.\n",
    "\n",
    "Note: The test is done on the colab host, not the TPU worker that it has connected to, so it appears below with explicit device placements. You can omit those when loading the SavedModel elsewhere."
   ]
  },
  {
   "cell_type": "code",
   "execution_count": null,
   "metadata": {
    "id": "BhI0_W0kbXji"
   },
   "outputs": [],
   "source": [
    "with tf.device('/job:localhost'):\n",
    "  reloaded_model = tf.saved_model.load(saved_model_path)"
   ]
  },
  {
   "cell_type": "code",
   "execution_count": null,
   "metadata": {
    "cellView": "form",
    "id": "4yl-CEcDDXzX"
   },
   "outputs": [],
   "source": [
    "#@title Utility methods\n",
    "\n",
    "def prepare(record):\n",
    "  model_inputs = [[record[ft]] for ft in sentence_features]\n",
    "  return model_inputs\n",
    "\n",
    "\n",
    "def prepare_serving(record):\n",
    "  model_inputs = {ft: record[ft] for ft in sentence_features}\n",
    "  return model_inputs\n",
    "\n",
    "\n",
    "def print_bert_results(test, bert_result, dataset_name):\n",
    "\n",
    "  bert_result_class = tf.argmax(bert_result, axis=1)[0]\n",
    "\n",
    "  if dataset_name == 'glue/cola':\n",
    "    print('sentence:', test[0].numpy())\n",
    "    if bert_result_class == 1:\n",
    "      print('This sentence is acceptable')\n",
    "    else:\n",
    "      print('This sentence is unacceptable')\n",
    "\n",
    "  elif dataset_name == 'glue/sst2':\n",
    "    print('sentence:', test[0])\n",
    "    if bert_result_class == 1:\n",
    "      print('This sentence has POSITIVE sentiment')\n",
    "    else:\n",
    "      print('This sentence has NEGATIVE sentiment')\n",
    "\n",
    "  elif dataset_name == 'glue/mrpc':\n",
    "    print('sentence1:', test[0])\n",
    "    print('sentence2:', test[1])\n",
    "    if bert_result_class == 1:\n",
    "      print('Are a paraphrase')\n",
    "    else:\n",
    "      print('Are NOT a paraphrase')\n",
    "\n",
    "  elif dataset_name == 'glue/qqp':\n",
    "    print('question1:', test[0])\n",
    "    print('question2:', test[1])\n",
    "    if bert_result_class == 1:\n",
    "      print('Questions are similar')\n",
    "    else:\n",
    "      print('Questions are NOT similar')\n",
    "\n",
    "  elif dataset_name == 'glue/mnli':\n",
    "    print('premise   :', test[0])\n",
    "    print('hypothesis:', test[1])\n",
    "    if bert_result_class == 1:\n",
    "      print('This premise is NEUTRAL to the hypothesis')\n",
    "    elif bert_result_class == 2:\n",
    "      print('This premise CONTRADICTS the hypothesis')\n",
    "    else:\n",
    "      print('This premise ENTAILS the hypothesis')\n",
    "\n",
    "  elif dataset_name == 'glue/qnli':\n",
    "    print('question:', test[0])\n",
    "    print('sentence:', test[1])\n",
    "    if bert_result_class == 1:\n",
    "      print('The question is NOT answerable by the sentence')\n",
    "    else:\n",
    "      print('The question is answerable by the sentence')\n",
    "\n",
    "  elif dataset_name == 'glue/rte':\n",
    "    print('sentence1:', test[0])\n",
    "    print('sentence2:', test[1])\n",
    "    if bert_result_class == 1:\n",
    "      print('Sentence1 DOES NOT entails sentence2')\n",
    "    else:\n",
    "      print('Sentence1 entails sentence2')\n",
    "\n",
    "  elif dataset_name == 'glue/wnli':\n",
    "    print('sentence1:', test[0])\n",
    "    print('sentence2:', test[1])\n",
    "    if bert_result_class == 1:\n",
    "      print('Sentence1 DOES NOT entails sentence2')\n",
    "    else:\n",
    "      print('Sentence1 entails sentence2')\n",
    "\n",
    "  print('BERT raw results:', bert_result[0])\n",
    "  print()"
   ]
  },
  {
   "cell_type": "markdown",
   "metadata": {
    "id": "12VA4BcKuR7n"
   },
   "source": [
    "### Test"
   ]
  },
  {
   "cell_type": "code",
   "execution_count": null,
   "metadata": {
    "colab": {
     "base_uri": "https://localhost:8080/"
    },
    "id": "dt-O94gcwbIi",
    "outputId": "4c112702-8cc6-4967-bc23-751c68780e3f"
   },
   "outputs": [
    {
     "name": "stdout",
     "output_type": "stream",
     "text": [
      "sentence1: tf.Tensor([b'\" The National has no interest in acquiring AMP while AMP owns its UK business , \" Cicutto added .'], shape=(1,), dtype=string)\n",
      "sentence2: tf.Tensor([b'\" The National has no interest in acquiring AMP while AMP owns its U.K. business , \" NAB chief executive Frank Cicutto said .'], shape=(1,), dtype=string)\n",
      "Are a paraphrase\n",
      "BERT raw results: tf.Tensor([-1.7588199  2.3391142], shape=(2,), dtype=float32)\n",
      "\n",
      "sentence1: tf.Tensor([b'He fought for laws that kept his daughter segregated and in an inferior position .'], shape=(1,), dtype=string)\n",
      "sentence2: tf.Tensor([b'Sen. Thurmond \" never acknowledged his daughter and fought for laws that kept his daughter segregated .'], shape=(1,), dtype=string)\n",
      "Are a paraphrase\n",
      "BERT raw results: tf.Tensor([-0.6207536  0.1176576], shape=(2,), dtype=float32)\n",
      "\n",
      "sentence1: tf.Tensor([b'BAT BATS.L also said Managing Director Paul Adams would step up to chief executive from January 1 , 2004 , to ease the transition .'], shape=(1,), dtype=string)\n",
      "sentence2: tf.Tensor([b'As part of the changes BAT said managing director , Paul Adams , 50 , would become chief executive from January 1 .'], shape=(1,), dtype=string)\n",
      "Are a paraphrase\n",
      "BERT raw results: tf.Tensor([-1.6268908  2.0357294], shape=(2,), dtype=float32)\n",
      "\n",
      "sentence1: tf.Tensor([b'The victims were not identified , although authorities said at least one of the bodies had been there about a year .'], shape=(1,), dtype=string)\n",
      "sentence2: tf.Tensor([b'The two victims buried in the yard were not identified , though authorities said at least one has been there about a year .'], shape=(1,), dtype=string)\n",
      "Are a paraphrase\n",
      "BERT raw results: tf.Tensor([-0.9872796  1.8137606], shape=(2,), dtype=float32)\n",
      "\n",
      "sentence1: tf.Tensor([b'TVT Records sought $ 360 million in punitive damages and $ 30 million in compensatory damages , officials said .'], shape=(1,), dtype=string)\n",
      "sentence2: tf.Tensor([b'The damages included $ 24 million in compensatory damages and $ 52 million in punitive damages for IDJ .'], shape=(1,), dtype=string)\n",
      "Are NOT a paraphrase\n",
      "BERT raw results: tf.Tensor([ 1.3035982 -1.7106235], shape=(2,), dtype=float32)\n",
      "\n"
     ]
    }
   ],
   "source": [
    "with tf.device('/job:localhost'):\n",
    "  test_dataset = tf.data.Dataset.from_tensor_slices(in_memory_ds[test_split])\n",
    "  for test_row in test_dataset.shuffle(1000).map(prepare).take(5):\n",
    "    if len(sentence_features) == 1:\n",
    "      result = reloaded_model(test_row[0])\n",
    "    else:\n",
    "      result = reloaded_model(list(test_row))\n",
    "\n",
    "    print_bert_results(test_row, result, tfds_name)"
   ]
  },
  {
   "cell_type": "markdown",
   "metadata": {
    "id": "3cOmih754Y_M"
   },
   "source": [
    "If you want to use your model on [TF Serving](https://www.tensorflow.org/tfx/guide/serving), remember that it will call your SavedModel through one of its named signatures. Notice there are some small differences in the input. In Python, you can test them as follows:"
   ]
  },
  {
   "cell_type": "code",
   "execution_count": null,
   "metadata": {
    "colab": {
     "base_uri": "https://localhost:8080/"
    },
    "id": "b0vTQAXKN_K0",
    "outputId": "723a6daf-3176-4dbf-d527-87a17a8760d8"
   },
   "outputs": [
    {
     "name": "stdout",
     "output_type": "stream",
     "text": [
      "sentence1: tf.Tensor(b'Another shooting linked to the spree occurred Nov. 11 at Hamilton Central Elementary in Obetz , about two miles from the freeway .', shape=(), dtype=string)\n",
      "sentence2: tf.Tensor(b'The latest shooting linked to the spree was a Nov. 11 shooting at Hamilton Township Elementary School in Obetz , about two miles from the freeway .', shape=(), dtype=string)\n",
      "Are a paraphrase\n",
      "BERT raw results: tf.Tensor([-2.2118163  2.6976104], shape=(2,), dtype=float32)\n",
      "\n",
      "sentence1: tf.Tensor(b'The SharePoint Portal Server application , which facilitates teamwork , retails for $ 5,619 .', shape=(), dtype=string)\n",
      "sentence2: tf.Tensor(b'Server software , however , costs thousands of dollars , such as SharePoint Portal Server , which retails for $ 5,619 .', shape=(), dtype=string)\n",
      "Are a paraphrase\n",
      "BERT raw results: tf.Tensor([-0.3060244   0.66033894], shape=(2,), dtype=float32)\n",
      "\n",
      "sentence1: tf.Tensor(b'There was no immediate comment from Savage , who did not respond to E-mail requests for an interview .', shape=(), dtype=string)\n",
      "sentence2: tf.Tensor(b'There was no immediate comment from Savage , according to a spokesman at his office in California .', shape=(), dtype=string)\n",
      "Are NOT a paraphrase\n",
      "BERT raw results: tf.Tensor([ 0.428295   -0.16903295], shape=(2,), dtype=float32)\n",
      "\n",
      "sentence1: tf.Tensor(b'But he said labor would see whether other senators can increase the value of awards proposed by Hatch and create a mechanism to ensure the fund remains solvent .', shape=(), dtype=string)\n",
      "sentence2: tf.Tensor(b'Democrats now hope to increase the value of awards proposed by Hatch and to create a mechanism to ensure the fund remains solvent .', shape=(), dtype=string)\n",
      "Are a paraphrase\n",
      "BERT raw results: tf.Tensor([-0.06429112  0.16601801], shape=(2,), dtype=float32)\n",
      "\n",
      "sentence1: tf.Tensor(b'State Supreme Court Justice Ira Gammerman said in court this morning , \" It was an ill-conceived lawsuit . \"', shape=(), dtype=string)\n",
      "sentence2: tf.Tensor(b'New York Supreme Court Justice Ira Gammerman said in his statement that the lawsuit was \" ill-conceived . \"', shape=(), dtype=string)\n",
      "Are a paraphrase\n",
      "BERT raw results: tf.Tensor([-2.1928277  2.7484913], shape=(2,), dtype=float32)\n",
      "\n"
     ]
    }
   ],
   "source": [
    "with tf.device('/job:localhost'):\n",
    "  serving_model = reloaded_model.signatures['serving_default']\n",
    "  for test_row in test_dataset.shuffle(1000).map(prepare_serving).take(5):\n",
    "    result = serving_model(**test_row)\n",
    "    # The 'prediction' key is the classifier's defined model name.\n",
    "    print_bert_results(list(test_row.values()), result['prediction'], tfds_name)"
   ]
  },
  {
   "cell_type": "markdown",
   "metadata": {
    "id": "GOA5bX2g3wCW"
   },
   "source": [
    "You did it! Your saved model could be used for serving or simple inference in a process, with a simpler api with less code and easier to maintain.\n",
    "\n",
    "## Next Steps\n",
    "\n",
    "Now that you've tried one of the base BERT models, you can try other ones to achieve more accuracy or maybe with smaller model versions.\n",
    "\n",
    "You can also try in other datasets."
   ]
  }
 ],
 "metadata": {
  "accelerator": "TPU",
  "colab": {
   "collapsed_sections": [],
   "name": "[My] solve_glue_tasks_using_bert_on_tpu.ipynb",
   "provenance": [],
   "toc_visible": true
  },
  "kernelspec": {
   "display_name": "Python 3",
   "language": "python",
   "name": "python3"
  },
  "language_info": {
   "codemirror_mode": {
    "name": "ipython",
    "version": 3
   },
   "file_extension": ".py",
   "mimetype": "text/x-python",
   "name": "python",
   "nbconvert_exporter": "python",
   "pygments_lexer": "ipython3",
   "version": "3.7.4"
  },
  "widgets": {
   "application/vnd.jupyter.widget-state+json": {
    "0320d9e46f4e420c84ffc2b446655990": {
     "model_module": "@jupyter-widgets/controls",
     "model_name": "HBoxModel",
     "state": {
      "_dom_classes": [],
      "_model_module": "@jupyter-widgets/controls",
      "_model_module_version": "1.5.0",
      "_model_name": "HBoxModel",
      "_view_count": null,
      "_view_module": "@jupyter-widgets/controls",
      "_view_module_version": "1.5.0",
      "_view_name": "HBoxView",
      "box_style": "",
      "children": [
       "IPY_MODEL_54f6123966254433ab9a1fb8062d12b2",
       "IPY_MODEL_0647b0a882274994ab3c542d30b68e30"
      ],
      "layout": "IPY_MODEL_463cffee16d545fe9072ea7304cb45dd"
     }
    },
    "0647b0a882274994ab3c542d30b68e30": {
     "model_module": "@jupyter-widgets/controls",
     "model_name": "HTMLModel",
     "state": {
      "_dom_classes": [],
      "_model_module": "@jupyter-widgets/controls",
      "_model_module_version": "1.5.0",
      "_model_name": "HTMLModel",
      "_view_count": null,
      "_view_module": "@jupyter-widgets/controls",
      "_view_module_version": "1.5.0",
      "_view_name": "HTMLView",
      "description": "",
      "description_tooltip": null,
      "layout": "IPY_MODEL_0e0d88a6580244db9c5cffc0cea6f423",
      "placeholder": "​",
      "style": "IPY_MODEL_4f1224afeda141e390d9999ec6912d78",
      "value": " 3/3 [00:00&lt;00:00,  3.01 url/s]"
     }
    },
    "0e0d88a6580244db9c5cffc0cea6f423": {
     "model_module": "@jupyter-widgets/base",
     "model_name": "LayoutModel",
     "state": {
      "_model_module": "@jupyter-widgets/base",
      "_model_module_version": "1.2.0",
      "_model_name": "LayoutModel",
      "_view_count": null,
      "_view_module": "@jupyter-widgets/base",
      "_view_module_version": "1.2.0",
      "_view_name": "LayoutView",
      "align_content": null,
      "align_items": null,
      "align_self": null,
      "border": null,
      "bottom": null,
      "display": null,
      "flex": null,
      "flex_flow": null,
      "grid_area": null,
      "grid_auto_columns": null,
      "grid_auto_flow": null,
      "grid_auto_rows": null,
      "grid_column": null,
      "grid_gap": null,
      "grid_row": null,
      "grid_template_areas": null,
      "grid_template_columns": null,
      "grid_template_rows": null,
      "height": null,
      "justify_content": null,
      "justify_items": null,
      "left": null,
      "margin": null,
      "max_height": null,
      "max_width": null,
      "min_height": null,
      "min_width": null,
      "object_fit": null,
      "object_position": null,
      "order": null,
      "overflow": null,
      "overflow_x": null,
      "overflow_y": null,
      "padding": null,
      "right": null,
      "top": null,
      "visibility": null,
      "width": null
     }
    },
    "12dd57ae518f4b5b8a77a78a5ce54bcf": {
     "model_module": "@jupyter-widgets/controls",
     "model_name": "ProgressStyleModel",
     "state": {
      "_model_module": "@jupyter-widgets/controls",
      "_model_module_version": "1.5.0",
      "_model_name": "ProgressStyleModel",
      "_view_count": null,
      "_view_module": "@jupyter-widgets/base",
      "_view_module_version": "1.2.0",
      "_view_name": "StyleView",
      "bar_color": null,
      "description_width": "initial"
     }
    },
    "17532e07b52947b189eb2c2faad420bd": {
     "model_module": "@jupyter-widgets/base",
     "model_name": "LayoutModel",
     "state": {
      "_model_module": "@jupyter-widgets/base",
      "_model_module_version": "1.2.0",
      "_model_name": "LayoutModel",
      "_view_count": null,
      "_view_module": "@jupyter-widgets/base",
      "_view_module_version": "1.2.0",
      "_view_name": "LayoutView",
      "align_content": null,
      "align_items": null,
      "align_self": null,
      "border": null,
      "bottom": null,
      "display": null,
      "flex": null,
      "flex_flow": null,
      "grid_area": null,
      "grid_auto_columns": null,
      "grid_auto_flow": null,
      "grid_auto_rows": null,
      "grid_column": null,
      "grid_gap": null,
      "grid_row": null,
      "grid_template_areas": null,
      "grid_template_columns": null,
      "grid_template_rows": null,
      "height": null,
      "justify_content": null,
      "justify_items": null,
      "left": null,
      "margin": null,
      "max_height": null,
      "max_width": null,
      "min_height": null,
      "min_width": null,
      "object_fit": null,
      "object_position": null,
      "order": null,
      "overflow": null,
      "overflow_x": null,
      "overflow_y": null,
      "padding": null,
      "right": null,
      "top": null,
      "visibility": null,
      "width": null
     }
    },
    "1fb7f8987f4b4304a015b3f54cbb46e8": {
     "model_module": "@jupyter-widgets/controls",
     "model_name": "DescriptionStyleModel",
     "state": {
      "_model_module": "@jupyter-widgets/controls",
      "_model_module_version": "1.5.0",
      "_model_name": "DescriptionStyleModel",
      "_view_count": null,
      "_view_module": "@jupyter-widgets/base",
      "_view_module_version": "1.2.0",
      "_view_name": "StyleView",
      "description_width": ""
     }
    },
    "201804baf6584ccfb13efa1e9d14c9e7": {
     "model_module": "@jupyter-widgets/base",
     "model_name": "LayoutModel",
     "state": {
      "_model_module": "@jupyter-widgets/base",
      "_model_module_version": "1.2.0",
      "_model_name": "LayoutModel",
      "_view_count": null,
      "_view_module": "@jupyter-widgets/base",
      "_view_module_version": "1.2.0",
      "_view_name": "LayoutView",
      "align_content": null,
      "align_items": null,
      "align_self": null,
      "border": null,
      "bottom": null,
      "display": null,
      "flex": null,
      "flex_flow": null,
      "grid_area": null,
      "grid_auto_columns": null,
      "grid_auto_flow": null,
      "grid_auto_rows": null,
      "grid_column": null,
      "grid_gap": null,
      "grid_row": null,
      "grid_template_areas": null,
      "grid_template_columns": null,
      "grid_template_rows": null,
      "height": null,
      "justify_content": null,
      "justify_items": null,
      "left": null,
      "margin": null,
      "max_height": null,
      "max_width": null,
      "min_height": null,
      "min_width": null,
      "object_fit": null,
      "object_position": null,
      "order": null,
      "overflow": null,
      "overflow_x": null,
      "overflow_y": null,
      "padding": null,
      "right": null,
      "top": null,
      "visibility": null,
      "width": null
     }
    },
    "2251683c07aa48e6886f5306c09f3d47": {
     "model_module": "@jupyter-widgets/controls",
     "model_name": "HBoxModel",
     "state": {
      "_dom_classes": [],
      "_model_module": "@jupyter-widgets/controls",
      "_model_module_version": "1.5.0",
      "_model_name": "HBoxModel",
      "_view_count": null,
      "_view_module": "@jupyter-widgets/controls",
      "_view_module_version": "1.5.0",
      "_view_name": "HBoxView",
      "box_style": "",
      "children": [
       "IPY_MODEL_228a1519cbf248678910f3775c780fca",
       "IPY_MODEL_fae11500cda842c79a9138dedd903787"
      ],
      "layout": "IPY_MODEL_ebd7ec83304543c2b0eb9b0dc362d1fa"
     }
    },
    "228a1519cbf248678910f3775c780fca": {
     "model_module": "@jupyter-widgets/controls",
     "model_name": "FloatProgressModel",
     "state": {
      "_dom_classes": [],
      "_model_module": "@jupyter-widgets/controls",
      "_model_module_version": "1.5.0",
      "_model_name": "FloatProgressModel",
      "_view_count": null,
      "_view_module": "@jupyter-widgets/controls",
      "_view_module_version": "1.5.0",
      "_view_name": "ProgressView",
      "bar_style": "",
      "description": "Generating train examples...: 100%",
      "description_tooltip": null,
      "layout": "IPY_MODEL_61566cce84a24809ac5352ae444e78a7",
      "max": 3668,
      "min": 0,
      "orientation": "horizontal",
      "style": "IPY_MODEL_3aab22bd5c144fddac3591177890f6cf",
      "value": 3668
     }
    },
    "2533d79558614669b78de3824d31e8ee": {
     "model_module": "@jupyter-widgets/base",
     "model_name": "LayoutModel",
     "state": {
      "_model_module": "@jupyter-widgets/base",
      "_model_module_version": "1.2.0",
      "_model_name": "LayoutModel",
      "_view_count": null,
      "_view_module": "@jupyter-widgets/base",
      "_view_module_version": "1.2.0",
      "_view_name": "LayoutView",
      "align_content": null,
      "align_items": null,
      "align_self": null,
      "border": null,
      "bottom": null,
      "display": null,
      "flex": null,
      "flex_flow": null,
      "grid_area": null,
      "grid_auto_columns": null,
      "grid_auto_flow": null,
      "grid_auto_rows": null,
      "grid_column": null,
      "grid_gap": null,
      "grid_row": null,
      "grid_template_areas": null,
      "grid_template_columns": null,
      "grid_template_rows": null,
      "height": null,
      "justify_content": null,
      "justify_items": null,
      "left": null,
      "margin": null,
      "max_height": null,
      "max_width": null,
      "min_height": null,
      "min_width": null,
      "object_fit": null,
      "object_position": null,
      "order": null,
      "overflow": null,
      "overflow_x": null,
      "overflow_y": null,
      "padding": null,
      "right": null,
      "top": null,
      "visibility": null,
      "width": null
     }
    },
    "272c8da1d1f641d5ac20e077df0ab2bd": {
     "model_module": "@jupyter-widgets/controls",
     "model_name": "ProgressStyleModel",
     "state": {
      "_model_module": "@jupyter-widgets/controls",
      "_model_module_version": "1.5.0",
      "_model_name": "ProgressStyleModel",
      "_view_count": null,
      "_view_module": "@jupyter-widgets/base",
      "_view_module_version": "1.2.0",
      "_view_name": "StyleView",
      "bar_color": null,
      "description_width": "initial"
     }
    },
    "2938deb9a54f4bd3817a6bf61f2a4522": {
     "model_module": "@jupyter-widgets/controls",
     "model_name": "FloatProgressModel",
     "state": {
      "_dom_classes": [],
      "_model_module": "@jupyter-widgets/controls",
      "_model_module_version": "1.5.0",
      "_model_name": "FloatProgressModel",
      "_view_count": null,
      "_view_module": "@jupyter-widgets/controls",
      "_view_module_version": "1.5.0",
      "_view_name": "ProgressView",
      "bar_style": "success",
      "description": "Dl Size...: ",
      "description_tooltip": null,
      "layout": "IPY_MODEL_8b9cf105bb4941d7ba159e44482f1077",
      "max": 1,
      "min": 0,
      "orientation": "horizontal",
      "style": "IPY_MODEL_674632ba4298410294ff44a6a248522a",
      "value": 0
     }
    },
    "2a22a8ee06d44e23b6da26b258fbd120": {
     "model_module": "@jupyter-widgets/controls",
     "model_name": "DescriptionStyleModel",
     "state": {
      "_model_module": "@jupyter-widgets/controls",
      "_model_module_version": "1.5.0",
      "_model_name": "DescriptionStyleModel",
      "_view_count": null,
      "_view_module": "@jupyter-widgets/base",
      "_view_module_version": "1.2.0",
      "_view_name": "StyleView",
      "description_width": ""
     }
    },
    "317a7fa73d9f4c8787e7bc49784d0f8b": {
     "model_module": "@jupyter-widgets/controls",
     "model_name": "DescriptionStyleModel",
     "state": {
      "_model_module": "@jupyter-widgets/controls",
      "_model_module_version": "1.5.0",
      "_model_name": "DescriptionStyleModel",
      "_view_count": null,
      "_view_module": "@jupyter-widgets/base",
      "_view_module_version": "1.2.0",
      "_view_name": "StyleView",
      "description_width": ""
     }
    },
    "331ee955c6434f5e9934cb867d576f10": {
     "model_module": "@jupyter-widgets/controls",
     "model_name": "DescriptionStyleModel",
     "state": {
      "_model_module": "@jupyter-widgets/controls",
      "_model_module_version": "1.5.0",
      "_model_name": "DescriptionStyleModel",
      "_view_count": null,
      "_view_module": "@jupyter-widgets/base",
      "_view_module_version": "1.2.0",
      "_view_name": "StyleView",
      "description_width": ""
     }
    },
    "33efbb667b1148a2be8dc8e9d6e440f2": {
     "model_module": "@jupyter-widgets/base",
     "model_name": "LayoutModel",
     "state": {
      "_model_module": "@jupyter-widgets/base",
      "_model_module_version": "1.2.0",
      "_model_name": "LayoutModel",
      "_view_count": null,
      "_view_module": "@jupyter-widgets/base",
      "_view_module_version": "1.2.0",
      "_view_name": "LayoutView",
      "align_content": null,
      "align_items": null,
      "align_self": null,
      "border": null,
      "bottom": null,
      "display": null,
      "flex": null,
      "flex_flow": null,
      "grid_area": null,
      "grid_auto_columns": null,
      "grid_auto_flow": null,
      "grid_auto_rows": null,
      "grid_column": null,
      "grid_gap": null,
      "grid_row": null,
      "grid_template_areas": null,
      "grid_template_columns": null,
      "grid_template_rows": null,
      "height": null,
      "justify_content": null,
      "justify_items": null,
      "left": null,
      "margin": null,
      "max_height": null,
      "max_width": null,
      "min_height": null,
      "min_width": null,
      "object_fit": null,
      "object_position": null,
      "order": null,
      "overflow": null,
      "overflow_x": null,
      "overflow_y": null,
      "padding": null,
      "right": null,
      "top": null,
      "visibility": null,
      "width": null
     }
    },
    "3677117721c94ff7859dc2eab9cd07e0": {
     "model_module": "@jupyter-widgets/controls",
     "model_name": "HTMLModel",
     "state": {
      "_dom_classes": [],
      "_model_module": "@jupyter-widgets/controls",
      "_model_module_version": "1.5.0",
      "_model_name": "HTMLModel",
      "_view_count": null,
      "_view_module": "@jupyter-widgets/controls",
      "_view_module_version": "1.5.0",
      "_view_name": "HTMLView",
      "description": "",
      "description_tooltip": null,
      "layout": "IPY_MODEL_7532a1fa3c3d411884cff2f8550b0f1c",
      "placeholder": "​",
      "style": "IPY_MODEL_bd9dbd47ff8c40c49243ce992471652e",
      "value": " 408/408 [00:00&lt;00:00, 8493.82 examples/s]"
     }
    },
    "3aab22bd5c144fddac3591177890f6cf": {
     "model_module": "@jupyter-widgets/controls",
     "model_name": "ProgressStyleModel",
     "state": {
      "_model_module": "@jupyter-widgets/controls",
      "_model_module_version": "1.5.0",
      "_model_name": "ProgressStyleModel",
      "_view_count": null,
      "_view_module": "@jupyter-widgets/base",
      "_view_module_version": "1.2.0",
      "_view_name": "StyleView",
      "bar_color": null,
      "description_width": "initial"
     }
    },
    "3dae753062444318a9cae4461b9cd0f2": {
     "model_module": "@jupyter-widgets/base",
     "model_name": "LayoutModel",
     "state": {
      "_model_module": "@jupyter-widgets/base",
      "_model_module_version": "1.2.0",
      "_model_name": "LayoutModel",
      "_view_count": null,
      "_view_module": "@jupyter-widgets/base",
      "_view_module_version": "1.2.0",
      "_view_name": "LayoutView",
      "align_content": null,
      "align_items": null,
      "align_self": null,
      "border": null,
      "bottom": null,
      "display": null,
      "flex": null,
      "flex_flow": null,
      "grid_area": null,
      "grid_auto_columns": null,
      "grid_auto_flow": null,
      "grid_auto_rows": null,
      "grid_column": null,
      "grid_gap": null,
      "grid_row": null,
      "grid_template_areas": null,
      "grid_template_columns": null,
      "grid_template_rows": null,
      "height": null,
      "justify_content": null,
      "justify_items": null,
      "left": null,
      "margin": null,
      "max_height": null,
      "max_width": null,
      "min_height": null,
      "min_width": null,
      "object_fit": null,
      "object_position": null,
      "order": null,
      "overflow": null,
      "overflow_x": null,
      "overflow_y": null,
      "padding": null,
      "right": null,
      "top": null,
      "visibility": null,
      "width": null
     }
    },
    "419920eee0df44d7a3f8237aed89d784": {
     "model_module": "@jupyter-widgets/base",
     "model_name": "LayoutModel",
     "state": {
      "_model_module": "@jupyter-widgets/base",
      "_model_module_version": "1.2.0",
      "_model_name": "LayoutModel",
      "_view_count": null,
      "_view_module": "@jupyter-widgets/base",
      "_view_module_version": "1.2.0",
      "_view_name": "LayoutView",
      "align_content": null,
      "align_items": null,
      "align_self": null,
      "border": null,
      "bottom": null,
      "display": null,
      "flex": null,
      "flex_flow": null,
      "grid_area": null,
      "grid_auto_columns": null,
      "grid_auto_flow": null,
      "grid_auto_rows": null,
      "grid_column": null,
      "grid_gap": null,
      "grid_row": null,
      "grid_template_areas": null,
      "grid_template_columns": null,
      "grid_template_rows": null,
      "height": null,
      "justify_content": null,
      "justify_items": null,
      "left": null,
      "margin": null,
      "max_height": null,
      "max_width": null,
      "min_height": null,
      "min_width": null,
      "object_fit": null,
      "object_position": null,
      "order": null,
      "overflow": null,
      "overflow_x": null,
      "overflow_y": null,
      "padding": null,
      "right": null,
      "top": null,
      "visibility": null,
      "width": null
     }
    },
    "463cffee16d545fe9072ea7304cb45dd": {
     "model_module": "@jupyter-widgets/base",
     "model_name": "LayoutModel",
     "state": {
      "_model_module": "@jupyter-widgets/base",
      "_model_module_version": "1.2.0",
      "_model_name": "LayoutModel",
      "_view_count": null,
      "_view_module": "@jupyter-widgets/base",
      "_view_module_version": "1.2.0",
      "_view_name": "LayoutView",
      "align_content": null,
      "align_items": null,
      "align_self": null,
      "border": null,
      "bottom": null,
      "display": null,
      "flex": null,
      "flex_flow": null,
      "grid_area": null,
      "grid_auto_columns": null,
      "grid_auto_flow": null,
      "grid_auto_rows": null,
      "grid_column": null,
      "grid_gap": null,
      "grid_row": null,
      "grid_template_areas": null,
      "grid_template_columns": null,
      "grid_template_rows": null,
      "height": null,
      "justify_content": null,
      "justify_items": null,
      "left": null,
      "margin": null,
      "max_height": null,
      "max_width": null,
      "min_height": null,
      "min_width": null,
      "object_fit": null,
      "object_position": null,
      "order": null,
      "overflow": null,
      "overflow_x": null,
      "overflow_y": null,
      "padding": null,
      "right": null,
      "top": null,
      "visibility": null,
      "width": null
     }
    },
    "4666d0b864af4a18a302f727a500c331": {
     "model_module": "@jupyter-widgets/controls",
     "model_name": "FloatProgressModel",
     "state": {
      "_dom_classes": [],
      "_model_module": "@jupyter-widgets/controls",
      "_model_module_version": "1.5.0",
      "_model_name": "FloatProgressModel",
      "_view_count": null,
      "_view_module": "@jupyter-widgets/controls",
      "_view_module_version": "1.5.0",
      "_view_name": "ProgressView",
      "bar_style": "",
      "description": "Shuffling glue-train.tfrecord...: 100%",
      "description_tooltip": null,
      "layout": "IPY_MODEL_3dae753062444318a9cae4461b9cd0f2",
      "max": 3668,
      "min": 0,
      "orientation": "horizontal",
      "style": "IPY_MODEL_53e19fe860f0405fb650bbfbfd77b755",
      "value": 3668
     }
    },
    "4a40f722c4ee422baff4de82df3f7adb": {
     "model_module": "@jupyter-widgets/controls",
     "model_name": "HBoxModel",
     "state": {
      "_dom_classes": [],
      "_model_module": "@jupyter-widgets/controls",
      "_model_module_version": "1.5.0",
      "_model_name": "HBoxModel",
      "_view_count": null,
      "_view_module": "@jupyter-widgets/controls",
      "_view_module_version": "1.5.0",
      "_view_name": "HBoxView",
      "box_style": "",
      "children": [
       "IPY_MODEL_2938deb9a54f4bd3817a6bf61f2a4522",
       "IPY_MODEL_99e6b8906ad54f06af7f030c5fefc8a9"
      ],
      "layout": "IPY_MODEL_951376106aa8466a95a05bd569a39b51"
     }
    },
    "4cf1dc3c75114be7993ad4044ecdde16": {
     "model_module": "@jupyter-widgets/controls",
     "model_name": "ProgressStyleModel",
     "state": {
      "_model_module": "@jupyter-widgets/controls",
      "_model_module_version": "1.5.0",
      "_model_name": "ProgressStyleModel",
      "_view_count": null,
      "_view_module": "@jupyter-widgets/base",
      "_view_module_version": "1.2.0",
      "_view_name": "StyleView",
      "bar_color": null,
      "description_width": "initial"
     }
    },
    "4d99376604ea48e1b0da90abaa02da6b": {
     "model_module": "@jupyter-widgets/controls",
     "model_name": "HTMLModel",
     "state": {
      "_dom_classes": [],
      "_model_module": "@jupyter-widgets/controls",
      "_model_module_version": "1.5.0",
      "_model_name": "HTMLModel",
      "_view_count": null,
      "_view_module": "@jupyter-widgets/controls",
      "_view_module_version": "1.5.0",
      "_view_name": "HTMLView",
      "description": "",
      "description_tooltip": null,
      "layout": "IPY_MODEL_8840d849b4b9419d95ecc4166ef02242",
      "placeholder": "​",
      "style": "IPY_MODEL_317a7fa73d9f4c8787e7bc49784d0f8b",
      "value": " 408/408 [00:00&lt;00:00, 498.60 examples/s]"
     }
    },
    "4f1224afeda141e390d9999ec6912d78": {
     "model_module": "@jupyter-widgets/controls",
     "model_name": "DescriptionStyleModel",
     "state": {
      "_model_module": "@jupyter-widgets/controls",
      "_model_module_version": "1.5.0",
      "_model_name": "DescriptionStyleModel",
      "_view_count": null,
      "_view_module": "@jupyter-widgets/base",
      "_view_module_version": "1.2.0",
      "_view_name": "StyleView",
      "description_width": ""
     }
    },
    "51e3638dfd2b449c93c7589437130bc4": {
     "model_module": "@jupyter-widgets/controls",
     "model_name": "HTMLModel",
     "state": {
      "_dom_classes": [],
      "_model_module": "@jupyter-widgets/controls",
      "_model_module_version": "1.5.0",
      "_model_name": "HTMLModel",
      "_view_count": null,
      "_view_module": "@jupyter-widgets/controls",
      "_view_module_version": "1.5.0",
      "_view_name": "HTMLView",
      "description": "",
      "description_tooltip": null,
      "layout": "IPY_MODEL_52cccb6d63d145dcb97d7691ba71abad",
      "placeholder": "​",
      "style": "IPY_MODEL_331ee955c6434f5e9934cb867d576f10",
      "value": " 1725/1725 [00:00&lt;00:00, 43450.59 examples/s]"
     }
    },
    "526962164f9b470d81b3b71745459a81": {
     "model_module": "@jupyter-widgets/controls",
     "model_name": "HBoxModel",
     "state": {
      "_dom_classes": [],
      "_model_module": "@jupyter-widgets/controls",
      "_model_module_version": "1.5.0",
      "_model_name": "HBoxModel",
      "_view_count": null,
      "_view_module": "@jupyter-widgets/controls",
      "_view_module_version": "1.5.0",
      "_view_name": "HBoxView",
      "box_style": "",
      "children": [
       "IPY_MODEL_4666d0b864af4a18a302f727a500c331",
       "IPY_MODEL_591b3b8517bd4b0bb9cdf1c923e8b975"
      ],
      "layout": "IPY_MODEL_c61dfc70d5174ba0a6817141c5d16db3"
     }
    },
    "52cccb6d63d145dcb97d7691ba71abad": {
     "model_module": "@jupyter-widgets/base",
     "model_name": "LayoutModel",
     "state": {
      "_model_module": "@jupyter-widgets/base",
      "_model_module_version": "1.2.0",
      "_model_name": "LayoutModel",
      "_view_count": null,
      "_view_module": "@jupyter-widgets/base",
      "_view_module_version": "1.2.0",
      "_view_name": "LayoutView",
      "align_content": null,
      "align_items": null,
      "align_self": null,
      "border": null,
      "bottom": null,
      "display": null,
      "flex": null,
      "flex_flow": null,
      "grid_area": null,
      "grid_auto_columns": null,
      "grid_auto_flow": null,
      "grid_auto_rows": null,
      "grid_column": null,
      "grid_gap": null,
      "grid_row": null,
      "grid_template_areas": null,
      "grid_template_columns": null,
      "grid_template_rows": null,
      "height": null,
      "justify_content": null,
      "justify_items": null,
      "left": null,
      "margin": null,
      "max_height": null,
      "max_width": null,
      "min_height": null,
      "min_width": null,
      "object_fit": null,
      "object_position": null,
      "order": null,
      "overflow": null,
      "overflow_x": null,
      "overflow_y": null,
      "padding": null,
      "right": null,
      "top": null,
      "visibility": null,
      "width": null
     }
    },
    "536de44dbac7407b854305254ff811aa": {
     "model_module": "@jupyter-widgets/base",
     "model_name": "LayoutModel",
     "state": {
      "_model_module": "@jupyter-widgets/base",
      "_model_module_version": "1.2.0",
      "_model_name": "LayoutModel",
      "_view_count": null,
      "_view_module": "@jupyter-widgets/base",
      "_view_module_version": "1.2.0",
      "_view_name": "LayoutView",
      "align_content": null,
      "align_items": null,
      "align_self": null,
      "border": null,
      "bottom": null,
      "display": null,
      "flex": null,
      "flex_flow": null,
      "grid_area": null,
      "grid_auto_columns": null,
      "grid_auto_flow": null,
      "grid_auto_rows": null,
      "grid_column": null,
      "grid_gap": null,
      "grid_row": null,
      "grid_template_areas": null,
      "grid_template_columns": null,
      "grid_template_rows": null,
      "height": null,
      "justify_content": null,
      "justify_items": null,
      "left": null,
      "margin": null,
      "max_height": null,
      "max_width": null,
      "min_height": null,
      "min_width": null,
      "object_fit": null,
      "object_position": null,
      "order": null,
      "overflow": null,
      "overflow_x": null,
      "overflow_y": null,
      "padding": null,
      "right": null,
      "top": null,
      "visibility": null,
      "width": null
     }
    },
    "53e19fe860f0405fb650bbfbfd77b755": {
     "model_module": "@jupyter-widgets/controls",
     "model_name": "ProgressStyleModel",
     "state": {
      "_model_module": "@jupyter-widgets/controls",
      "_model_module_version": "1.5.0",
      "_model_name": "ProgressStyleModel",
      "_view_count": null,
      "_view_module": "@jupyter-widgets/base",
      "_view_module_version": "1.2.0",
      "_view_name": "StyleView",
      "bar_color": null,
      "description_width": "initial"
     }
    },
    "54f6123966254433ab9a1fb8062d12b2": {
     "model_module": "@jupyter-widgets/controls",
     "model_name": "FloatProgressModel",
     "state": {
      "_dom_classes": [],
      "_model_module": "@jupyter-widgets/controls",
      "_model_module_version": "1.5.0",
      "_model_name": "FloatProgressModel",
      "_view_count": null,
      "_view_module": "@jupyter-widgets/controls",
      "_view_module_version": "1.5.0",
      "_view_name": "ProgressView",
      "bar_style": "success",
      "description": "Dl Completed...: 100%",
      "description_tooltip": null,
      "layout": "IPY_MODEL_a606123a36b34fcd8bef01776c12289f",
      "max": 1,
      "min": 0,
      "orientation": "horizontal",
      "style": "IPY_MODEL_272c8da1d1f641d5ac20e077df0ab2bd",
      "value": 1
     }
    },
    "55b0fdce84b9406fb80524ec194405fb": {
     "model_module": "@jupyter-widgets/controls",
     "model_name": "ProgressStyleModel",
     "state": {
      "_model_module": "@jupyter-widgets/controls",
      "_model_module_version": "1.5.0",
      "_model_name": "ProgressStyleModel",
      "_view_count": null,
      "_view_module": "@jupyter-widgets/base",
      "_view_module_version": "1.2.0",
      "_view_name": "StyleView",
      "bar_color": null,
      "description_width": "initial"
     }
    },
    "57b6f8176c864b089f8d32bd06010d6f": {
     "model_module": "@jupyter-widgets/controls",
     "model_name": "HTMLModel",
     "state": {
      "_dom_classes": [],
      "_model_module": "@jupyter-widgets/controls",
      "_model_module_version": "1.5.0",
      "_model_name": "HTMLModel",
      "_view_count": null,
      "_view_module": "@jupyter-widgets/controls",
      "_view_module_version": "1.5.0",
      "_view_name": "HTMLView",
      "description": "",
      "description_tooltip": null,
      "layout": "IPY_MODEL_419920eee0df44d7a3f8237aed89d784",
      "placeholder": "​",
      "style": "IPY_MODEL_1fb7f8987f4b4304a015b3f54cbb46e8",
      "value": " 1725/1725 [00:00&lt;00:00, 1416.87 examples/s]"
     }
    },
    "591b3b8517bd4b0bb9cdf1c923e8b975": {
     "model_module": "@jupyter-widgets/controls",
     "model_name": "HTMLModel",
     "state": {
      "_dom_classes": [],
      "_model_module": "@jupyter-widgets/controls",
      "_model_module_version": "1.5.0",
      "_model_name": "HTMLModel",
      "_view_count": null,
      "_view_module": "@jupyter-widgets/controls",
      "_view_module_version": "1.5.0",
      "_view_name": "HTMLView",
      "description": "",
      "description_tooltip": null,
      "layout": "IPY_MODEL_f871090391a945a1a5bae59850b37db1",
      "placeholder": "​",
      "style": "IPY_MODEL_eb49ce20f8e74a7f8f4b3ca0dd0cd479",
      "value": " 3668/3668 [00:00&lt;00:00, 57760.81 examples/s]"
     }
    },
    "61566cce84a24809ac5352ae444e78a7": {
     "model_module": "@jupyter-widgets/base",
     "model_name": "LayoutModel",
     "state": {
      "_model_module": "@jupyter-widgets/base",
      "_model_module_version": "1.2.0",
      "_model_name": "LayoutModel",
      "_view_count": null,
      "_view_module": "@jupyter-widgets/base",
      "_view_module_version": "1.2.0",
      "_view_name": "LayoutView",
      "align_content": null,
      "align_items": null,
      "align_self": null,
      "border": null,
      "bottom": null,
      "display": null,
      "flex": null,
      "flex_flow": null,
      "grid_area": null,
      "grid_auto_columns": null,
      "grid_auto_flow": null,
      "grid_auto_rows": null,
      "grid_column": null,
      "grid_gap": null,
      "grid_row": null,
      "grid_template_areas": null,
      "grid_template_columns": null,
      "grid_template_rows": null,
      "height": null,
      "justify_content": null,
      "justify_items": null,
      "left": null,
      "margin": null,
      "max_height": null,
      "max_width": null,
      "min_height": null,
      "min_width": null,
      "object_fit": null,
      "object_position": null,
      "order": null,
      "overflow": null,
      "overflow_x": null,
      "overflow_y": null,
      "padding": null,
      "right": null,
      "top": null,
      "visibility": null,
      "width": null
     }
    },
    "674632ba4298410294ff44a6a248522a": {
     "model_module": "@jupyter-widgets/controls",
     "model_name": "ProgressStyleModel",
     "state": {
      "_model_module": "@jupyter-widgets/controls",
      "_model_module_version": "1.5.0",
      "_model_name": "ProgressStyleModel",
      "_view_count": null,
      "_view_module": "@jupyter-widgets/base",
      "_view_module_version": "1.2.0",
      "_view_name": "StyleView",
      "bar_color": null,
      "description_width": "initial"
     }
    },
    "6de194834a6a4bb99a587739047e17ed": {
     "model_module": "@jupyter-widgets/controls",
     "model_name": "FloatProgressModel",
     "state": {
      "_dom_classes": [],
      "_model_module": "@jupyter-widgets/controls",
      "_model_module_version": "1.5.0",
      "_model_name": "FloatProgressModel",
      "_view_count": null,
      "_view_module": "@jupyter-widgets/controls",
      "_view_module_version": "1.5.0",
      "_view_name": "ProgressView",
      "bar_style": "",
      "description": "Generating validation examples...: 100%",
      "description_tooltip": null,
      "layout": "IPY_MODEL_2533d79558614669b78de3824d31e8ee",
      "max": 408,
      "min": 0,
      "orientation": "horizontal",
      "style": "IPY_MODEL_7bb49d5920a04e5b9885c3ddfed03c43",
      "value": 408
     }
    },
    "7532a1fa3c3d411884cff2f8550b0f1c": {
     "model_module": "@jupyter-widgets/base",
     "model_name": "LayoutModel",
     "state": {
      "_model_module": "@jupyter-widgets/base",
      "_model_module_version": "1.2.0",
      "_model_name": "LayoutModel",
      "_view_count": null,
      "_view_module": "@jupyter-widgets/base",
      "_view_module_version": "1.2.0",
      "_view_name": "LayoutView",
      "align_content": null,
      "align_items": null,
      "align_self": null,
      "border": null,
      "bottom": null,
      "display": null,
      "flex": null,
      "flex_flow": null,
      "grid_area": null,
      "grid_auto_columns": null,
      "grid_auto_flow": null,
      "grid_auto_rows": null,
      "grid_column": null,
      "grid_gap": null,
      "grid_row": null,
      "grid_template_areas": null,
      "grid_template_columns": null,
      "grid_template_rows": null,
      "height": null,
      "justify_content": null,
      "justify_items": null,
      "left": null,
      "margin": null,
      "max_height": null,
      "max_width": null,
      "min_height": null,
      "min_width": null,
      "object_fit": null,
      "object_position": null,
      "order": null,
      "overflow": null,
      "overflow_x": null,
      "overflow_y": null,
      "padding": null,
      "right": null,
      "top": null,
      "visibility": null,
      "width": null
     }
    },
    "7876ed9e858948a8b61b094c014c0b9c": {
     "model_module": "@jupyter-widgets/base",
     "model_name": "LayoutModel",
     "state": {
      "_model_module": "@jupyter-widgets/base",
      "_model_module_version": "1.2.0",
      "_model_name": "LayoutModel",
      "_view_count": null,
      "_view_module": "@jupyter-widgets/base",
      "_view_module_version": "1.2.0",
      "_view_name": "LayoutView",
      "align_content": null,
      "align_items": null,
      "align_self": null,
      "border": null,
      "bottom": null,
      "display": null,
      "flex": null,
      "flex_flow": null,
      "grid_area": null,
      "grid_auto_columns": null,
      "grid_auto_flow": null,
      "grid_auto_rows": null,
      "grid_column": null,
      "grid_gap": null,
      "grid_row": null,
      "grid_template_areas": null,
      "grid_template_columns": null,
      "grid_template_rows": null,
      "height": null,
      "justify_content": null,
      "justify_items": null,
      "left": null,
      "margin": null,
      "max_height": null,
      "max_width": null,
      "min_height": null,
      "min_width": null,
      "object_fit": null,
      "object_position": null,
      "order": null,
      "overflow": null,
      "overflow_x": null,
      "overflow_y": null,
      "padding": null,
      "right": null,
      "top": null,
      "visibility": null,
      "width": null
     }
    },
    "7bb49d5920a04e5b9885c3ddfed03c43": {
     "model_module": "@jupyter-widgets/controls",
     "model_name": "ProgressStyleModel",
     "state": {
      "_model_module": "@jupyter-widgets/controls",
      "_model_module_version": "1.5.0",
      "_model_name": "ProgressStyleModel",
      "_view_count": null,
      "_view_module": "@jupyter-widgets/base",
      "_view_module_version": "1.2.0",
      "_view_name": "StyleView",
      "bar_color": null,
      "description_width": "initial"
     }
    },
    "84fb2824c8074271bc989585c95fc3e3": {
     "model_module": "@jupyter-widgets/base",
     "model_name": "LayoutModel",
     "state": {
      "_model_module": "@jupyter-widgets/base",
      "_model_module_version": "1.2.0",
      "_model_name": "LayoutModel",
      "_view_count": null,
      "_view_module": "@jupyter-widgets/base",
      "_view_module_version": "1.2.0",
      "_view_name": "LayoutView",
      "align_content": null,
      "align_items": null,
      "align_self": null,
      "border": null,
      "bottom": null,
      "display": null,
      "flex": null,
      "flex_flow": null,
      "grid_area": null,
      "grid_auto_columns": null,
      "grid_auto_flow": null,
      "grid_auto_rows": null,
      "grid_column": null,
      "grid_gap": null,
      "grid_row": null,
      "grid_template_areas": null,
      "grid_template_columns": null,
      "grid_template_rows": null,
      "height": null,
      "justify_content": null,
      "justify_items": null,
      "left": null,
      "margin": null,
      "max_height": null,
      "max_width": null,
      "min_height": null,
      "min_width": null,
      "object_fit": null,
      "object_position": null,
      "order": null,
      "overflow": null,
      "overflow_x": null,
      "overflow_y": null,
      "padding": null,
      "right": null,
      "top": null,
      "visibility": null,
      "width": null
     }
    },
    "8840d849b4b9419d95ecc4166ef02242": {
     "model_module": "@jupyter-widgets/base",
     "model_name": "LayoutModel",
     "state": {
      "_model_module": "@jupyter-widgets/base",
      "_model_module_version": "1.2.0",
      "_model_name": "LayoutModel",
      "_view_count": null,
      "_view_module": "@jupyter-widgets/base",
      "_view_module_version": "1.2.0",
      "_view_name": "LayoutView",
      "align_content": null,
      "align_items": null,
      "align_self": null,
      "border": null,
      "bottom": null,
      "display": null,
      "flex": null,
      "flex_flow": null,
      "grid_area": null,
      "grid_auto_columns": null,
      "grid_auto_flow": null,
      "grid_auto_rows": null,
      "grid_column": null,
      "grid_gap": null,
      "grid_row": null,
      "grid_template_areas": null,
      "grid_template_columns": null,
      "grid_template_rows": null,
      "height": null,
      "justify_content": null,
      "justify_items": null,
      "left": null,
      "margin": null,
      "max_height": null,
      "max_width": null,
      "min_height": null,
      "min_width": null,
      "object_fit": null,
      "object_position": null,
      "order": null,
      "overflow": null,
      "overflow_x": null,
      "overflow_y": null,
      "padding": null,
      "right": null,
      "top": null,
      "visibility": null,
      "width": null
     }
    },
    "88f0a6cc32424966bed50c1862155c35": {
     "model_module": "@jupyter-widgets/controls",
     "model_name": "FloatProgressModel",
     "state": {
      "_dom_classes": [],
      "_model_module": "@jupyter-widgets/controls",
      "_model_module_version": "1.5.0",
      "_model_name": "FloatProgressModel",
      "_view_count": null,
      "_view_module": "@jupyter-widgets/controls",
      "_view_module_version": "1.5.0",
      "_view_name": "ProgressView",
      "bar_style": "",
      "description": "Generating splits...: 100%",
      "description_tooltip": null,
      "layout": "IPY_MODEL_f3a82a4e44394c77b189dec6609951b1",
      "max": 3,
      "min": 0,
      "orientation": "horizontal",
      "style": "IPY_MODEL_4cf1dc3c75114be7993ad4044ecdde16",
      "value": 3
     }
    },
    "8b9cf105bb4941d7ba159e44482f1077": {
     "model_module": "@jupyter-widgets/base",
     "model_name": "LayoutModel",
     "state": {
      "_model_module": "@jupyter-widgets/base",
      "_model_module_version": "1.2.0",
      "_model_name": "LayoutModel",
      "_view_count": null,
      "_view_module": "@jupyter-widgets/base",
      "_view_module_version": "1.2.0",
      "_view_name": "LayoutView",
      "align_content": null,
      "align_items": null,
      "align_self": null,
      "border": null,
      "bottom": null,
      "display": null,
      "flex": null,
      "flex_flow": null,
      "grid_area": null,
      "grid_auto_columns": null,
      "grid_auto_flow": null,
      "grid_auto_rows": null,
      "grid_column": null,
      "grid_gap": null,
      "grid_row": null,
      "grid_template_areas": null,
      "grid_template_columns": null,
      "grid_template_rows": null,
      "height": null,
      "justify_content": null,
      "justify_items": null,
      "left": null,
      "margin": null,
      "max_height": null,
      "max_width": null,
      "min_height": null,
      "min_width": null,
      "object_fit": null,
      "object_position": null,
      "order": null,
      "overflow": null,
      "overflow_x": null,
      "overflow_y": null,
      "padding": null,
      "right": null,
      "top": null,
      "visibility": null,
      "width": null
     }
    },
    "90456e5ae65d4349b97ca53adba4439b": {
     "model_module": "@jupyter-widgets/controls",
     "model_name": "FloatProgressModel",
     "state": {
      "_dom_classes": [],
      "_model_module": "@jupyter-widgets/controls",
      "_model_module_version": "1.5.0",
      "_model_name": "FloatProgressModel",
      "_view_count": null,
      "_view_module": "@jupyter-widgets/controls",
      "_view_module_version": "1.5.0",
      "_view_name": "ProgressView",
      "bar_style": "",
      "description": "Generating test examples...: 100%",
      "description_tooltip": null,
      "layout": "IPY_MODEL_9a1cdf852cdb42218be33eb0ffe51066",
      "max": 1725,
      "min": 0,
      "orientation": "horizontal",
      "style": "IPY_MODEL_d4375c9ce2074d0692907dc417844cf7",
      "value": 1725
     }
    },
    "9115c8092bff4a76b4cac41e86f1c802": {
     "model_module": "@jupyter-widgets/base",
     "model_name": "LayoutModel",
     "state": {
      "_model_module": "@jupyter-widgets/base",
      "_model_module_version": "1.2.0",
      "_model_name": "LayoutModel",
      "_view_count": null,
      "_view_module": "@jupyter-widgets/base",
      "_view_module_version": "1.2.0",
      "_view_name": "LayoutView",
      "align_content": null,
      "align_items": null,
      "align_self": null,
      "border": null,
      "bottom": null,
      "display": null,
      "flex": null,
      "flex_flow": null,
      "grid_area": null,
      "grid_auto_columns": null,
      "grid_auto_flow": null,
      "grid_auto_rows": null,
      "grid_column": null,
      "grid_gap": null,
      "grid_row": null,
      "grid_template_areas": null,
      "grid_template_columns": null,
      "grid_template_rows": null,
      "height": null,
      "justify_content": null,
      "justify_items": null,
      "left": null,
      "margin": null,
      "max_height": null,
      "max_width": null,
      "min_height": null,
      "min_width": null,
      "object_fit": null,
      "object_position": null,
      "order": null,
      "overflow": null,
      "overflow_x": null,
      "overflow_y": null,
      "padding": null,
      "right": null,
      "top": null,
      "visibility": null,
      "width": null
     }
    },
    "951376106aa8466a95a05bd569a39b51": {
     "model_module": "@jupyter-widgets/base",
     "model_name": "LayoutModel",
     "state": {
      "_model_module": "@jupyter-widgets/base",
      "_model_module_version": "1.2.0",
      "_model_name": "LayoutModel",
      "_view_count": null,
      "_view_module": "@jupyter-widgets/base",
      "_view_module_version": "1.2.0",
      "_view_name": "LayoutView",
      "align_content": null,
      "align_items": null,
      "align_self": null,
      "border": null,
      "bottom": null,
      "display": null,
      "flex": null,
      "flex_flow": null,
      "grid_area": null,
      "grid_auto_columns": null,
      "grid_auto_flow": null,
      "grid_auto_rows": null,
      "grid_column": null,
      "grid_gap": null,
      "grid_row": null,
      "grid_template_areas": null,
      "grid_template_columns": null,
      "grid_template_rows": null,
      "height": null,
      "justify_content": null,
      "justify_items": null,
      "left": null,
      "margin": null,
      "max_height": null,
      "max_width": null,
      "min_height": null,
      "min_width": null,
      "object_fit": null,
      "object_position": null,
      "order": null,
      "overflow": null,
      "overflow_x": null,
      "overflow_y": null,
      "padding": null,
      "right": null,
      "top": null,
      "visibility": null,
      "width": null
     }
    },
    "99e6b8906ad54f06af7f030c5fefc8a9": {
     "model_module": "@jupyter-widgets/controls",
     "model_name": "HTMLModel",
     "state": {
      "_dom_classes": [],
      "_model_module": "@jupyter-widgets/controls",
      "_model_module_version": "1.5.0",
      "_model_name": "HTMLModel",
      "_view_count": null,
      "_view_module": "@jupyter-widgets/controls",
      "_view_module_version": "1.5.0",
      "_view_name": "HTMLView",
      "description": "",
      "description_tooltip": null,
      "layout": "IPY_MODEL_84fb2824c8074271bc989585c95fc3e3",
      "placeholder": "​",
      "style": "IPY_MODEL_b055c19f076f49a38a39dfdb9d6fadda",
      "value": " 0/0 [00:00&lt;?, ? MiB/s]"
     }
    },
    "9a1cdf852cdb42218be33eb0ffe51066": {
     "model_module": "@jupyter-widgets/base",
     "model_name": "LayoutModel",
     "state": {
      "_model_module": "@jupyter-widgets/base",
      "_model_module_version": "1.2.0",
      "_model_name": "LayoutModel",
      "_view_count": null,
      "_view_module": "@jupyter-widgets/base",
      "_view_module_version": "1.2.0",
      "_view_name": "LayoutView",
      "align_content": null,
      "align_items": null,
      "align_self": null,
      "border": null,
      "bottom": null,
      "display": null,
      "flex": null,
      "flex_flow": null,
      "grid_area": null,
      "grid_auto_columns": null,
      "grid_auto_flow": null,
      "grid_auto_rows": null,
      "grid_column": null,
      "grid_gap": null,
      "grid_row": null,
      "grid_template_areas": null,
      "grid_template_columns": null,
      "grid_template_rows": null,
      "height": null,
      "justify_content": null,
      "justify_items": null,
      "left": null,
      "margin": null,
      "max_height": null,
      "max_width": null,
      "min_height": null,
      "min_width": null,
      "object_fit": null,
      "object_position": null,
      "order": null,
      "overflow": null,
      "overflow_x": null,
      "overflow_y": null,
      "padding": null,
      "right": null,
      "top": null,
      "visibility": null,
      "width": null
     }
    },
    "a606123a36b34fcd8bef01776c12289f": {
     "model_module": "@jupyter-widgets/base",
     "model_name": "LayoutModel",
     "state": {
      "_model_module": "@jupyter-widgets/base",
      "_model_module_version": "1.2.0",
      "_model_name": "LayoutModel",
      "_view_count": null,
      "_view_module": "@jupyter-widgets/base",
      "_view_module_version": "1.2.0",
      "_view_name": "LayoutView",
      "align_content": null,
      "align_items": null,
      "align_self": null,
      "border": null,
      "bottom": null,
      "display": null,
      "flex": null,
      "flex_flow": null,
      "grid_area": null,
      "grid_auto_columns": null,
      "grid_auto_flow": null,
      "grid_auto_rows": null,
      "grid_column": null,
      "grid_gap": null,
      "grid_row": null,
      "grid_template_areas": null,
      "grid_template_columns": null,
      "grid_template_rows": null,
      "height": null,
      "justify_content": null,
      "justify_items": null,
      "left": null,
      "margin": null,
      "max_height": null,
      "max_width": null,
      "min_height": null,
      "min_width": null,
      "object_fit": null,
      "object_position": null,
      "order": null,
      "overflow": null,
      "overflow_x": null,
      "overflow_y": null,
      "padding": null,
      "right": null,
      "top": null,
      "visibility": null,
      "width": null
     }
    },
    "a705e79c4f8342fabbd3ddb5ddc346a6": {
     "model_module": "@jupyter-widgets/controls",
     "model_name": "DescriptionStyleModel",
     "state": {
      "_model_module": "@jupyter-widgets/controls",
      "_model_module_version": "1.5.0",
      "_model_name": "DescriptionStyleModel",
      "_view_count": null,
      "_view_module": "@jupyter-widgets/base",
      "_view_module_version": "1.2.0",
      "_view_name": "StyleView",
      "description_width": ""
     }
    },
    "addd550f789b4238b304cdd8aa700f13": {
     "model_module": "@jupyter-widgets/controls",
     "model_name": "HBoxModel",
     "state": {
      "_dom_classes": [],
      "_model_module": "@jupyter-widgets/controls",
      "_model_module_version": "1.5.0",
      "_model_name": "HBoxModel",
      "_view_count": null,
      "_view_module": "@jupyter-widgets/controls",
      "_view_module_version": "1.5.0",
      "_view_name": "HBoxView",
      "box_style": "",
      "children": [
       "IPY_MODEL_ea6b5792a99149c1a3431ea4457b29ce",
       "IPY_MODEL_3677117721c94ff7859dc2eab9cd07e0"
      ],
      "layout": "IPY_MODEL_afd88866aaa04a14a3def8621977c12c"
     }
    },
    "afd88866aaa04a14a3def8621977c12c": {
     "model_module": "@jupyter-widgets/base",
     "model_name": "LayoutModel",
     "state": {
      "_model_module": "@jupyter-widgets/base",
      "_model_module_version": "1.2.0",
      "_model_name": "LayoutModel",
      "_view_count": null,
      "_view_module": "@jupyter-widgets/base",
      "_view_module_version": "1.2.0",
      "_view_name": "LayoutView",
      "align_content": null,
      "align_items": null,
      "align_self": null,
      "border": null,
      "bottom": null,
      "display": null,
      "flex": null,
      "flex_flow": null,
      "grid_area": null,
      "grid_auto_columns": null,
      "grid_auto_flow": null,
      "grid_auto_rows": null,
      "grid_column": null,
      "grid_gap": null,
      "grid_row": null,
      "grid_template_areas": null,
      "grid_template_columns": null,
      "grid_template_rows": null,
      "height": null,
      "justify_content": null,
      "justify_items": null,
      "left": null,
      "margin": null,
      "max_height": null,
      "max_width": null,
      "min_height": null,
      "min_width": null,
      "object_fit": null,
      "object_position": null,
      "order": null,
      "overflow": null,
      "overflow_x": null,
      "overflow_y": null,
      "padding": null,
      "right": null,
      "top": null,
      "visibility": null,
      "width": null
     }
    },
    "b055c19f076f49a38a39dfdb9d6fadda": {
     "model_module": "@jupyter-widgets/controls",
     "model_name": "DescriptionStyleModel",
     "state": {
      "_model_module": "@jupyter-widgets/controls",
      "_model_module_version": "1.5.0",
      "_model_name": "DescriptionStyleModel",
      "_view_count": null,
      "_view_module": "@jupyter-widgets/base",
      "_view_module_version": "1.2.0",
      "_view_name": "StyleView",
      "description_width": ""
     }
    },
    "b5383907916849bab4d898f88b0b54f9": {
     "model_module": "@jupyter-widgets/controls",
     "model_name": "HBoxModel",
     "state": {
      "_dom_classes": [],
      "_model_module": "@jupyter-widgets/controls",
      "_model_module_version": "1.5.0",
      "_model_name": "HBoxModel",
      "_view_count": null,
      "_view_module": "@jupyter-widgets/controls",
      "_view_module_version": "1.5.0",
      "_view_name": "HBoxView",
      "box_style": "",
      "children": [
       "IPY_MODEL_90456e5ae65d4349b97ca53adba4439b",
       "IPY_MODEL_57b6f8176c864b089f8d32bd06010d6f"
      ],
      "layout": "IPY_MODEL_17532e07b52947b189eb2c2faad420bd"
     }
    },
    "b7b7fff8e58340f1ad4b29d0cd789704": {
     "model_module": "@jupyter-widgets/controls",
     "model_name": "HBoxModel",
     "state": {
      "_dom_classes": [],
      "_model_module": "@jupyter-widgets/controls",
      "_model_module_version": "1.5.0",
      "_model_name": "HBoxModel",
      "_view_count": null,
      "_view_module": "@jupyter-widgets/controls",
      "_view_module_version": "1.5.0",
      "_view_name": "HBoxView",
      "box_style": "",
      "children": [
       "IPY_MODEL_dd61f9704db940c2b61126d8fc6e1ba9",
       "IPY_MODEL_51e3638dfd2b449c93c7589437130bc4"
      ],
      "layout": "IPY_MODEL_201804baf6584ccfb13efa1e9d14c9e7"
     }
    },
    "b90882557ff44458b7f01da9e3466a3a": {
     "model_module": "@jupyter-widgets/controls",
     "model_name": "HBoxModel",
     "state": {
      "_dom_classes": [],
      "_model_module": "@jupyter-widgets/controls",
      "_model_module_version": "1.5.0",
      "_model_name": "HBoxModel",
      "_view_count": null,
      "_view_module": "@jupyter-widgets/controls",
      "_view_module_version": "1.5.0",
      "_view_name": "HBoxView",
      "box_style": "",
      "children": [
       "IPY_MODEL_6de194834a6a4bb99a587739047e17ed",
       "IPY_MODEL_4d99376604ea48e1b0da90abaa02da6b"
      ],
      "layout": "IPY_MODEL_9115c8092bff4a76b4cac41e86f1c802"
     }
    },
    "bd9dbd47ff8c40c49243ce992471652e": {
     "model_module": "@jupyter-widgets/controls",
     "model_name": "DescriptionStyleModel",
     "state": {
      "_model_module": "@jupyter-widgets/controls",
      "_model_module_version": "1.5.0",
      "_model_name": "DescriptionStyleModel",
      "_view_count": null,
      "_view_module": "@jupyter-widgets/base",
      "_view_module_version": "1.2.0",
      "_view_name": "StyleView",
      "description_width": ""
     }
    },
    "c05d600f5c7c4d14be3e5d96823a1076": {
     "model_module": "@jupyter-widgets/controls",
     "model_name": "HTMLModel",
     "state": {
      "_dom_classes": [],
      "_model_module": "@jupyter-widgets/controls",
      "_model_module_version": "1.5.0",
      "_model_name": "HTMLModel",
      "_view_count": null,
      "_view_module": "@jupyter-widgets/controls",
      "_view_module_version": "1.5.0",
      "_view_name": "HTMLView",
      "description": "",
      "description_tooltip": null,
      "layout": "IPY_MODEL_33efbb667b1148a2be8dc8e9d6e440f2",
      "placeholder": "​",
      "style": "IPY_MODEL_2a22a8ee06d44e23b6da26b258fbd120",
      "value": " 3/3 [00:02&lt;00:00,  1.16s/ splits]"
     }
    },
    "c61dfc70d5174ba0a6817141c5d16db3": {
     "model_module": "@jupyter-widgets/base",
     "model_name": "LayoutModel",
     "state": {
      "_model_module": "@jupyter-widgets/base",
      "_model_module_version": "1.2.0",
      "_model_name": "LayoutModel",
      "_view_count": null,
      "_view_module": "@jupyter-widgets/base",
      "_view_module_version": "1.2.0",
      "_view_name": "LayoutView",
      "align_content": null,
      "align_items": null,
      "align_self": null,
      "border": null,
      "bottom": null,
      "display": null,
      "flex": null,
      "flex_flow": null,
      "grid_area": null,
      "grid_auto_columns": null,
      "grid_auto_flow": null,
      "grid_auto_rows": null,
      "grid_column": null,
      "grid_gap": null,
      "grid_row": null,
      "grid_template_areas": null,
      "grid_template_columns": null,
      "grid_template_rows": null,
      "height": null,
      "justify_content": null,
      "justify_items": null,
      "left": null,
      "margin": null,
      "max_height": null,
      "max_width": null,
      "min_height": null,
      "min_width": null,
      "object_fit": null,
      "object_position": null,
      "order": null,
      "overflow": null,
      "overflow_x": null,
      "overflow_y": null,
      "padding": null,
      "right": null,
      "top": null,
      "visibility": null,
      "width": null
     }
    },
    "cbeb1e7d57044b18ae7d31152591109f": {
     "model_module": "@jupyter-widgets/base",
     "model_name": "LayoutModel",
     "state": {
      "_model_module": "@jupyter-widgets/base",
      "_model_module_version": "1.2.0",
      "_model_name": "LayoutModel",
      "_view_count": null,
      "_view_module": "@jupyter-widgets/base",
      "_view_module_version": "1.2.0",
      "_view_name": "LayoutView",
      "align_content": null,
      "align_items": null,
      "align_self": null,
      "border": null,
      "bottom": null,
      "display": null,
      "flex": null,
      "flex_flow": null,
      "grid_area": null,
      "grid_auto_columns": null,
      "grid_auto_flow": null,
      "grid_auto_rows": null,
      "grid_column": null,
      "grid_gap": null,
      "grid_row": null,
      "grid_template_areas": null,
      "grid_template_columns": null,
      "grid_template_rows": null,
      "height": null,
      "justify_content": null,
      "justify_items": null,
      "left": null,
      "margin": null,
      "max_height": null,
      "max_width": null,
      "min_height": null,
      "min_width": null,
      "object_fit": null,
      "object_position": null,
      "order": null,
      "overflow": null,
      "overflow_x": null,
      "overflow_y": null,
      "padding": null,
      "right": null,
      "top": null,
      "visibility": null,
      "width": null
     }
    },
    "cd0414d2177a4102b64e3a244a683112": {
     "model_module": "@jupyter-widgets/controls",
     "model_name": "HBoxModel",
     "state": {
      "_dom_classes": [],
      "_model_module": "@jupyter-widgets/controls",
      "_model_module_version": "1.5.0",
      "_model_name": "HBoxModel",
      "_view_count": null,
      "_view_module": "@jupyter-widgets/controls",
      "_view_module_version": "1.5.0",
      "_view_name": "HBoxView",
      "box_style": "",
      "children": [
       "IPY_MODEL_88f0a6cc32424966bed50c1862155c35",
       "IPY_MODEL_c05d600f5c7c4d14be3e5d96823a1076"
      ],
      "layout": "IPY_MODEL_7876ed9e858948a8b61b094c014c0b9c"
     }
    },
    "d4375c9ce2074d0692907dc417844cf7": {
     "model_module": "@jupyter-widgets/controls",
     "model_name": "ProgressStyleModel",
     "state": {
      "_model_module": "@jupyter-widgets/controls",
      "_model_module_version": "1.5.0",
      "_model_name": "ProgressStyleModel",
      "_view_count": null,
      "_view_module": "@jupyter-widgets/base",
      "_view_module_version": "1.2.0",
      "_view_name": "StyleView",
      "bar_color": null,
      "description_width": "initial"
     }
    },
    "dd61f9704db940c2b61126d8fc6e1ba9": {
     "model_module": "@jupyter-widgets/controls",
     "model_name": "FloatProgressModel",
     "state": {
      "_dom_classes": [],
      "_model_module": "@jupyter-widgets/controls",
      "_model_module_version": "1.5.0",
      "_model_name": "FloatProgressModel",
      "_view_count": null,
      "_view_module": "@jupyter-widgets/controls",
      "_view_module_version": "1.5.0",
      "_view_name": "ProgressView",
      "bar_style": "",
      "description": "Shuffling glue-test.tfrecord...: 100%",
      "description_tooltip": null,
      "layout": "IPY_MODEL_ef8f0ee2c1634aec977d9bfe5d18e852",
      "max": 1725,
      "min": 0,
      "orientation": "horizontal",
      "style": "IPY_MODEL_55b0fdce84b9406fb80524ec194405fb",
      "value": 1725
     }
    },
    "ea6b5792a99149c1a3431ea4457b29ce": {
     "model_module": "@jupyter-widgets/controls",
     "model_name": "FloatProgressModel",
     "state": {
      "_dom_classes": [],
      "_model_module": "@jupyter-widgets/controls",
      "_model_module_version": "1.5.0",
      "_model_name": "FloatProgressModel",
      "_view_count": null,
      "_view_module": "@jupyter-widgets/controls",
      "_view_module_version": "1.5.0",
      "_view_name": "ProgressView",
      "bar_style": "",
      "description": "Shuffling glue-validation.tfrecord...: 100%",
      "description_tooltip": null,
      "layout": "IPY_MODEL_536de44dbac7407b854305254ff811aa",
      "max": 408,
      "min": 0,
      "orientation": "horizontal",
      "style": "IPY_MODEL_12dd57ae518f4b5b8a77a78a5ce54bcf",
      "value": 408
     }
    },
    "eb49ce20f8e74a7f8f4b3ca0dd0cd479": {
     "model_module": "@jupyter-widgets/controls",
     "model_name": "DescriptionStyleModel",
     "state": {
      "_model_module": "@jupyter-widgets/controls",
      "_model_module_version": "1.5.0",
      "_model_name": "DescriptionStyleModel",
      "_view_count": null,
      "_view_module": "@jupyter-widgets/base",
      "_view_module_version": "1.2.0",
      "_view_name": "StyleView",
      "description_width": ""
     }
    },
    "ebd7ec83304543c2b0eb9b0dc362d1fa": {
     "model_module": "@jupyter-widgets/base",
     "model_name": "LayoutModel",
     "state": {
      "_model_module": "@jupyter-widgets/base",
      "_model_module_version": "1.2.0",
      "_model_name": "LayoutModel",
      "_view_count": null,
      "_view_module": "@jupyter-widgets/base",
      "_view_module_version": "1.2.0",
      "_view_name": "LayoutView",
      "align_content": null,
      "align_items": null,
      "align_self": null,
      "border": null,
      "bottom": null,
      "display": null,
      "flex": null,
      "flex_flow": null,
      "grid_area": null,
      "grid_auto_columns": null,
      "grid_auto_flow": null,
      "grid_auto_rows": null,
      "grid_column": null,
      "grid_gap": null,
      "grid_row": null,
      "grid_template_areas": null,
      "grid_template_columns": null,
      "grid_template_rows": null,
      "height": null,
      "justify_content": null,
      "justify_items": null,
      "left": null,
      "margin": null,
      "max_height": null,
      "max_width": null,
      "min_height": null,
      "min_width": null,
      "object_fit": null,
      "object_position": null,
      "order": null,
      "overflow": null,
      "overflow_x": null,
      "overflow_y": null,
      "padding": null,
      "right": null,
      "top": null,
      "visibility": null,
      "width": null
     }
    },
    "ef8f0ee2c1634aec977d9bfe5d18e852": {
     "model_module": "@jupyter-widgets/base",
     "model_name": "LayoutModel",
     "state": {
      "_model_module": "@jupyter-widgets/base",
      "_model_module_version": "1.2.0",
      "_model_name": "LayoutModel",
      "_view_count": null,
      "_view_module": "@jupyter-widgets/base",
      "_view_module_version": "1.2.0",
      "_view_name": "LayoutView",
      "align_content": null,
      "align_items": null,
      "align_self": null,
      "border": null,
      "bottom": null,
      "display": null,
      "flex": null,
      "flex_flow": null,
      "grid_area": null,
      "grid_auto_columns": null,
      "grid_auto_flow": null,
      "grid_auto_rows": null,
      "grid_column": null,
      "grid_gap": null,
      "grid_row": null,
      "grid_template_areas": null,
      "grid_template_columns": null,
      "grid_template_rows": null,
      "height": null,
      "justify_content": null,
      "justify_items": null,
      "left": null,
      "margin": null,
      "max_height": null,
      "max_width": null,
      "min_height": null,
      "min_width": null,
      "object_fit": null,
      "object_position": null,
      "order": null,
      "overflow": null,
      "overflow_x": null,
      "overflow_y": null,
      "padding": null,
      "right": null,
      "top": null,
      "visibility": null,
      "width": null
     }
    },
    "f3a82a4e44394c77b189dec6609951b1": {
     "model_module": "@jupyter-widgets/base",
     "model_name": "LayoutModel",
     "state": {
      "_model_module": "@jupyter-widgets/base",
      "_model_module_version": "1.2.0",
      "_model_name": "LayoutModel",
      "_view_count": null,
      "_view_module": "@jupyter-widgets/base",
      "_view_module_version": "1.2.0",
      "_view_name": "LayoutView",
      "align_content": null,
      "align_items": null,
      "align_self": null,
      "border": null,
      "bottom": null,
      "display": null,
      "flex": null,
      "flex_flow": null,
      "grid_area": null,
      "grid_auto_columns": null,
      "grid_auto_flow": null,
      "grid_auto_rows": null,
      "grid_column": null,
      "grid_gap": null,
      "grid_row": null,
      "grid_template_areas": null,
      "grid_template_columns": null,
      "grid_template_rows": null,
      "height": null,
      "justify_content": null,
      "justify_items": null,
      "left": null,
      "margin": null,
      "max_height": null,
      "max_width": null,
      "min_height": null,
      "min_width": null,
      "object_fit": null,
      "object_position": null,
      "order": null,
      "overflow": null,
      "overflow_x": null,
      "overflow_y": null,
      "padding": null,
      "right": null,
      "top": null,
      "visibility": null,
      "width": null
     }
    },
    "f871090391a945a1a5bae59850b37db1": {
     "model_module": "@jupyter-widgets/base",
     "model_name": "LayoutModel",
     "state": {
      "_model_module": "@jupyter-widgets/base",
      "_model_module_version": "1.2.0",
      "_model_name": "LayoutModel",
      "_view_count": null,
      "_view_module": "@jupyter-widgets/base",
      "_view_module_version": "1.2.0",
      "_view_name": "LayoutView",
      "align_content": null,
      "align_items": null,
      "align_self": null,
      "border": null,
      "bottom": null,
      "display": null,
      "flex": null,
      "flex_flow": null,
      "grid_area": null,
      "grid_auto_columns": null,
      "grid_auto_flow": null,
      "grid_auto_rows": null,
      "grid_column": null,
      "grid_gap": null,
      "grid_row": null,
      "grid_template_areas": null,
      "grid_template_columns": null,
      "grid_template_rows": null,
      "height": null,
      "justify_content": null,
      "justify_items": null,
      "left": null,
      "margin": null,
      "max_height": null,
      "max_width": null,
      "min_height": null,
      "min_width": null,
      "object_fit": null,
      "object_position": null,
      "order": null,
      "overflow": null,
      "overflow_x": null,
      "overflow_y": null,
      "padding": null,
      "right": null,
      "top": null,
      "visibility": null,
      "width": null
     }
    },
    "fae11500cda842c79a9138dedd903787": {
     "model_module": "@jupyter-widgets/controls",
     "model_name": "HTMLModel",
     "state": {
      "_dom_classes": [],
      "_model_module": "@jupyter-widgets/controls",
      "_model_module_version": "1.5.0",
      "_model_name": "HTMLModel",
      "_view_count": null,
      "_view_module": "@jupyter-widgets/controls",
      "_view_module_version": "1.5.0",
      "_view_name": "HTMLView",
      "description": "",
      "description_tooltip": null,
      "layout": "IPY_MODEL_cbeb1e7d57044b18ae7d31152591109f",
      "placeholder": "​",
      "style": "IPY_MODEL_a705e79c4f8342fabbd3ddb5ddc346a6",
      "value": " 3668/3668 [00:01&lt;00:00, 2529.47 examples/s]"
     }
    }
   }
  }
 },
 "nbformat": 4,
 "nbformat_minor": 1
}
