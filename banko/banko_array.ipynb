{
 "cells": [
  {
   "cell_type": "code",
   "execution_count": 1,
   "metadata": {},
   "outputs": [],
   "source": [
    "import os\n",
    "import pandas as pd\n",
    "from collections import defaultdict, Counter\n",
    "import numpy as np\n",
    "from tqdm import tqdm"
   ]
  },
  {
   "cell_type": "code",
   "execution_count": 2,
   "metadata": {},
   "outputs": [],
   "source": [
    "np.random.seed(2021)"
   ]
  },
  {
   "cell_type": "code",
   "execution_count": 10,
   "metadata": {},
   "outputs": [],
   "source": [
    "def back_to_list(s):\n",
    "    end = s.replace('[', '').replace(']', '').replace('\\'', '').replace(' ', '').split(',')\n",
    "    if '' in end:\n",
    "        end.remove('')\n",
    "    return end\n",
    "\n",
    "\n",
    "def generate_vocab(df, include_headline=True, include_body=False):\n",
    "    vocab = set()\n",
    "    if include_headline:\n",
    "        for row in df.title:\n",
    "            vocab = vocab.union(set(row))\n",
    "    if include_body:\n",
    "        for row in df.body:\n",
    "            vocab = vocab.union(set(row)) \n",
    "    #vocab.remove('')\n",
    "    vocab = list(vocab)\n",
    "    print(f'Vocab Size: {len(vocab)}')\n",
    "    return vocab"
   ]
  },
  {
   "cell_type": "markdown",
   "metadata": {},
   "source": [
    "### Sample run"
   ]
  },
  {
   "cell_type": "code",
   "execution_count": 63,
   "metadata": {},
   "outputs": [],
   "source": [
    "#df = pd.read_csv('newshead/data/train.csv')[:500]\n",
    "df = pd.read_csv('reuters/reuters_train.csv')[:1000]"
   ]
  },
  {
   "cell_type": "code",
   "execution_count": 64,
   "metadata": {},
   "outputs": [
    {
     "data": {
      "text/html": [
       "<div>\n",
       "<style scoped>\n",
       "    .dataframe tbody tr th:only-of-type {\n",
       "        vertical-align: middle;\n",
       "    }\n",
       "\n",
       "    .dataframe tbody tr th {\n",
       "        vertical-align: top;\n",
       "    }\n",
       "\n",
       "    .dataframe thead th {\n",
       "        text-align: right;\n",
       "    }\n",
       "</style>\n",
       "<table border=\"1\" class=\"dataframe\">\n",
       "  <thead>\n",
       "    <tr style=\"text-align: right;\">\n",
       "      <th></th>\n",
       "      <th>body</th>\n",
       "      <th>title</th>\n",
       "    </tr>\n",
       "  </thead>\n",
       "  <tbody>\n",
       "    <tr>\n",
       "      <th>0</th>\n",
       "      <td>['sapporo', 'breweries', 'ltd', 'of', 'japan',...</td>\n",
       "      <td>['sapporo', 'breweries', 'issues', 'five', 'ye...</td>\n",
       "    </tr>\n",
       "    <tr>\n",
       "      <th>1</th>\n",
       "      <td>['zenith', 'laboratories', 'inc', 'said', 'the...</td>\n",
       "      <td>['zenith', 'labs', 'zen', 'will', 'report', '4...</td>\n",
       "    </tr>\n",
       "    <tr>\n",
       "      <th>2</th>\n",
       "      <td>['usx', 'corp', 'said', 'its', 'uss', 'divisio...</td>\n",
       "      <td>['usx', 'x', 'inland', 'iad', 'in', 'steel', '...</td>\n",
       "    </tr>\n",
       "    <tr>\n",
       "      <th>3</th>\n",
       "      <td>['dst', 'systems', 'inc', 'said', 'its', 'pres...</td>\n",
       "      <td>['dst', 'systems', 'dsts', 'president', 'dies']</td>\n",
       "    </tr>\n",
       "    <tr>\n",
       "      <th>4</th>\n",
       "      <td>['iraq', 'said', 'today', 'its', 'troops', 'ha...</td>\n",
       "      <td>['iraq', 'says', 'iran', 'offensive', 'on', 's...</td>\n",
       "    </tr>\n",
       "    <tr>\n",
       "      <th>...</th>\n",
       "      <td>...</td>\n",
       "      <td>...</td>\n",
       "    </tr>\n",
       "    <tr>\n",
       "      <th>995</th>\n",
       "      <td>['east', 'and', 'west', 'on', 'monday', 'decid...</td>\n",
       "      <td>['east', 'west', 'approve', 'nuclear', 'fusion...</td>\n",
       "    </tr>\n",
       "    <tr>\n",
       "      <th>996</th>\n",
       "      <td>['us', 'house', 'ways', 'and', 'means', 'chair...</td>\n",
       "      <td>['rostenkowski', 'questions', 'securities', 't...</td>\n",
       "    </tr>\n",
       "    <tr>\n",
       "      <th>997</th>\n",
       "      <td>['the', 'soviet', 'union', 'has', 'agreed', 't...</td>\n",
       "      <td>['ussr', 'to', 'cut', 'coal', 'price', 'for', ...</td>\n",
       "    </tr>\n",
       "    <tr>\n",
       "      <th>998</th>\n",
       "      <td>['shr', 'one', 'ct', 'vs', 'three', 'cts', 'ne...</td>\n",
       "      <td>['enzo', 'biochem', 'inc', 'enzo', '2nd', 'qtr...</td>\n",
       "    </tr>\n",
       "    <tr>\n",
       "      <th>999</th>\n",
       "      <td>['a', 'membership', 'seat', 'on', 'the', 'chic...</td>\n",
       "      <td>['cboe', 'membership', 'seat', 'sells', 'for',...</td>\n",
       "    </tr>\n",
       "  </tbody>\n",
       "</table>\n",
       "<p>1000 rows × 2 columns</p>\n",
       "</div>"
      ],
      "text/plain": [
       "                                                  body  \\\n",
       "0    ['sapporo', 'breweries', 'ltd', 'of', 'japan',...   \n",
       "1    ['zenith', 'laboratories', 'inc', 'said', 'the...   \n",
       "2    ['usx', 'corp', 'said', 'its', 'uss', 'divisio...   \n",
       "3    ['dst', 'systems', 'inc', 'said', 'its', 'pres...   \n",
       "4    ['iraq', 'said', 'today', 'its', 'troops', 'ha...   \n",
       "..                                                 ...   \n",
       "995  ['east', 'and', 'west', 'on', 'monday', 'decid...   \n",
       "996  ['us', 'house', 'ways', 'and', 'means', 'chair...   \n",
       "997  ['the', 'soviet', 'union', 'has', 'agreed', 't...   \n",
       "998  ['shr', 'one', 'ct', 'vs', 'three', 'cts', 'ne...   \n",
       "999  ['a', 'membership', 'seat', 'on', 'the', 'chic...   \n",
       "\n",
       "                                                 title  \n",
       "0    ['sapporo', 'breweries', 'issues', 'five', 'ye...  \n",
       "1    ['zenith', 'labs', 'zen', 'will', 'report', '4...  \n",
       "2    ['usx', 'x', 'inland', 'iad', 'in', 'steel', '...  \n",
       "3      ['dst', 'systems', 'dsts', 'president', 'dies']  \n",
       "4    ['iraq', 'says', 'iran', 'offensive', 'on', 's...  \n",
       "..                                                 ...  \n",
       "995  ['east', 'west', 'approve', 'nuclear', 'fusion...  \n",
       "996  ['rostenkowski', 'questions', 'securities', 't...  \n",
       "997  ['ussr', 'to', 'cut', 'coal', 'price', 'for', ...  \n",
       "998  ['enzo', 'biochem', 'inc', 'enzo', '2nd', 'qtr...  \n",
       "999  ['cboe', 'membership', 'seat', 'sells', 'for',...  \n",
       "\n",
       "[1000 rows x 2 columns]"
      ]
     },
     "execution_count": 64,
     "metadata": {},
     "output_type": "execute_result"
    }
   ],
   "source": [
    "df.rename(columns = {'text':'body'},inplace=True)\n",
    "df"
   ]
  },
  {
   "cell_type": "code",
   "execution_count": 65,
   "metadata": {},
   "outputs": [
    {
     "data": {
      "text/html": [
       "<div>\n",
       "<style scoped>\n",
       "    .dataframe tbody tr th:only-of-type {\n",
       "        vertical-align: middle;\n",
       "    }\n",
       "\n",
       "    .dataframe tbody tr th {\n",
       "        vertical-align: top;\n",
       "    }\n",
       "\n",
       "    .dataframe thead th {\n",
       "        text-align: right;\n",
       "    }\n",
       "</style>\n",
       "<table border=\"1\" class=\"dataframe\">\n",
       "  <thead>\n",
       "    <tr style=\"text-align: right;\">\n",
       "      <th></th>\n",
       "      <th>body</th>\n",
       "      <th>title</th>\n",
       "    </tr>\n",
       "  </thead>\n",
       "  <tbody>\n",
       "    <tr>\n",
       "      <th>0</th>\n",
       "      <td>[sapporo, breweries, ltd, of, japan, is, issui...</td>\n",
       "      <td>[sapporo, breweries, issues, five, year, sfr, ...</td>\n",
       "    </tr>\n",
       "    <tr>\n",
       "      <th>1</th>\n",
       "      <td>[zenith, laboratories, inc, said, the, company...</td>\n",
       "      <td>[zenith, labs, zen, will, report, 4th, qtr, loss]</td>\n",
       "    </tr>\n",
       "    <tr>\n",
       "      <th>2</th>\n",
       "      <td>[usx, corp, said, its, uss, division, and, inl...</td>\n",
       "      <td>[usx, x, inland, iad, in, steel, coil, venture]</td>\n",
       "    </tr>\n",
       "    <tr>\n",
       "      <th>3</th>\n",
       "      <td>[dst, systems, inc, said, its, president, and,...</td>\n",
       "      <td>[dst, systems, dsts, president, dies]</td>\n",
       "    </tr>\n",
       "    <tr>\n",
       "      <th>4</th>\n",
       "      <td>[iraq, said, today, its, troops, had, killed, ...</td>\n",
       "      <td>[iraq, says, iran, offensive, on, southern, fr...</td>\n",
       "    </tr>\n",
       "  </tbody>\n",
       "</table>\n",
       "</div>"
      ],
      "text/plain": [
       "                                                body  \\\n",
       "0  [sapporo, breweries, ltd, of, japan, is, issui...   \n",
       "1  [zenith, laboratories, inc, said, the, company...   \n",
       "2  [usx, corp, said, its, uss, division, and, inl...   \n",
       "3  [dst, systems, inc, said, its, president, and,...   \n",
       "4  [iraq, said, today, its, troops, had, killed, ...   \n",
       "\n",
       "                                               title  \n",
       "0  [sapporo, breweries, issues, five, year, sfr, ...  \n",
       "1  [zenith, labs, zen, will, report, 4th, qtr, loss]  \n",
       "2    [usx, x, inland, iad, in, steel, coil, venture]  \n",
       "3              [dst, systems, dsts, president, dies]  \n",
       "4  [iraq, says, iran, offensive, on, southern, fr...  "
      ]
     },
     "execution_count": 65,
     "metadata": {},
     "output_type": "execute_result"
    }
   ],
   "source": [
    "def load_csv(df):\n",
    "    df.body = df.body.apply(lambda x: back_to_list(x))\n",
    "    df.title = df.title.apply(lambda x: back_to_list(x))\n",
    "    return df\n",
    "df = load_csv(df)\n",
    "df.head()"
   ]
  },
  {
   "cell_type": "code",
   "execution_count": 66,
   "metadata": {},
   "outputs": [
    {
     "data": {
      "text/plain": [
       "['sapporo', 'breweries', 'issues', 'five', 'year', 'sfr', 'notes']"
      ]
     },
     "execution_count": 66,
     "metadata": {},
     "output_type": "execute_result"
    }
   ],
   "source": [
    "df.title[0]"
   ]
  },
  {
   "cell_type": "code",
   "execution_count": 67,
   "metadata": {},
   "outputs": [
    {
     "name": "stdout",
     "output_type": "stream",
     "text": [
      "Vocab Size: 2849\n"
     ]
    }
   ],
   "source": [
    "vocabH = generate_vocab(df,include_body=False)"
   ]
  },
  {
   "cell_type": "code",
   "execution_count": 68,
   "metadata": {},
   "outputs": [
    {
     "name": "stdout",
     "output_type": "stream",
     "text": [
      "Vocab Size: 13530\n"
     ]
    }
   ],
   "source": [
    "vocabHD = generate_vocab(df,include_headline=True, include_body=True)"
   ]
  },
  {
   "cell_type": "code",
   "execution_count": 69,
   "metadata": {},
   "outputs": [],
   "source": [
    "#Create vocab indexer\n",
    "vocab_lookupHD = {i:v for i,v in enumerate(vocabHD)}\n",
    "vocab_indexerHD = {v:i for i,v in enumerate(vocabHD)}"
   ]
  },
  {
   "cell_type": "code",
   "execution_count": 70,
   "metadata": {},
   "outputs": [],
   "source": [
    "#encode in training - where all are known words\n",
    "def encode(df, vocab_indexer, set_D = True):\n",
    "    df.title = df.title.apply(lambda x: [vocab_indexer[i] for i in x])\n",
    "    df.body = df.body.apply(lambda x: [vocab_indexer[i] for i in x])\n",
    "    df['body_full'] = df.body\n",
    "    if set_D:\n",
    "        df.body = df.body.apply(lambda x: set(x))\n",
    "    return df"
   ]
  },
  {
   "cell_type": "code",
   "execution_count": 71,
   "metadata": {},
   "outputs": [
    {
     "data": {
      "text/html": [
       "<div>\n",
       "<style scoped>\n",
       "    .dataframe tbody tr th:only-of-type {\n",
       "        vertical-align: middle;\n",
       "    }\n",
       "\n",
       "    .dataframe tbody tr th {\n",
       "        vertical-align: top;\n",
       "    }\n",
       "\n",
       "    .dataframe thead th {\n",
       "        text-align: right;\n",
       "    }\n",
       "</style>\n",
       "<table border=\"1\" class=\"dataframe\">\n",
       "  <thead>\n",
       "    <tr style=\"text-align: right;\">\n",
       "      <th></th>\n",
       "      <th>body</th>\n",
       "      <th>title</th>\n",
       "      <th>body_full</th>\n",
       "    </tr>\n",
       "  </thead>\n",
       "  <tbody>\n",
       "    <tr>\n",
       "      <th>0</th>\n",
       "      <td>{13060, 9478, 10248, 13455, 12943, 7057, 4506,...</td>\n",
       "      <td>[11587, 13455, 1111, 4980, 8928, 10534, 3137]</td>\n",
       "      <td>[11587, 13455, 11969, 13060, 7914, 7057, 12943...</td>\n",
       "    </tr>\n",
       "    <tr>\n",
       "      <th>1</th>\n",
       "      <td>{6666, 5646, 3092, 11290, 2592, 7712, 545, 617...</td>\n",
       "      <td>[8145, 4331, 1887, 9002, 5185, 3843, 7100, 5495]</td>\n",
       "      <td>[8145, 3547, 4019, 4175, 9478, 3321, 9002, 518...</td>\n",
       "    </tr>\n",
       "    <tr>\n",
       "      <th>2</th>\n",
       "      <td>{4353, 13060, 9478, 10381, 4366, 399, 5646, 13...</td>\n",
       "      <td>[6995, 6290, 1240, 12940, 10174, 5670, 182, 10...</td>\n",
       "      <td>[6995, 11606, 4175, 12477, 794, 6090, 7971, 12...</td>\n",
       "    </tr>\n",
       "    <tr>\n",
       "      <th>3</th>\n",
       "      <td>{12289, 13060, 9478, 11014, 12809, 4506, 1563,...</td>\n",
       "      <td>[8012, 7350, 4093, 9980, 13089]</td>\n",
       "      <td>[8012, 7350, 4019, 4175, 12477, 9980, 7971, 11...</td>\n",
       "    </tr>\n",
       "    <tr>\n",
       "      <th>4</th>\n",
       "      <td>{2434, 13060, 12036, 9478, 652, 8718, 13328, 1...</td>\n",
       "      <td>[11416, 11786, 8948, 453, 10391, 12496, 7516, 5]</td>\n",
       "      <td>[11416, 4175, 2655, 12477, 3436, 4432, 7530, 2...</td>\n",
       "    </tr>\n",
       "    <tr>\n",
       "      <th>...</th>\n",
       "      <td>...</td>\n",
       "      <td>...</td>\n",
       "      <td>...</td>\n",
       "    </tr>\n",
       "    <tr>\n",
       "      <th>995</th>\n",
       "      <td>{7687, 8, 10765, 9234, 2068, 1556, 1047, 4121,...</td>\n",
       "      <td>[13446, 1165, 4234, 9676, 9577, 10522, 2305]</td>\n",
       "      <td>[13446, 7971, 1165, 10391, 10872, 11635, 5502,...</td>\n",
       "    </tr>\n",
       "    <tr>\n",
       "      <th>996</th>\n",
       "      <td>{13060, 9478, 2694, 4363, 10381, 5133, 2450, 9...</td>\n",
       "      <td>[2047, 11976, 3238, 3701]</td>\n",
       "      <td>[105, 12622, 4462, 7971, 5308, 10228, 3432, 20...</td>\n",
       "    </tr>\n",
       "    <tr>\n",
       "      <th>997</th>\n",
       "      <td>{10880, 9472, 2946, 7428, 13060, 9478, 6412, 1...</td>\n",
       "      <td>[4628, 5502, 6362, 9398, 4925, 6328, 7428, 6451]</td>\n",
       "      <td>[9478, 2946, 7570, 10381, 5460, 5502, 6362, 12...</td>\n",
       "    </tr>\n",
       "    <tr>\n",
       "      <th>998</th>\n",
       "      <td>{4102, 8716, 4506, 6179, 677, 7338, 12080, 568...</td>\n",
       "      <td>[13199, 905, 4019, 13199, 6137, 7100, 12139, 8...</td>\n",
       "      <td>[1333, 5245, 10069, 5685, 7223, 6179, 1272, 41...</td>\n",
       "    </tr>\n",
       "    <tr>\n",
       "      <th>999</th>\n",
       "      <td>{2177, 13060, 9478, 9223, 7057, 1558, 10391, 4...</td>\n",
       "      <td>[6737, 6220, 2756, 1054, 6328, 9223, 8462]</td>\n",
       "      <td>[5672, 6220, 2756, 10391, 9478, 2913, 12030, 1...</td>\n",
       "    </tr>\n",
       "  </tbody>\n",
       "</table>\n",
       "<p>1000 rows × 3 columns</p>\n",
       "</div>"
      ],
      "text/plain": [
       "                                                  body  \\\n",
       "0    {13060, 9478, 10248, 13455, 12943, 7057, 4506,...   \n",
       "1    {6666, 5646, 3092, 11290, 2592, 7712, 545, 617...   \n",
       "2    {4353, 13060, 9478, 10381, 4366, 399, 5646, 13...   \n",
       "3    {12289, 13060, 9478, 11014, 12809, 4506, 1563,...   \n",
       "4    {2434, 13060, 12036, 9478, 652, 8718, 13328, 1...   \n",
       "..                                                 ...   \n",
       "995  {7687, 8, 10765, 9234, 2068, 1556, 1047, 4121,...   \n",
       "996  {13060, 9478, 2694, 4363, 10381, 5133, 2450, 9...   \n",
       "997  {10880, 9472, 2946, 7428, 13060, 9478, 6412, 1...   \n",
       "998  {4102, 8716, 4506, 6179, 677, 7338, 12080, 568...   \n",
       "999  {2177, 13060, 9478, 9223, 7057, 1558, 10391, 4...   \n",
       "\n",
       "                                                 title  \\\n",
       "0        [11587, 13455, 1111, 4980, 8928, 10534, 3137]   \n",
       "1     [8145, 4331, 1887, 9002, 5185, 3843, 7100, 5495]   \n",
       "2    [6995, 6290, 1240, 12940, 10174, 5670, 182, 10...   \n",
       "3                      [8012, 7350, 4093, 9980, 13089]   \n",
       "4     [11416, 11786, 8948, 453, 10391, 12496, 7516, 5]   \n",
       "..                                                 ...   \n",
       "995       [13446, 1165, 4234, 9676, 9577, 10522, 2305]   \n",
       "996                          [2047, 11976, 3238, 3701]   \n",
       "997   [4628, 5502, 6362, 9398, 4925, 6328, 7428, 6451]   \n",
       "998  [13199, 905, 4019, 13199, 6137, 7100, 12139, 8...   \n",
       "999         [6737, 6220, 2756, 1054, 6328, 9223, 8462]   \n",
       "\n",
       "                                             body_full  \n",
       "0    [11587, 13455, 11969, 13060, 7914, 7057, 12943...  \n",
       "1    [8145, 3547, 4019, 4175, 9478, 3321, 9002, 518...  \n",
       "2    [6995, 11606, 4175, 12477, 794, 6090, 7971, 12...  \n",
       "3    [8012, 7350, 4019, 4175, 12477, 9980, 7971, 11...  \n",
       "4    [11416, 4175, 2655, 12477, 3436, 4432, 7530, 2...  \n",
       "..                                                 ...  \n",
       "995  [13446, 7971, 1165, 10391, 10872, 11635, 5502,...  \n",
       "996  [105, 12622, 4462, 7971, 5308, 10228, 3432, 20...  \n",
       "997  [9478, 2946, 7570, 10381, 5460, 5502, 6362, 12...  \n",
       "998  [1333, 5245, 10069, 5685, 7223, 6179, 1272, 41...  \n",
       "999  [5672, 6220, 2756, 10391, 9478, 2913, 12030, 1...  \n",
       "\n",
       "[1000 rows x 3 columns]"
      ]
     },
     "execution_count": 71,
     "metadata": {},
     "output_type": "execute_result"
    }
   ],
   "source": [
    "encoded_df = encode(df, vocab_indexerHD)\n",
    "encoded_df"
   ]
  },
  {
   "cell_type": "code",
   "execution_count": 72,
   "metadata": {},
   "outputs": [
    {
     "data": {
      "text/plain": [
       "(78, 110)"
      ]
     },
     "execution_count": 72,
     "metadata": {},
     "output_type": "execute_result"
    }
   ],
   "source": [
    "#Compare body and body_full\n",
    "len(encoded_df.body[1]), len(encoded_df.body_full[1])"
   ]
  },
  {
   "cell_type": "code",
   "execution_count": 96,
   "metadata": {},
   "outputs": [],
   "source": [
    "#Compute p_w_H_given_D:\n",
    "Hn = len(vocabHD)\n",
    "LM = np.zeros((Hn, Hn)) #LM #transition_matrix\n",
    "HD = np.zeros((Hn, Hn))    #H|D #emission matrix\n",
    "pi = np.zeros(Hn)\n",
    "\n",
    "def train(D, D_full, H, Hn):\n",
    "        \"\"\"\n",
    "        Method that fits the model on training data and compute transition and emission matrices\n",
    "        @param X (D): array-like with dimension [# of examples, # of length]\n",
    "        @param z (H): array-like with dimension [# of examples, # of length]\n",
    "        \"\"\"\n",
    "        \n",
    "        pi = np.zeros(Hn)+1\n",
    "        wHD = np.zeros(Hn)+1\n",
    "        wD = np.zeros(Hn)+1\n",
    "        LM = np.zeros((Hn, Hn))+1e-10\n",
    "        # Find pi and LM\n",
    "        \n",
    "        for i in range(len(H)): #loop through the headline\n",
    "            for j in range(len(H[i])): #loop through each word in the headline\n",
    "                # update initial state probability\n",
    "                if j==0:\n",
    "                    pi[H[i][j]] += 1\n",
    "                # update transition matrix\n",
    "                if j < len(H[i])-1:\n",
    "                    LM[H[i][j], H[i][j+1]] += 1\n",
    "                    \n",
    "        for i in tqdm(range(len(D_full))): #loop through the document\n",
    "            for j in range(len(D_full[i])): #loop through each word in the document\n",
    "                # update initial state probability\n",
    "                if j==0:\n",
    "                    pi[D_full[i][j]] += 1\n",
    "                # update transition matrix\n",
    "                if j < len(D_full[i])-1:\n",
    "                    LM[D_full[i][j], D_full[i][j+1]] += 1\n",
    "                    \n",
    "        # Find p(w in H| w in D)\n",
    "        for i in tqdm(range(Hn)): #loop through the headline vocab\n",
    "            for j in range(len(D)): #loop through each article \n",
    "                if i in D[j]: #now a set\n",
    "                    wD[i]+=1\n",
    "                    if i in H[j]:\n",
    "                        wHD[i]+=1              \n",
    "              \n",
    "        # Compute probability\n",
    "        # Initial vector\n",
    "        #pi = np.where(pi ==0.0, 1., pi)\n",
    "        pi /= np.sum(pi)\n",
    "        \n",
    "        # Transition matrix or LM model\n",
    "        #LM = np.where(LM ==0.0, 1., LM) #can't do this\n",
    "        row_sums_LM = np.sum(LM, axis=1)\n",
    "        LM = LM/ row_sums_LM[:, np.newaxis]\n",
    "        \n",
    "        # p(w in H | w in D):\n",
    "        wHD = wHD / wD\n",
    "        \n",
    "        # Find length:\n",
    "        Hlen = [len(h) for h in H]\n",
    "        Hlen_count = Counter(Hlen)\n",
    "        max_len = max(Hlen_count.keys())\n",
    "        Hlen_dist = {leng: count for leng, count in Hlen_count.items()}\n",
    "        pHlen = np.zeros(max_len)\n",
    "        for i in range(max_len):\n",
    "            if i in Hlen_dist:\n",
    "                pHlen[i] = Hlen_dist[i]\n",
    "        pHlen+= 1e-10  \n",
    "        pHlen/=max_len\n",
    "        \n",
    "        return wHD, pi, LM, pHlen\n"
   ]
  },
  {
   "cell_type": "code",
   "execution_count": 97,
   "metadata": {
    "scrolled": true
   },
   "outputs": [
    {
     "name": "stderr",
     "output_type": "stream",
     "text": [
      "100%|█████████████████████████████████████████████████████████████████████████████| 1000/1000 [00:03<00:00, 278.84it/s]\n",
      "100%|███████████████████████████████████████████████████████████████████████████| 13530/13530 [01:36<00:00, 139.98it/s]\n"
     ]
    }
   ],
   "source": [
    "wHD, pi, LM, pHlen = train(encoded_df.body,encoded_df['body_full'], encoded_df.title, Hn)"
   ]
  },
  {
   "cell_type": "code",
   "execution_count": 98,
   "metadata": {},
   "outputs": [
    {
     "data": {
      "text/plain": [
       "10590"
      ]
     },
     "execution_count": 98,
     "metadata": {},
     "output_type": "execute_result"
    }
   ],
   "source": [
    "vocab_indexerHD['millions']"
   ]
  },
  {
   "cell_type": "code",
   "execution_count": 99,
   "metadata": {},
   "outputs": [
    {
     "data": {
      "text/plain": [
       "'millions'"
      ]
     },
     "execution_count": 99,
     "metadata": {},
     "output_type": "execute_result"
    }
   ],
   "source": [
    "vocab_lookupHD[10590]"
   ]
  },
  {
   "cell_type": "code",
   "execution_count": 100,
   "metadata": {},
   "outputs": [
    {
     "data": {
      "text/plain": [
       "['dart', 'in', 'of']"
      ]
     },
     "execution_count": 100,
     "metadata": {},
     "output_type": "execute_result"
    }
   ],
   "source": [
    "[vocab_lookupHD[i] for i in np.where(LM[10590,:] == np.max(LM[10590,:]))[0]]"
   ]
  },
  {
   "cell_type": "code",
   "execution_count": 101,
   "metadata": {},
   "outputs": [],
   "source": [
    "# Viterbi algorithm\n",
    "\n",
    "def viterbi_headline_gen(vocab, D, Hn, pi, LM, wHD, pHlen, n, vocab_lookup):\n",
    "        \"\"\"\n",
    "        Use Viterbi to pre+1e-10dict a headline (w in H sequence) for each document\n",
    "        H = vocab\n",
    "        D = test document\n",
    "        LM = transition_matrix #Hn x Hn\n",
    "        wHD = emission_matrix #Hn x n\n",
    "        Hn = number of all words in training (H+D)\n",
    "        \"\"\"\n",
    "        #check input\n",
    "        print('Length of vocab: ',len(vocab))\n",
    "        print('Length of test document vocab: ',len(D))\n",
    "        print('Max length of headline: ', n)\n",
    "        \n",
    "        # init holders        \n",
    "\n",
    "        # Forward\n",
    "        # Initialize\n",
    "        H = vocab\n",
    "        V = np.zeros((n, Hn))\n",
    "        best_state = np.zeros(n)\n",
    "        best_states = np.zeros((n, Hn))\n",
    "        z = []\n",
    "        \n",
    "        #V[0,:] = wHD * pi\n",
    "        for i in range(n): #n = length      \n",
    "            for j in D: #loop through each word in document (because we only care about those in D)\n",
    "                # Use log form\n",
    "                p_wHD = wHD[j]\n",
    "                \n",
    "                if i==0:                \n",
    "                    V[i][j] = p_wHD #+np.log(pi[j]) #initiate p(first position = j) * p(w in H | w in D)\n",
    "                    best_states[i][j] = int(np.argmax(p_wHD)) \n",
    "                else:\n",
    "                    p_wLM = V[i-1,:] * LM[:,j]\n",
    "                    V[i][j] = p_wHD * np.max(p_wLM) #p_wHD\n",
    "                    #print('j', j, int(np.argmax(p_wLM)))\n",
    "                    best_states[i][j] = int(np.argmax(p_wLM)) \n",
    "                #print('Time:', i, vocab_lookup[j], V[i][j])   \n",
    "                \n",
    "            #best_state[i] = int(np.argmax(V[i,:]))\n",
    "               \n",
    "\n",
    "        #z is the best headline generated for each len -> need to figure out how to compare among the z(s)\n",
    "        #Backward\n",
    "        #print('final state: ',np.argmax(V[-1,:]))\n",
    "        z.append(np.argmax(V[-1,:]))\n",
    "        for i in reversed(range(1,n)):\n",
    "            z_prev = z[-1]\n",
    "            #print('z_prev', z_prev, int(best_states[i][z_prev]))\n",
    "            z.append(int(best_states[i][z_prev]))\n",
    "        \n",
    "        z.reverse()\n",
    "        #h_candidate[n] = best_state\n",
    "        return z , V"
   ]
  },
  {
   "cell_type": "code",
   "execution_count": 102,
   "metadata": {},
   "outputs": [],
   "source": [
    "#test\n",
    "Dtest = encoded_df['body_full']\n",
    "Htest = encoded_df.title\n",
    "dtest = Dtest[0]\n",
    "htest = Htest[0]"
   ]
  },
  {
   "cell_type": "code",
   "execution_count": 103,
   "metadata": {},
   "outputs": [],
   "source": [
    "#check dtest\n",
    "dtest_word = [vocab_lookupHD[i] for i in dtest]\n",
    "dtest_title = [vocab_lookupHD[i] for i in htest]"
   ]
  },
  {
   "cell_type": "code",
   "execution_count": 104,
   "metadata": {},
   "outputs": [
    {
     "data": {
      "text/plain": [
       "['sapporo', 'breweries', 'issues', 'five', 'year', 'sfr', 'notes']"
      ]
     },
     "execution_count": 104,
     "metadata": {},
     "output_type": "execute_result"
    }
   ],
   "source": [
    "dtest_title"
   ]
  },
  {
   "cell_type": "code",
   "execution_count": 109,
   "metadata": {},
   "outputs": [
    {
     "name": "stdout",
     "output_type": "stream",
     "text": [
      "Length of vocab:  13530\n",
      "Length of test document vocab:  44\n",
      "Max length of headline:  6\n"
     ]
    }
   ],
   "source": [
    "test_candidate, V = viterbi_headline_gen(vocabHD, dtest, Hn, pi, LM, wHD, pHlen, 6, vocab_lookupHD)"
   ]
  },
  {
   "cell_type": "code",
   "execution_count": 110,
   "metadata": {},
   "outputs": [
    {
     "name": "stdout",
     "output_type": "stream",
     "text": [
      "Correct is:\n",
      "['sapporo', 'breweries', 'issues', 'five', 'year', 'sfr', 'notes']\n",
      "Predicted is:\n",
      "['sapporo', 'breweries', 'ltd', 'and', '10014', 'issue']\n"
     ]
    }
   ],
   "source": [
    "#deccode\n",
    "print('Correct is:')\n",
    "print(dtest_title)\n",
    "print('Predicted is:')\n",
    "headline = [vocab_lookupHD[s] for s in test_candidate]\n",
    "print(headline)\n"
   ]
  },
  {
   "cell_type": "code",
   "execution_count": null,
   "metadata": {},
   "outputs": [],
   "source": []
  },
  {
   "cell_type": "code",
   "execution_count": null,
   "metadata": {},
   "outputs": [],
   "source": []
  }
 ],
 "metadata": {
  "kernelspec": {
   "display_name": "Python 3",
   "language": "python",
   "name": "python3"
  },
  "language_info": {
   "codemirror_mode": {
    "name": "ipython",
    "version": 3
   },
   "file_extension": ".py",
   "mimetype": "text/x-python",
   "name": "python",
   "nbconvert_exporter": "python",
   "pygments_lexer": "ipython3",
   "version": "3.7.4"
  }
 },
 "nbformat": 4,
 "nbformat_minor": 4
}
